{
 "cells": [
  {
   "cell_type": "code",
   "execution_count": 84,
   "metadata": {},
   "outputs": [],
   "source": [
    "import pandas as pd\n",
    "import numpy as np\n",
    "\n",
    "import matplotlib.pyplot as plt\n",
    "import seaborn as sns"
   ]
  },
  {
   "cell_type": "code",
   "execution_count": 85,
   "metadata": {},
   "outputs": [],
   "source": [
    "from tensorflow.keras.datasets import mnist"
   ]
  },
  {
   "cell_type": "code",
   "execution_count": 86,
   "metadata": {},
   "outputs": [],
   "source": [
    "(x_train, y_train), (x_test, y_test) = mnist.load_data()"
   ]
  },
  {
   "cell_type": "markdown",
   "metadata": {},
   "source": [
    "## Visualising the data"
   ]
  },
  {
   "cell_type": "code",
   "execution_count": 87,
   "metadata": {},
   "outputs": [
    {
     "data": {
      "text/plain": [
       "(60000, 28, 28)"
      ]
     },
     "execution_count": 87,
     "metadata": {},
     "output_type": "execute_result"
    }
   ],
   "source": [
    "x_train.shape"
   ]
  },
  {
   "cell_type": "code",
   "execution_count": 147,
   "metadata": {},
   "outputs": [
    {
     "data": {
      "text/plain": [
       "(28, 28, 1)"
      ]
     },
     "execution_count": 147,
     "metadata": {},
     "output_type": "execute_result"
    }
   ],
   "source": [
    "x_test[0].shape"
   ]
  },
  {
   "cell_type": "code",
   "execution_count": null,
   "metadata": {},
   "outputs": [],
   "source": []
  },
  {
   "cell_type": "code",
   "execution_count": 89,
   "metadata": {},
   "outputs": [],
   "source": [
    "single_image = x_train[0]"
   ]
  },
  {
   "cell_type": "code",
   "execution_count": 90,
   "metadata": {},
   "outputs": [
    {
     "data": {
      "text/plain": [
       "array([[  0,   0,   0,   0,   0,   0,   0,   0,   0,   0,   0,   0,   0,\n",
       "          0,   0,   0,   0,   0,   0,   0,   0,   0,   0,   0,   0,   0,\n",
       "          0,   0],\n",
       "       [  0,   0,   0,   0,   0,   0,   0,   0,   0,   0,   0,   0,   0,\n",
       "          0,   0,   0,   0,   0,   0,   0,   0,   0,   0,   0,   0,   0,\n",
       "          0,   0],\n",
       "       [  0,   0,   0,   0,   0,   0,   0,   0,   0,   0,   0,   0,   0,\n",
       "          0,   0,   0,   0,   0,   0,   0,   0,   0,   0,   0,   0,   0,\n",
       "          0,   0],\n",
       "       [  0,   0,   0,   0,   0,   0,   0,   0,   0,   0,   0,   0,   0,\n",
       "          0,   0,   0,   0,   0,   0,   0,   0,   0,   0,   0,   0,   0,\n",
       "          0,   0],\n",
       "       [  0,   0,   0,   0,   0,   0,   0,   0,   0,   0,   0,   0,   0,\n",
       "          0,   0,   0,   0,   0,   0,   0,   0,   0,   0,   0,   0,   0,\n",
       "          0,   0],\n",
       "       [  0,   0,   0,   0,   0,   0,   0,   0,   0,   0,   0,   0,   3,\n",
       "         18,  18,  18, 126, 136, 175,  26, 166, 255, 247, 127,   0,   0,\n",
       "          0,   0],\n",
       "       [  0,   0,   0,   0,   0,   0,   0,   0,  30,  36,  94, 154, 170,\n",
       "        253, 253, 253, 253, 253, 225, 172, 253, 242, 195,  64,   0,   0,\n",
       "          0,   0],\n",
       "       [  0,   0,   0,   0,   0,   0,   0,  49, 238, 253, 253, 253, 253,\n",
       "        253, 253, 253, 253, 251,  93,  82,  82,  56,  39,   0,   0,   0,\n",
       "          0,   0],\n",
       "       [  0,   0,   0,   0,   0,   0,   0,  18, 219, 253, 253, 253, 253,\n",
       "        253, 198, 182, 247, 241,   0,   0,   0,   0,   0,   0,   0,   0,\n",
       "          0,   0],\n",
       "       [  0,   0,   0,   0,   0,   0,   0,   0,  80, 156, 107, 253, 253,\n",
       "        205,  11,   0,  43, 154,   0,   0,   0,   0,   0,   0,   0,   0,\n",
       "          0,   0],\n",
       "       [  0,   0,   0,   0,   0,   0,   0,   0,   0,  14,   1, 154, 253,\n",
       "         90,   0,   0,   0,   0,   0,   0,   0,   0,   0,   0,   0,   0,\n",
       "          0,   0],\n",
       "       [  0,   0,   0,   0,   0,   0,   0,   0,   0,   0,   0, 139, 253,\n",
       "        190,   2,   0,   0,   0,   0,   0,   0,   0,   0,   0,   0,   0,\n",
       "          0,   0],\n",
       "       [  0,   0,   0,   0,   0,   0,   0,   0,   0,   0,   0,  11, 190,\n",
       "        253,  70,   0,   0,   0,   0,   0,   0,   0,   0,   0,   0,   0,\n",
       "          0,   0],\n",
       "       [  0,   0,   0,   0,   0,   0,   0,   0,   0,   0,   0,   0,  35,\n",
       "        241, 225, 160, 108,   1,   0,   0,   0,   0,   0,   0,   0,   0,\n",
       "          0,   0],\n",
       "       [  0,   0,   0,   0,   0,   0,   0,   0,   0,   0,   0,   0,   0,\n",
       "         81, 240, 253, 253, 119,  25,   0,   0,   0,   0,   0,   0,   0,\n",
       "          0,   0],\n",
       "       [  0,   0,   0,   0,   0,   0,   0,   0,   0,   0,   0,   0,   0,\n",
       "          0,  45, 186, 253, 253, 150,  27,   0,   0,   0,   0,   0,   0,\n",
       "          0,   0],\n",
       "       [  0,   0,   0,   0,   0,   0,   0,   0,   0,   0,   0,   0,   0,\n",
       "          0,   0,  16,  93, 252, 253, 187,   0,   0,   0,   0,   0,   0,\n",
       "          0,   0],\n",
       "       [  0,   0,   0,   0,   0,   0,   0,   0,   0,   0,   0,   0,   0,\n",
       "          0,   0,   0,   0, 249, 253, 249,  64,   0,   0,   0,   0,   0,\n",
       "          0,   0],\n",
       "       [  0,   0,   0,   0,   0,   0,   0,   0,   0,   0,   0,   0,   0,\n",
       "          0,  46, 130, 183, 253, 253, 207,   2,   0,   0,   0,   0,   0,\n",
       "          0,   0],\n",
       "       [  0,   0,   0,   0,   0,   0,   0,   0,   0,   0,   0,   0,  39,\n",
       "        148, 229, 253, 253, 253, 250, 182,   0,   0,   0,   0,   0,   0,\n",
       "          0,   0],\n",
       "       [  0,   0,   0,   0,   0,   0,   0,   0,   0,   0,  24, 114, 221,\n",
       "        253, 253, 253, 253, 201,  78,   0,   0,   0,   0,   0,   0,   0,\n",
       "          0,   0],\n",
       "       [  0,   0,   0,   0,   0,   0,   0,   0,  23,  66, 213, 253, 253,\n",
       "        253, 253, 198,  81,   2,   0,   0,   0,   0,   0,   0,   0,   0,\n",
       "          0,   0],\n",
       "       [  0,   0,   0,   0,   0,   0,  18, 171, 219, 253, 253, 253, 253,\n",
       "        195,  80,   9,   0,   0,   0,   0,   0,   0,   0,   0,   0,   0,\n",
       "          0,   0],\n",
       "       [  0,   0,   0,   0,  55, 172, 226, 253, 253, 253, 253, 244, 133,\n",
       "         11,   0,   0,   0,   0,   0,   0,   0,   0,   0,   0,   0,   0,\n",
       "          0,   0],\n",
       "       [  0,   0,   0,   0, 136, 253, 253, 253, 212, 135, 132,  16,   0,\n",
       "          0,   0,   0,   0,   0,   0,   0,   0,   0,   0,   0,   0,   0,\n",
       "          0,   0],\n",
       "       [  0,   0,   0,   0,   0,   0,   0,   0,   0,   0,   0,   0,   0,\n",
       "          0,   0,   0,   0,   0,   0,   0,   0,   0,   0,   0,   0,   0,\n",
       "          0,   0],\n",
       "       [  0,   0,   0,   0,   0,   0,   0,   0,   0,   0,   0,   0,   0,\n",
       "          0,   0,   0,   0,   0,   0,   0,   0,   0,   0,   0,   0,   0,\n",
       "          0,   0],\n",
       "       [  0,   0,   0,   0,   0,   0,   0,   0,   0,   0,   0,   0,   0,\n",
       "          0,   0,   0,   0,   0,   0,   0,   0,   0,   0,   0,   0,   0,\n",
       "          0,   0]], dtype=uint8)"
      ]
     },
     "execution_count": 90,
     "metadata": {},
     "output_type": "execute_result"
    }
   ],
   "source": [
    "single_image"
   ]
  },
  {
   "cell_type": "code",
   "execution_count": 91,
   "metadata": {},
   "outputs": [
    {
     "data": {
      "text/plain": [
       "(28, 28)"
      ]
     },
     "execution_count": 91,
     "metadata": {},
     "output_type": "execute_result"
    }
   ],
   "source": [
    "single_image.shape"
   ]
  },
  {
   "cell_type": "code",
   "execution_count": 92,
   "metadata": {},
   "outputs": [
    {
     "data": {
      "text/plain": [
       "<matplotlib.image.AxesImage at 0x161da17ecc8>"
      ]
     },
     "execution_count": 92,
     "metadata": {},
     "output_type": "execute_result"
    },
    {
     "data": {
      "image/png": "[encoded data removed]",
      "text/plain": [
       "<Figure size 432x288 with 1 Axes>"
      ]
     },
     "metadata": {
      "needs_background": "light"
     },
     "output_type": "display_data"
    }
   ],
   "source": [
    "plt.imshow(single_image)"
   ]
  },
  {
   "cell_type": "code",
   "execution_count": 93,
   "metadata": {},
   "outputs": [
    {
     "data": {
      "text/plain": [
       "5"
      ]
     },
     "execution_count": 93,
     "metadata": {},
     "output_type": "execute_result"
    }
   ],
   "source": [
    "y_train[0]"
   ]
  },
  {
   "cell_type": "code",
   "execution_count": 94,
   "metadata": {},
   "outputs": [
    {
     "data": {
      "text/plain": [
       "array([5, 0, 4, ..., 5, 6, 8], dtype=uint8)"
      ]
     },
     "execution_count": 94,
     "metadata": {},
     "output_type": "execute_result"
    }
   ],
   "source": [
    "y_train"
   ]
  },
  {
   "cell_type": "markdown",
   "metadata": {},
   "source": [
    "### these are categorical values, translate them to 'one-hot-encoding' so our cnn could understand. "
   ]
  },
  {
   "cell_type": "code",
   "execution_count": 95,
   "metadata": {},
   "outputs": [],
   "source": [
    "from tensorflow.keras.utils import to_categorical"
   ]
  },
  {
   "cell_type": "code",
   "execution_count": 96,
   "metadata": {},
   "outputs": [
    {
     "data": {
      "text/plain": [
       "(60000,)"
      ]
     },
     "execution_count": 96,
     "metadata": {},
     "output_type": "execute_result"
    }
   ],
   "source": [
    "y_train.shape"
   ]
  },
  {
   "cell_type": "code",
   "execution_count": 97,
   "metadata": {},
   "outputs": [],
   "source": [
    "y_train = to_categorical(y_train)"
   ]
  },
  {
   "cell_type": "code",
   "execution_count": 98,
   "metadata": {},
   "outputs": [
    {
     "data": {
      "text/plain": [
       "(60000, 10)"
      ]
     },
     "execution_count": 98,
     "metadata": {},
     "output_type": "execute_result"
    }
   ],
   "source": [
    "y_train.shape"
   ]
  },
  {
   "cell_type": "code",
   "execution_count": 99,
   "metadata": {},
   "outputs": [
    {
     "data": {
      "text/plain": [
       "array([0., 0., 0., 0., 0., 1., 0., 0., 0., 0.], dtype=float32)"
      ]
     },
     "execution_count": 99,
     "metadata": {},
     "output_type": "execute_result"
    }
   ],
   "source": [
    "y_train[0]"
   ]
  },
  {
   "cell_type": "code",
   "execution_count": 100,
   "metadata": {},
   "outputs": [
    {
     "data": {
      "text/plain": [
       "(10000,)"
      ]
     },
     "execution_count": 100,
     "metadata": {},
     "output_type": "execute_result"
    }
   ],
   "source": [
    "y_test.shape"
   ]
  },
  {
   "cell_type": "code",
   "execution_count": 101,
   "metadata": {},
   "outputs": [],
   "source": [
    "y_test = to_categorical(y_test, num_classes=10)"
   ]
  },
  {
   "cell_type": "code",
   "execution_count": 102,
   "metadata": {},
   "outputs": [
    {
     "data": {
      "text/plain": [
       "(10000, 10)"
      ]
     },
     "execution_count": 102,
     "metadata": {},
     "output_type": "execute_result"
    }
   ],
   "source": [
    "y_test.shape"
   ]
  },
  {
   "cell_type": "code",
   "execution_count": 103,
   "metadata": {},
   "outputs": [
    {
     "data": {
      "text/plain": [
       "array([0., 0., 0., 0., 0., 0., 0., 1., 0., 0.], dtype=float32)"
      ]
     },
     "execution_count": 103,
     "metadata": {},
     "output_type": "execute_result"
    }
   ],
   "source": [
    "y_test[0]"
   ]
  },
  {
   "cell_type": "code",
   "execution_count": null,
   "metadata": {},
   "outputs": [],
   "source": []
  },
  {
   "cell_type": "code",
   "execution_count": null,
   "metadata": {},
   "outputs": [],
   "source": []
  },
  {
   "cell_type": "code",
   "execution_count": null,
   "metadata": {},
   "outputs": [],
   "source": []
  },
  {
   "cell_type": "code",
   "execution_count": null,
   "metadata": {},
   "outputs": [],
   "source": []
  },
  {
   "cell_type": "code",
   "execution_count": null,
   "metadata": {},
   "outputs": [],
   "source": []
  },
  {
   "cell_type": "code",
   "execution_count": null,
   "metadata": {},
   "outputs": [],
   "source": []
  },
  {
   "cell_type": "code",
   "execution_count": null,
   "metadata": {},
   "outputs": [],
   "source": []
  },
  {
   "cell_type": "code",
   "execution_count": null,
   "metadata": {},
   "outputs": [],
   "source": []
  },
  {
   "cell_type": "code",
   "execution_count": null,
   "metadata": {},
   "outputs": [],
   "source": []
  },
  {
   "cell_type": "markdown",
   "metadata": {},
   "source": [
    "### Normalise the x-data"
   ]
  },
  {
   "cell_type": "code",
   "execution_count": 148,
   "metadata": {},
   "outputs": [
    {
     "data": {
      "text/plain": [
       "(28, 28, 1)"
      ]
     },
     "execution_count": 148,
     "metadata": {},
     "output_type": "execute_result"
    }
   ],
   "source": [
    "x_train[0].shape"
   ]
  },
  {
   "cell_type": "code",
   "execution_count": 105,
   "metadata": {},
   "outputs": [
    {
     "data": {
      "text/plain": [
       "255"
      ]
     },
     "execution_count": 105,
     "metadata": {},
     "output_type": "execute_result"
    }
   ],
   "source": [
    "x_train.max()"
   ]
  },
  {
   "cell_type": "code",
   "execution_count": 106,
   "metadata": {},
   "outputs": [
    {
     "data": {
      "text/plain": [
       "0"
      ]
     },
     "execution_count": 106,
     "metadata": {},
     "output_type": "execute_result"
    }
   ],
   "source": [
    "x_train.min()"
   ]
  },
  {
   "cell_type": "code",
   "execution_count": 149,
   "metadata": {},
   "outputs": [
    {
     "data": {
      "text/plain": [
       "array([[[0.        ],\n",
       "        [0.        ],\n",
       "        [0.        ],\n",
       "        [0.        ],\n",
       "        [0.        ],\n",
       "        [0.        ],\n",
       "        [0.        ],\n",
       "        [0.        ],\n",
       "        [0.        ],\n",
       "        [0.        ],\n",
       "        [0.        ],\n",
       "        [0.        ],\n",
       "        [0.        ],\n",
       "        [0.        ],\n",
       "        [0.        ],\n",
       "        [0.        ],\n",
       "        [0.        ],\n",
       "        [0.        ],\n",
       "        [0.        ],\n",
       "        [0.        ],\n",
       "        [0.        ],\n",
       "        [0.        ],\n",
       "        [0.        ],\n",
       "        [0.        ],\n",
       "        [0.        ],\n",
       "        [0.        ],\n",
       "        [0.        ],\n",
       "        [0.        ]],\n",
       "\n",
       "       [[0.        ],\n",
       "        [0.        ],\n",
       "        [0.        ],\n",
       "        [0.        ],\n",
       "        [0.        ],\n",
       "        [0.        ],\n",
       "        [0.        ],\n",
       "        [0.        ],\n",
       "        [0.        ],\n",
       "        [0.        ],\n",
       "        [0.        ],\n",
       "        [0.        ],\n",
       "        [0.        ],\n",
       "        [0.        ],\n",
       "        [0.        ],\n",
       "        [0.        ],\n",
       "        [0.        ],\n",
       "        [0.        ],\n",
       "        [0.        ],\n",
       "        [0.        ],\n",
       "        [0.        ],\n",
       "        [0.        ],\n",
       "        [0.        ],\n",
       "        [0.        ],\n",
       "        [0.        ],\n",
       "        [0.        ],\n",
       "        [0.        ],\n",
       "        [0.        ]],\n",
       "\n",
       "       [[0.        ],\n",
       "        [0.        ],\n",
       "        [0.        ],\n",
       "        [0.        ],\n",
       "        [0.        ],\n",
       "        [0.        ],\n",
       "        [0.        ],\n",
       "        [0.        ],\n",
       "        [0.        ],\n",
       "        [0.        ],\n",
       "        [0.        ],\n",
       "        [0.        ],\n",
       "        [0.        ],\n",
       "        [0.        ],\n",
       "        [0.        ],\n",
       "        [0.        ],\n",
       "        [0.        ],\n",
       "        [0.        ],\n",
       "        [0.        ],\n",
       "        [0.        ],\n",
       "        [0.        ],\n",
       "        [0.        ],\n",
       "        [0.        ],\n",
       "        [0.        ],\n",
       "        [0.        ],\n",
       "        [0.        ],\n",
       "        [0.        ],\n",
       "        [0.        ]],\n",
       "\n",
       "       [[0.        ],\n",
       "        [0.        ],\n",
       "        [0.        ],\n",
       "        [0.        ],\n",
       "        [0.        ],\n",
       "        [0.        ],\n",
       "        [0.        ],\n",
       "        [0.        ],\n",
       "        [0.        ],\n",
       "        [0.        ],\n",
       "        [0.        ],\n",
       "        [0.        ],\n",
       "        [0.        ],\n",
       "        [0.        ],\n",
       "        [0.        ],\n",
       "        [0.        ],\n",
       "        [0.        ],\n",
       "        [0.        ],\n",
       "        [0.        ],\n",
       "        [0.        ],\n",
       "        [0.        ],\n",
       "        [0.        ],\n",
       "        [0.        ],\n",
       "        [0.        ],\n",
       "        [0.        ],\n",
       "        [0.        ],\n",
       "        [0.        ],\n",
       "        [0.        ]],\n",
       "\n",
       "       [[0.        ],\n",
       "        [0.        ],\n",
       "        [0.        ],\n",
       "        [0.        ],\n",
       "        [0.        ],\n",
       "        [0.        ],\n",
       "        [0.        ],\n",
       "        [0.        ],\n",
       "        [0.        ],\n",
       "        [0.        ],\n",
       "        [0.        ],\n",
       "        [0.        ],\n",
       "        [0.        ],\n",
       "        [0.        ],\n",
       "        [0.        ],\n",
       "        [0.        ],\n",
       "        [0.        ],\n",
       "        [0.        ],\n",
       "        [0.        ],\n",
       "        [0.        ],\n",
       "        [0.        ],\n",
       "        [0.        ],\n",
       "        [0.        ],\n",
       "        [0.        ],\n",
       "        [0.        ],\n",
       "        [0.        ],\n",
       "        [0.        ],\n",
       "        [0.        ]],\n",
       "\n",
       "       [[0.        ],\n",
       "        [0.        ],\n",
       "        [0.        ],\n",
       "        [0.        ],\n",
       "        [0.        ],\n",
       "        [0.        ],\n",
       "        [0.        ],\n",
       "        [0.        ],\n",
       "        [0.        ],\n",
       "        [0.        ],\n",
       "        [0.        ],\n",
       "        [0.        ],\n",
       "        [0.01176471],\n",
       "        [0.07058824],\n",
       "        [0.07058824],\n",
       "        [0.07058824],\n",
       "        [0.49411765],\n",
       "        [0.53333333],\n",
       "        [0.68627451],\n",
       "        [0.10196078],\n",
       "        [0.65098039],\n",
       "        [1.        ],\n",
       "        [0.96862745],\n",
       "        [0.49803922],\n",
       "        [0.        ],\n",
       "        [0.        ],\n",
       "        [0.        ],\n",
       "        [0.        ]],\n",
       "\n",
       "       [[0.        ],\n",
       "        [0.        ],\n",
       "        [0.        ],\n",
       "        [0.        ],\n",
       "        [0.        ],\n",
       "        [0.        ],\n",
       "        [0.        ],\n",
       "        [0.        ],\n",
       "        [0.11764706],\n",
       "        [0.14117647],\n",
       "        [0.36862745],\n",
       "        [0.60392157],\n",
       "        [0.66666667],\n",
       "        [0.99215686],\n",
       "        [0.99215686],\n",
       "        [0.99215686],\n",
       "        [0.99215686],\n",
       "        [0.99215686],\n",
       "        [0.88235294],\n",
       "        [0.6745098 ],\n",
       "        [0.99215686],\n",
       "        [0.94901961],\n",
       "        [0.76470588],\n",
       "        [0.25098039],\n",
       "        [0.        ],\n",
       "        [0.        ],\n",
       "        [0.        ],\n",
       "        [0.        ]],\n",
       "\n",
       "       [[0.        ],\n",
       "        [0.        ],\n",
       "        [0.        ],\n",
       "        [0.        ],\n",
       "        [0.        ],\n",
       "        [0.        ],\n",
       "        [0.        ],\n",
       "        [0.19215686],\n",
       "        [0.93333333],\n",
       "        [0.99215686],\n",
       "        [0.99215686],\n",
       "        [0.99215686],\n",
       "        [0.99215686],\n",
       "        [0.99215686],\n",
       "        [0.99215686],\n",
       "        [0.99215686],\n",
       "        [0.99215686],\n",
       "        [0.98431373],\n",
       "        [0.36470588],\n",
       "        [0.32156863],\n",
       "        [0.32156863],\n",
       "        [0.21960784],\n",
       "        [0.15294118],\n",
       "        [0.        ],\n",
       "        [0.        ],\n",
       "        [0.        ],\n",
       "        [0.        ],\n",
       "        [0.        ]],\n",
       "\n",
       "       [[0.        ],\n",
       "        [0.        ],\n",
       "        [0.        ],\n",
       "        [0.        ],\n",
       "        [0.        ],\n",
       "        [0.        ],\n",
       "        [0.        ],\n",
       "        [0.07058824],\n",
       "        [0.85882353],\n",
       "        [0.99215686],\n",
       "        [0.99215686],\n",
       "        [0.99215686],\n",
       "        [0.99215686],\n",
       "        [0.99215686],\n",
       "        [0.77647059],\n",
       "        [0.71372549],\n",
       "        [0.96862745],\n",
       "        [0.94509804],\n",
       "        [0.        ],\n",
       "        [0.        ],\n",
       "        [0.        ],\n",
       "        [0.        ],\n",
       "        [0.        ],\n",
       "        [0.        ],\n",
       "        [0.        ],\n",
       "        [0.        ],\n",
       "        [0.        ],\n",
       "        [0.        ]],\n",
       "\n",
       "       [[0.        ],\n",
       "        [0.        ],\n",
       "        [0.        ],\n",
       "        [0.        ],\n",
       "        [0.        ],\n",
       "        [0.        ],\n",
       "        [0.        ],\n",
       "        [0.        ],\n",
       "        [0.31372549],\n",
       "        [0.61176471],\n",
       "        [0.41960784],\n",
       "        [0.99215686],\n",
       "        [0.99215686],\n",
       "        [0.80392157],\n",
       "        [0.04313725],\n",
       "        [0.        ],\n",
       "        [0.16862745],\n",
       "        [0.60392157],\n",
       "        [0.        ],\n",
       "        [0.        ],\n",
       "        [0.        ],\n",
       "        [0.        ],\n",
       "        [0.        ],\n",
       "        [0.        ],\n",
       "        [0.        ],\n",
       "        [0.        ],\n",
       "        [0.        ],\n",
       "        [0.        ]],\n",
       "\n",
       "       [[0.        ],\n",
       "        [0.        ],\n",
       "        [0.        ],\n",
       "        [0.        ],\n",
       "        [0.        ],\n",
       "        [0.        ],\n",
       "        [0.        ],\n",
       "        [0.        ],\n",
       "        [0.        ],\n",
       "        [0.05490196],\n",
       "        [0.00392157],\n",
       "        [0.60392157],\n",
       "        [0.99215686],\n",
       "        [0.35294118],\n",
       "        [0.        ],\n",
       "        [0.        ],\n",
       "        [0.        ],\n",
       "        [0.        ],\n",
       "        [0.        ],\n",
       "        [0.        ],\n",
       "        [0.        ],\n",
       "        [0.        ],\n",
       "        [0.        ],\n",
       "        [0.        ],\n",
       "        [0.        ],\n",
       "        [0.        ],\n",
       "        [0.        ],\n",
       "        [0.        ]],\n",
       "\n",
       "       [[0.        ],\n",
       "        [0.        ],\n",
       "        [0.        ],\n",
       "        [0.        ],\n",
       "        [0.        ],\n",
       "        [0.        ],\n",
       "        [0.        ],\n",
       "        [0.        ],\n",
       "        [0.        ],\n",
       "        [0.        ],\n",
       "        [0.        ],\n",
       "        [0.54509804],\n",
       "        [0.99215686],\n",
       "        [0.74509804],\n",
       "        [0.00784314],\n",
       "        [0.        ],\n",
       "        [0.        ],\n",
       "        [0.        ],\n",
       "        [0.        ],\n",
       "        [0.        ],\n",
       "        [0.        ],\n",
       "        [0.        ],\n",
       "        [0.        ],\n",
       "        [0.        ],\n",
       "        [0.        ],\n",
       "        [0.        ],\n",
       "        [0.        ],\n",
       "        [0.        ]],\n",
       "\n",
       "       [[0.        ],\n",
       "        [0.        ],\n",
       "        [0.        ],\n",
       "        [0.        ],\n",
       "        [0.        ],\n",
       "        [0.        ],\n",
       "        [0.        ],\n",
       "        [0.        ],\n",
       "        [0.        ],\n",
       "        [0.        ],\n",
       "        [0.        ],\n",
       "        [0.04313725],\n",
       "        [0.74509804],\n",
       "        [0.99215686],\n",
       "        [0.2745098 ],\n",
       "        [0.        ],\n",
       "        [0.        ],\n",
       "        [0.        ],\n",
       "        [0.        ],\n",
       "        [0.        ],\n",
       "        [0.        ],\n",
       "        [0.        ],\n",
       "        [0.        ],\n",
       "        [0.        ],\n",
       "        [0.        ],\n",
       "        [0.        ],\n",
       "        [0.        ],\n",
       "        [0.        ]],\n",
       "\n",
       "       [[0.        ],\n",
       "        [0.        ],\n",
       "        [0.        ],\n",
       "        [0.        ],\n",
       "        [0.        ],\n",
       "        [0.        ],\n",
       "        [0.        ],\n",
       "        [0.        ],\n",
       "        [0.        ],\n",
       "        [0.        ],\n",
       "        [0.        ],\n",
       "        [0.        ],\n",
       "        [0.1372549 ],\n",
       "        [0.94509804],\n",
       "        [0.88235294],\n",
       "        [0.62745098],\n",
       "        [0.42352941],\n",
       "        [0.00392157],\n",
       "        [0.        ],\n",
       "        [0.        ],\n",
       "        [0.        ],\n",
       "        [0.        ],\n",
       "        [0.        ],\n",
       "        [0.        ],\n",
       "        [0.        ],\n",
       "        [0.        ],\n",
       "        [0.        ],\n",
       "        [0.        ]],\n",
       "\n",
       "       [[0.        ],\n",
       "        [0.        ],\n",
       "        [0.        ],\n",
       "        [0.        ],\n",
       "        [0.        ],\n",
       "        [0.        ],\n",
       "        [0.        ],\n",
       "        [0.        ],\n",
       "        [0.        ],\n",
       "        [0.        ],\n",
       "        [0.        ],\n",
       "        [0.        ],\n",
       "        [0.        ],\n",
       "        [0.31764706],\n",
       "        [0.94117647],\n",
       "        [0.99215686],\n",
       "        [0.99215686],\n",
       "        [0.46666667],\n",
       "        [0.09803922],\n",
       "        [0.        ],\n",
       "        [0.        ],\n",
       "        [0.        ],\n",
       "        [0.        ],\n",
       "        [0.        ],\n",
       "        [0.        ],\n",
       "        [0.        ],\n",
       "        [0.        ],\n",
       "        [0.        ]],\n",
       "\n",
       "       [[0.        ],\n",
       "        [0.        ],\n",
       "        [0.        ],\n",
       "        [0.        ],\n",
       "        [0.        ],\n",
       "        [0.        ],\n",
       "        [0.        ],\n",
       "        [0.        ],\n",
       "        [0.        ],\n",
       "        [0.        ],\n",
       "        [0.        ],\n",
       "        [0.        ],\n",
       "        [0.        ],\n",
       "        [0.        ],\n",
       "        [0.17647059],\n",
       "        [0.72941176],\n",
       "        [0.99215686],\n",
       "        [0.99215686],\n",
       "        [0.58823529],\n",
       "        [0.10588235],\n",
       "        [0.        ],\n",
       "        [0.        ],\n",
       "        [0.        ],\n",
       "        [0.        ],\n",
       "        [0.        ],\n",
       "        [0.        ],\n",
       "        [0.        ],\n",
       "        [0.        ]],\n",
       "\n",
       "       [[0.        ],\n",
       "        [0.        ],\n",
       "        [0.        ],\n",
       "        [0.        ],\n",
       "        [0.        ],\n",
       "        [0.        ],\n",
       "        [0.        ],\n",
       "        [0.        ],\n",
       "        [0.        ],\n",
       "        [0.        ],\n",
       "        [0.        ],\n",
       "        [0.        ],\n",
       "        [0.        ],\n",
       "        [0.        ],\n",
       "        [0.        ],\n",
       "        [0.0627451 ],\n",
       "        [0.36470588],\n",
       "        [0.98823529],\n",
       "        [0.99215686],\n",
       "        [0.73333333],\n",
       "        [0.        ],\n",
       "        [0.        ],\n",
       "        [0.        ],\n",
       "        [0.        ],\n",
       "        [0.        ],\n",
       "        [0.        ],\n",
       "        [0.        ],\n",
       "        [0.        ]],\n",
       "\n",
       "       [[0.        ],\n",
       "        [0.        ],\n",
       "        [0.        ],\n",
       "        [0.        ],\n",
       "        [0.        ],\n",
       "        [0.        ],\n",
       "        [0.        ],\n",
       "        [0.        ],\n",
       "        [0.        ],\n",
       "        [0.        ],\n",
       "        [0.        ],\n",
       "        [0.        ],\n",
       "        [0.        ],\n",
       "        [0.        ],\n",
       "        [0.        ],\n",
       "        [0.        ],\n",
       "        [0.        ],\n",
       "        [0.97647059],\n",
       "        [0.99215686],\n",
       "        [0.97647059],\n",
       "        [0.25098039],\n",
       "        [0.        ],\n",
       "        [0.        ],\n",
       "        [0.        ],\n",
       "        [0.        ],\n",
       "        [0.        ],\n",
       "        [0.        ],\n",
       "        [0.        ]],\n",
       "\n",
       "       [[0.        ],\n",
       "        [0.        ],\n",
       "        [0.        ],\n",
       "        [0.        ],\n",
       "        [0.        ],\n",
       "        [0.        ],\n",
       "        [0.        ],\n",
       "        [0.        ],\n",
       "        [0.        ],\n",
       "        [0.        ],\n",
       "        [0.        ],\n",
       "        [0.        ],\n",
       "        [0.        ],\n",
       "        [0.        ],\n",
       "        [0.18039216],\n",
       "        [0.50980392],\n",
       "        [0.71764706],\n",
       "        [0.99215686],\n",
       "        [0.99215686],\n",
       "        [0.81176471],\n",
       "        [0.00784314],\n",
       "        [0.        ],\n",
       "        [0.        ],\n",
       "        [0.        ],\n",
       "        [0.        ],\n",
       "        [0.        ],\n",
       "        [0.        ],\n",
       "        [0.        ]],\n",
       "\n",
       "       [[0.        ],\n",
       "        [0.        ],\n",
       "        [0.        ],\n",
       "        [0.        ],\n",
       "        [0.        ],\n",
       "        [0.        ],\n",
       "        [0.        ],\n",
       "        [0.        ],\n",
       "        [0.        ],\n",
       "        [0.        ],\n",
       "        [0.        ],\n",
       "        [0.        ],\n",
       "        [0.15294118],\n",
       "        [0.58039216],\n",
       "        [0.89803922],\n",
       "        [0.99215686],\n",
       "        [0.99215686],\n",
       "        [0.99215686],\n",
       "        [0.98039216],\n",
       "        [0.71372549],\n",
       "        [0.        ],\n",
       "        [0.        ],\n",
       "        [0.        ],\n",
       "        [0.        ],\n",
       "        [0.        ],\n",
       "        [0.        ],\n",
       "        [0.        ],\n",
       "        [0.        ]],\n",
       "\n",
       "       [[0.        ],\n",
       "        [0.        ],\n",
       "        [0.        ],\n",
       "        [0.        ],\n",
       "        [0.        ],\n",
       "        [0.        ],\n",
       "        [0.        ],\n",
       "        [0.        ],\n",
       "        [0.        ],\n",
       "        [0.        ],\n",
       "        [0.09411765],\n",
       "        [0.44705882],\n",
       "        [0.86666667],\n",
       "        [0.99215686],\n",
       "        [0.99215686],\n",
       "        [0.99215686],\n",
       "        [0.99215686],\n",
       "        [0.78823529],\n",
       "        [0.30588235],\n",
       "        [0.        ],\n",
       "        [0.        ],\n",
       "        [0.        ],\n",
       "        [0.        ],\n",
       "        [0.        ],\n",
       "        [0.        ],\n",
       "        [0.        ],\n",
       "        [0.        ],\n",
       "        [0.        ]],\n",
       "\n",
       "       [[0.        ],\n",
       "        [0.        ],\n",
       "        [0.        ],\n",
       "        [0.        ],\n",
       "        [0.        ],\n",
       "        [0.        ],\n",
       "        [0.        ],\n",
       "        [0.        ],\n",
       "        [0.09019608],\n",
       "        [0.25882353],\n",
       "        [0.83529412],\n",
       "        [0.99215686],\n",
       "        [0.99215686],\n",
       "        [0.99215686],\n",
       "        [0.99215686],\n",
       "        [0.77647059],\n",
       "        [0.31764706],\n",
       "        [0.00784314],\n",
       "        [0.        ],\n",
       "        [0.        ],\n",
       "        [0.        ],\n",
       "        [0.        ],\n",
       "        [0.        ],\n",
       "        [0.        ],\n",
       "        [0.        ],\n",
       "        [0.        ],\n",
       "        [0.        ],\n",
       "        [0.        ]],\n",
       "\n",
       "       [[0.        ],\n",
       "        [0.        ],\n",
       "        [0.        ],\n",
       "        [0.        ],\n",
       "        [0.        ],\n",
       "        [0.        ],\n",
       "        [0.07058824],\n",
       "        [0.67058824],\n",
       "        [0.85882353],\n",
       "        [0.99215686],\n",
       "        [0.99215686],\n",
       "        [0.99215686],\n",
       "        [0.99215686],\n",
       "        [0.76470588],\n",
       "        [0.31372549],\n",
       "        [0.03529412],\n",
       "        [0.        ],\n",
       "        [0.        ],\n",
       "        [0.        ],\n",
       "        [0.        ],\n",
       "        [0.        ],\n",
       "        [0.        ],\n",
       "        [0.        ],\n",
       "        [0.        ],\n",
       "        [0.        ],\n",
       "        [0.        ],\n",
       "        [0.        ],\n",
       "        [0.        ]],\n",
       "\n",
       "       [[0.        ],\n",
       "        [0.        ],\n",
       "        [0.        ],\n",
       "        [0.        ],\n",
       "        [0.21568627],\n",
       "        [0.6745098 ],\n",
       "        [0.88627451],\n",
       "        [0.99215686],\n",
       "        [0.99215686],\n",
       "        [0.99215686],\n",
       "        [0.99215686],\n",
       "        [0.95686275],\n",
       "        [0.52156863],\n",
       "        [0.04313725],\n",
       "        [0.        ],\n",
       "        [0.        ],\n",
       "        [0.        ],\n",
       "        [0.        ],\n",
       "        [0.        ],\n",
       "        [0.        ],\n",
       "        [0.        ],\n",
       "        [0.        ],\n",
       "        [0.        ],\n",
       "        [0.        ],\n",
       "        [0.        ],\n",
       "        [0.        ],\n",
       "        [0.        ],\n",
       "        [0.        ]],\n",
       "\n",
       "       [[0.        ],\n",
       "        [0.        ],\n",
       "        [0.        ],\n",
       "        [0.        ],\n",
       "        [0.53333333],\n",
       "        [0.99215686],\n",
       "        [0.99215686],\n",
       "        [0.99215686],\n",
       "        [0.83137255],\n",
       "        [0.52941176],\n",
       "        [0.51764706],\n",
       "        [0.0627451 ],\n",
       "        [0.        ],\n",
       "        [0.        ],\n",
       "        [0.        ],\n",
       "        [0.        ],\n",
       "        [0.        ],\n",
       "        [0.        ],\n",
       "        [0.        ],\n",
       "        [0.        ],\n",
       "        [0.        ],\n",
       "        [0.        ],\n",
       "        [0.        ],\n",
       "        [0.        ],\n",
       "        [0.        ],\n",
       "        [0.        ],\n",
       "        [0.        ],\n",
       "        [0.        ]],\n",
       "\n",
       "       [[0.        ],\n",
       "        [0.        ],\n",
       "        [0.        ],\n",
       "        [0.        ],\n",
       "        [0.        ],\n",
       "        [0.        ],\n",
       "        [0.        ],\n",
       "        [0.        ],\n",
       "        [0.        ],\n",
       "        [0.        ],\n",
       "        [0.        ],\n",
       "        [0.        ],\n",
       "        [0.        ],\n",
       "        [0.        ],\n",
       "        [0.        ],\n",
       "        [0.        ],\n",
       "        [0.        ],\n",
       "        [0.        ],\n",
       "        [0.        ],\n",
       "        [0.        ],\n",
       "        [0.        ],\n",
       "        [0.        ],\n",
       "        [0.        ],\n",
       "        [0.        ],\n",
       "        [0.        ],\n",
       "        [0.        ],\n",
       "        [0.        ],\n",
       "        [0.        ]],\n",
       "\n",
       "       [[0.        ],\n",
       "        [0.        ],\n",
       "        [0.        ],\n",
       "        [0.        ],\n",
       "        [0.        ],\n",
       "        [0.        ],\n",
       "        [0.        ],\n",
       "        [0.        ],\n",
       "        [0.        ],\n",
       "        [0.        ],\n",
       "        [0.        ],\n",
       "        [0.        ],\n",
       "        [0.        ],\n",
       "        [0.        ],\n",
       "        [0.        ],\n",
       "        [0.        ],\n",
       "        [0.        ],\n",
       "        [0.        ],\n",
       "        [0.        ],\n",
       "        [0.        ],\n",
       "        [0.        ],\n",
       "        [0.        ],\n",
       "        [0.        ],\n",
       "        [0.        ],\n",
       "        [0.        ],\n",
       "        [0.        ],\n",
       "        [0.        ],\n",
       "        [0.        ]],\n",
       "\n",
       "       [[0.        ],\n",
       "        [0.        ],\n",
       "        [0.        ],\n",
       "        [0.        ],\n",
       "        [0.        ],\n",
       "        [0.        ],\n",
       "        [0.        ],\n",
       "        [0.        ],\n",
       "        [0.        ],\n",
       "        [0.        ],\n",
       "        [0.        ],\n",
       "        [0.        ],\n",
       "        [0.        ],\n",
       "        [0.        ],\n",
       "        [0.        ],\n",
       "        [0.        ],\n",
       "        [0.        ],\n",
       "        [0.        ],\n",
       "        [0.        ],\n",
       "        [0.        ],\n",
       "        [0.        ],\n",
       "        [0.        ],\n",
       "        [0.        ],\n",
       "        [0.        ],\n",
       "        [0.        ],\n",
       "        [0.        ],\n",
       "        [0.        ],\n",
       "        [0.        ]]])"
      ]
     },
     "execution_count": 149,
     "metadata": {},
     "output_type": "execute_result"
    }
   ],
   "source": [
    "x_train[0]"
   ]
  },
  {
   "cell_type": "code",
   "execution_count": null,
   "metadata": {},
   "outputs": [],
   "source": []
  },
  {
   "cell_type": "code",
   "execution_count": 107,
   "metadata": {},
   "outputs": [],
   "source": [
    "x_train = x_train/255\n",
    "x_test = x_test/255"
   ]
  },
  {
   "cell_type": "code",
   "execution_count": 108,
   "metadata": {},
   "outputs": [
    {
     "data": {
      "text/plain": [
       "0.0"
      ]
     },
     "execution_count": 108,
     "metadata": {},
     "output_type": "execute_result"
    }
   ],
   "source": [
    "x_train.max()\n",
    "x_train.min()"
   ]
  },
  {
   "cell_type": "code",
   "execution_count": 109,
   "metadata": {},
   "outputs": [
    {
     "data": {
      "text/plain": [
       "0.0"
      ]
     },
     "execution_count": 109,
     "metadata": {},
     "output_type": "execute_result"
    }
   ],
   "source": [
    "x_test.min()"
   ]
  },
  {
   "cell_type": "code",
   "execution_count": 110,
   "metadata": {},
   "outputs": [],
   "source": [
    "scaled_single_image = x_train[0]"
   ]
  },
  {
   "cell_type": "code",
   "execution_count": 111,
   "metadata": {},
   "outputs": [
    {
     "data": {
      "text/plain": [
       "<matplotlib.image.AxesImage at 0x161da1e59c8>"
      ]
     },
     "execution_count": 111,
     "metadata": {},
     "output_type": "execute_result"
    },
    {
     "data": {
      "image/png": "[encoded data removed]",
      "text/plain": [
       "<Figure size 432x288 with 1 Axes>"
      ]
     },
     "metadata": {
      "needs_background": "light"
     },
     "output_type": "display_data"
    }
   ],
   "source": [
    "plt.imshow(scaled_single_image)"
   ]
  },
  {
   "cell_type": "code",
   "execution_count": 112,
   "metadata": {},
   "outputs": [
    {
     "data": {
      "text/plain": [
       "(28, 28)"
      ]
     },
     "execution_count": 112,
     "metadata": {},
     "output_type": "execute_result"
    }
   ],
   "source": [
    "scaled_single_image.shape"
   ]
  },
  {
   "cell_type": "markdown",
   "metadata": {},
   "source": [
    "### Reshape the data - add one more dimension to show 1RGB channel"
   ]
  },
  {
   "cell_type": "code",
   "execution_count": 113,
   "metadata": {},
   "outputs": [
    {
     "data": {
      "text/plain": [
       "(60000, 28, 28)"
      ]
     },
     "execution_count": 113,
     "metadata": {},
     "output_type": "execute_result"
    }
   ],
   "source": [
    "x_train.shape"
   ]
  },
  {
   "cell_type": "code",
   "execution_count": 114,
   "metadata": {},
   "outputs": [],
   "source": [
    "x_train = x_train.reshape(60000, 28, 28, 1)"
   ]
  },
  {
   "cell_type": "code",
   "execution_count": 115,
   "metadata": {},
   "outputs": [
    {
     "data": {
      "text/plain": [
       "(60000, 28, 28, 1)"
      ]
     },
     "execution_count": 115,
     "metadata": {},
     "output_type": "execute_result"
    }
   ],
   "source": [
    "x_train.shape"
   ]
  },
  {
   "cell_type": "code",
   "execution_count": 116,
   "metadata": {},
   "outputs": [
    {
     "data": {
      "text/plain": [
       "(10000, 28, 28)"
      ]
     },
     "execution_count": 116,
     "metadata": {},
     "output_type": "execute_result"
    }
   ],
   "source": [
    "x_test.shape"
   ]
  },
  {
   "cell_type": "code",
   "execution_count": 117,
   "metadata": {},
   "outputs": [],
   "source": [
    "x_test = x_test.reshape(10000, 28, 28, 1)"
   ]
  },
  {
   "cell_type": "code",
   "execution_count": 118,
   "metadata": {},
   "outputs": [
    {
     "data": {
      "text/plain": [
       "(10000, 28, 28, 1)"
      ]
     },
     "execution_count": 118,
     "metadata": {},
     "output_type": "execute_result"
    }
   ],
   "source": [
    "x_test.shape"
   ]
  },
  {
   "cell_type": "markdown",
   "metadata": {},
   "source": [
    "## Training the model"
   ]
  },
  {
   "cell_type": "code",
   "execution_count": 119,
   "metadata": {},
   "outputs": [],
   "source": [
    "from tensorflow.keras.models import Sequential\n",
    "from tensorflow.keras.layers import Dense, Conv2D, MaxPool2D, Flatten"
   ]
  },
  {
   "cell_type": "code",
   "execution_count": 120,
   "metadata": {},
   "outputs": [],
   "source": [
    "model = Sequential()\n",
    "\n",
    "# CONVOLUTIONAL LAYER\n",
    "model.add(Conv2D(filters=32, kernel_size=(4,4),input_shape=(28, 28, 1), activation='relu',))\n",
    "# POOLING LAYER\n",
    "model.add(MaxPool2D(pool_size=(2, 2)))\n",
    "\n",
    "# FLATTEN IMAGES FROM 28 by 28 to 764 BEFORE FINAL LAYER\n",
    "model.add(Flatten())\n",
    "\n",
    "# 128 NEURONS IN DENSE HIDDEN LAYER (YOU CAN CHANGE THIS NUMBER OF NEURONS)\n",
    "model.add(Dense(128, activation='relu'))\n",
    "\n",
    "# LAST LAYER IS THE CLASSIFIER, THUS 10 POSSIBLE CLASSES\n",
    "model.add(Dense(10, activation='softmax'))\n",
    "\n",
    "# https://keras.io/metrics/\n",
    "model.compile(loss='categorical_crossentropy',\n",
    "              optimizer='adam',\n",
    "              metrics=['accuracy']) # we can add in additional metrics https://keras.io/metrics/"
   ]
  },
  {
   "cell_type": "code",
   "execution_count": 121,
   "metadata": {},
   "outputs": [
    {
     "name": "stdout",
     "output_type": "stream",
     "text": [
      "Model: \"sequential_1\"\n",
      "_________________________________________________________________\n",
      "Layer (type)                 Output Shape              Param #   \n",
      "=================================================================\n",
      "conv2d_1 (Conv2D)            (None, 25, 25, 32)        544       \n",
      "_________________________________________________________________\n",
      "max_pooling2d_1 (MaxPooling2 (None, 12, 12, 32)        0         \n",
      "_________________________________________________________________\n",
      "flatten_1 (Flatten)          (None, 4608)              0         \n",
      "_________________________________________________________________\n",
      "dense_2 (Dense)              (None, 128)               589952    \n",
      "_________________________________________________________________\n",
      "dense_3 (Dense)              (None, 10)                1290      \n",
      "=================================================================\n",
      "Total params: 591,786\n",
      "Trainable params: 591,786\n",
      "Non-trainable params: 0\n",
      "_________________________________________________________________\n"
     ]
    }
   ],
   "source": [
    "model.summary()"
   ]
  },
  {
   "cell_type": "code",
   "execution_count": 122,
   "metadata": {},
   "outputs": [],
   "source": [
    "from tensorflow.keras.callbacks import EarlyStopping"
   ]
  },
  {
   "cell_type": "code",
   "execution_count": 123,
   "metadata": {},
   "outputs": [],
   "source": [
    "early_stopping = EarlyStopping(monitor='val_loss',patience=3 )"
   ]
  },
  {
   "cell_type": "markdown",
   "metadata": {},
   "source": [
    "## Training"
   ]
  },
  {
   "cell_type": "code",
   "execution_count": 124,
   "metadata": {
    "scrolled": true
   },
   "outputs": [
    {
     "name": "stdout",
     "output_type": "stream",
     "text": [
      "Train on 60000 samples, validate on 10000 samples\n",
      "Epoch 1/10\n",
      "60000/60000 [==============================] - 26s 435us/sample - loss: 0.1419 - accuracy: 0.9575 - val_loss: 0.0587 - val_accuracy: 0.9804\n",
      "Epoch 2/10\n",
      "60000/60000 [==============================] - 27s 456us/sample - loss: 0.0493 - accuracy: 0.9849 - val_loss: 0.0607 - val_accuracy: 0.9799\n",
      "Epoch 3/10\n",
      "60000/60000 [==============================] - 32s 540us/sample - loss: 0.0325 - accuracy: 0.9893 - val_loss: 0.0556 - val_accuracy: 0.9816\n",
      "Epoch 4/10\n",
      "60000/60000 [==============================] - 30s 502us/sample - loss: 0.0219 - accuracy: 0.9927 - val_loss: 0.0464 - val_accuracy: 0.9856\n",
      "Epoch 5/10\n",
      "60000/60000 [==============================] - 29s 490us/sample - loss: 0.0150 - accuracy: 0.9954 - val_loss: 0.0413 - val_accuracy: 0.9874\n",
      "Epoch 6/10\n",
      "60000/60000 [==============================] - 29s 483us/sample - loss: 0.0116 - accuracy: 0.9963 - val_loss: 0.0461 - val_accuracy: 0.9872\n",
      "Epoch 7/10\n",
      "60000/60000 [==============================] - 28s 461us/sample - loss: 0.0084 - accuracy: 0.9971 - val_loss: 0.0489 - val_accuracy: 0.9874\n",
      "Epoch 8/10\n",
      "60000/60000 [==============================] - 28s 471us/sample - loss: 0.0072 - accuracy: 0.9975 - val_loss: 0.0483 - val_accuracy: 0.9870\n"
     ]
    },
    {
     "data": {
      "text/plain": [
       "<tensorflow.python.keras.callbacks.History at 0x161da39ac48>"
      ]
     },
     "execution_count": 124,
     "metadata": {},
     "output_type": "execute_result"
    }
   ],
   "source": [
    "model.fit(x=x_train, y=y_train, epochs=10, validation_data=(x_test, y_test), callbacks=[early_stopping])"
   ]
  },
  {
   "cell_type": "markdown",
   "metadata": {},
   "source": [
    "### Evaluation"
   ]
  },
  {
   "cell_type": "code",
   "execution_count": 46,
   "metadata": {},
   "outputs": [
    {
     "data": {
      "text/plain": [
       "['loss', 'accuracy']"
      ]
     },
     "execution_count": 46,
     "metadata": {},
     "output_type": "execute_result"
    }
   ],
   "source": [
    "model.metrics_names"
   ]
  },
  {
   "cell_type": "code",
   "execution_count": 47,
   "metadata": {},
   "outputs": [],
   "source": [
    "losses = pd.DataFrame(model.history.history)"
   ]
  },
  {
   "cell_type": "code",
   "execution_count": 48,
   "metadata": {},
   "outputs": [
    {
     "data": {
      "text/plain": [
       "<matplotlib.axes._subplots.AxesSubplot at 0x161d6a17708>"
      ]
     },
     "execution_count": 48,
     "metadata": {},
     "output_type": "execute_result"
    },
    {
     "data": {
      "image/png": "[encoded data removed]",
      "text/plain": [
       "<Figure size 432x288 with 1 Axes>"
      ]
     },
     "metadata": {
      "needs_background": "light"
     },
     "output_type": "display_data"
    }
   ],
   "source": [
    "losses[['accuracy','val_accuracy']].plot()"
   ]
  },
  {
   "cell_type": "code",
   "execution_count": 49,
   "metadata": {},
   "outputs": [
    {
     "data": {
      "text/plain": [
       "<matplotlib.axes._subplots.AxesSubplot at 0x161d6467548>"
      ]
     },
     "execution_count": 49,
     "metadata": {},
     "output_type": "execute_result"
    },
    {
     "data": {
      "image/png": "[encoded data removed]",
      "text/plain": [
       "<Figure size 432x288 with 1 Axes>"
      ]
     },
     "metadata": {
      "needs_background": "light"
     },
     "output_type": "display_data"
    }
   ],
   "source": [
    "losses[['loss','val_loss']].plot()"
   ]
  },
  {
   "cell_type": "code",
   "execution_count": 127,
   "metadata": {},
   "outputs": [],
   "source": [
    "import cv2 as cv"
   ]
  },
  {
   "cell_type": "code",
   "execution_count": 273,
   "metadata": {},
   "outputs": [],
   "source": [
    "image = cv.imread('D:\\\\personal\\\\Workplace\\\\GitRepos\\\\Machine Learning\\\\MNIST-handwritten\\\\test\\\\6_2.jpg', \n",
    "                 cv.IMREAD_GRAYSCALE)"
   ]
  },
  {
   "cell_type": "code",
   "execution_count": 274,
   "metadata": {},
   "outputs": [
    {
     "data": {
      "text/plain": [
       "<matplotlib.image.AxesImage at 0x161de4d7608>"
      ]
     },
     "execution_count": 274,
     "metadata": {},
     "output_type": "execute_result"
    },
    {
     "data": {
      "image/png": "[encoded data removed]",
      "text/plain": [
       "<Figure size 432x288 with 1 Axes>"
      ]
     },
     "metadata": {
      "needs_background": "light"
     },
     "output_type": "display_data"
    }
   ],
   "source": [
    "plt.imshow(image)"
   ]
  },
  {
   "cell_type": "code",
   "execution_count": 275,
   "metadata": {},
   "outputs": [
    {
     "data": {
      "text/plain": [
       "(45, 56)"
      ]
     },
     "execution_count": 275,
     "metadata": {},
     "output_type": "execute_result"
    }
   ],
   "source": [
    "image.shape"
   ]
  },
  {
   "cell_type": "code",
   "execution_count": 276,
   "metadata": {},
   "outputs": [],
   "source": [
    "img_gray = cv.resize(255-image, (28, 28))"
   ]
  },
  {
   "cell_type": "code",
   "execution_count": 277,
   "metadata": {},
   "outputs": [
    {
     "data": {
      "text/plain": [
       "<matplotlib.image.AxesImage at 0x161dff48ec8>"
      ]
     },
     "execution_count": 277,
     "metadata": {},
     "output_type": "execute_result"
    },
    {
     "data": {
      "image/png": "[encoded data removed]",
      "text/plain": [
       "<Figure size 432x288 with 1 Axes>"
      ]
     },
     "metadata": {
      "needs_background": "light"
     },
     "output_type": "display_data"
    }
   ],
   "source": [
    "plt.imshow(img_gray)"
   ]
  },
  {
   "cell_type": "code",
   "execution_count": 270,
   "metadata": {},
   "outputs": [],
   "source": [
    "(thresh, img_gray) = cv.threshold(img_gray, 128, 255, cv.THRESH_BINARY | cv.THRESH_OTSU)"
   ]
  },
  {
   "cell_type": "code",
   "execution_count": 271,
   "metadata": {},
   "outputs": [
    {
     "data": {
      "text/plain": [
       "69.0"
      ]
     },
     "execution_count": 271,
     "metadata": {},
     "output_type": "execute_result"
    }
   ],
   "source": [
    "thresh"
   ]
  },
  {
   "cell_type": "code",
   "execution_count": 272,
   "metadata": {},
   "outputs": [
    {
     "data": {
      "text/plain": [
       "<matplotlib.image.AxesImage at 0x161de3fc9c8>"
      ]
     },
     "execution_count": 272,
     "metadata": {},
     "output_type": "execute_result"
    },
    {
     "data": {
      "image/png": "[encoded data removed]",
      "text/plain": [
       "<Figure size 432x288 with 1 Axes>"
      ]
     },
     "metadata": {
      "needs_background": "light"
     },
     "output_type": "display_data"
    }
   ],
   "source": [
    "plt.imshow(img_gray)"
   ]
  },
  {
   "cell_type": "code",
   "execution_count": 262,
   "metadata": {},
   "outputs": [],
   "source": [
    "img_laplacian = cv.Laplacian(img_gray,cv.CV_64F)"
   ]
  },
  {
   "cell_type": "code",
   "execution_count": 263,
   "metadata": {},
   "outputs": [
    {
     "data": {
      "text/plain": [
       "<matplotlib.image.AxesImage at 0x161de06a9c8>"
      ]
     },
     "execution_count": 263,
     "metadata": {},
     "output_type": "execute_result"
    },
    {
     "data": {
      "image/png": "[encoded data removed]",
      "text/plain": [
       "<Figure size 432x288 with 1 Axes>"
      ]
     },
     "metadata": {
      "needs_background": "light"
     },
     "output_type": "display_data"
    }
   ],
   "source": [
    "plt.imshow(img_laplacian)"
   ]
  },
  {
   "cell_type": "code",
   "execution_count": 264,
   "metadata": {},
   "outputs": [],
   "source": [
    "edges = cv.Canny(img_gray,28,28)"
   ]
  },
  {
   "cell_type": "code",
   "execution_count": 265,
   "metadata": {},
   "outputs": [
    {
     "data": {
      "text/plain": [
       "<matplotlib.image.AxesImage at 0x161dc2e49c8>"
      ]
     },
     "execution_count": 265,
     "metadata": {},
     "output_type": "execute_result"
    },
    {
     "data": {
      "image/png": "[encoded data removed]",
      "text/plain": [
       "<Figure size 432x288 with 1 Axes>"
      ]
     },
     "metadata": {
      "needs_background": "light"
     },
     "output_type": "display_data"
    }
   ],
   "source": [
    "plt.imshow(edges)"
   ]
  },
  {
   "cell_type": "code",
   "execution_count": null,
   "metadata": {},
   "outputs": [],
   "source": []
  },
  {
   "cell_type": "code",
   "execution_count": null,
   "metadata": {},
   "outputs": [],
   "source": []
  },
  {
   "cell_type": "code",
   "execution_count": null,
   "metadata": {},
   "outputs": [],
   "source": []
  },
  {
   "cell_type": "code",
   "execution_count": null,
   "metadata": {},
   "outputs": [],
   "source": []
  },
  {
   "cell_type": "code",
   "execution_count": 278,
   "metadata": {},
   "outputs": [],
   "source": [
    "img_gray = img_gray.reshape(28, 28, 1)"
   ]
  },
  {
   "cell_type": "code",
   "execution_count": 279,
   "metadata": {},
   "outputs": [
    {
     "data": {
      "text/plain": [
       "(28, 28, 1)"
      ]
     },
     "execution_count": 279,
     "metadata": {},
     "output_type": "execute_result"
    }
   ],
   "source": [
    "img_gray.shape"
   ]
  },
  {
   "cell_type": "code",
   "execution_count": 280,
   "metadata": {},
   "outputs": [
    {
     "data": {
      "text/plain": [
       "array([[[ 83],\n",
       "        [ 84],\n",
       "        [ 83],\n",
       "        [ 82],\n",
       "        [ 81],\n",
       "        [ 82],\n",
       "        [ 80],\n",
       "        [ 81],\n",
       "        [ 81],\n",
       "        [ 81],\n",
       "        [ 80],\n",
       "        [ 80],\n",
       "        [ 78],\n",
       "        [ 78],\n",
       "        [ 79],\n",
       "        [ 79],\n",
       "        [ 78],\n",
       "        [ 76],\n",
       "        [ 76],\n",
       "        [ 76],\n",
       "        [ 76],\n",
       "        [ 75],\n",
       "        [ 73],\n",
       "        [ 72],\n",
       "        [ 73],\n",
       "        [ 73],\n",
       "        [ 73],\n",
       "        [ 73]],\n",
       "\n",
       "       [[ 83],\n",
       "        [ 84],\n",
       "        [ 83],\n",
       "        [ 82],\n",
       "        [ 81],\n",
       "        [ 81],\n",
       "        [ 80],\n",
       "        [ 80],\n",
       "        [ 80],\n",
       "        [ 80],\n",
       "        [ 79],\n",
       "        [ 79],\n",
       "        [ 79],\n",
       "        [ 79],\n",
       "        [ 79],\n",
       "        [ 79],\n",
       "        [ 78],\n",
       "        [ 75],\n",
       "        [ 77],\n",
       "        [ 75],\n",
       "        [ 75],\n",
       "        [ 74],\n",
       "        [ 73],\n",
       "        [ 72],\n",
       "        [ 73],\n",
       "        [ 73],\n",
       "        [ 73],\n",
       "        [ 73]],\n",
       "\n",
       "       [[ 81],\n",
       "        [ 81],\n",
       "        [ 80],\n",
       "        [ 80],\n",
       "        [ 80],\n",
       "        [ 80],\n",
       "        [ 79],\n",
       "        [ 79],\n",
       "        [ 80],\n",
       "        [ 79],\n",
       "        [ 78],\n",
       "        [ 78],\n",
       "        [ 78],\n",
       "        [ 77],\n",
       "        [ 77],\n",
       "        [ 78],\n",
       "        [ 77],\n",
       "        [ 75],\n",
       "        [ 75],\n",
       "        [ 75],\n",
       "        [ 74],\n",
       "        [ 74],\n",
       "        [ 72],\n",
       "        [ 71],\n",
       "        [ 71],\n",
       "        [ 72],\n",
       "        [ 72],\n",
       "        [ 72]],\n",
       "\n",
       "       [[ 82],\n",
       "        [ 82],\n",
       "        [ 81],\n",
       "        [ 81],\n",
       "        [ 80],\n",
       "        [ 79],\n",
       "        [ 80],\n",
       "        [ 79],\n",
       "        [ 79],\n",
       "        [ 78],\n",
       "        [ 78],\n",
       "        [ 78],\n",
       "        [ 77],\n",
       "        [ 76],\n",
       "        [ 76],\n",
       "        [ 77],\n",
       "        [ 76],\n",
       "        [ 74],\n",
       "        [ 74],\n",
       "        [ 74],\n",
       "        [ 73],\n",
       "        [ 73],\n",
       "        [ 72],\n",
       "        [ 71],\n",
       "        [ 71],\n",
       "        [ 71],\n",
       "        [ 72],\n",
       "        [ 72]],\n",
       "\n",
       "       [[ 82],\n",
       "        [ 81],\n",
       "        [ 81],\n",
       "        [ 81],\n",
       "        [ 79],\n",
       "        [ 79],\n",
       "        [ 80],\n",
       "        [ 79],\n",
       "        [ 79],\n",
       "        [ 77],\n",
       "        [ 77],\n",
       "        [ 77],\n",
       "        [ 77],\n",
       "        [ 76],\n",
       "        [ 76],\n",
       "        [ 76],\n",
       "        [ 75],\n",
       "        [ 73],\n",
       "        [ 74],\n",
       "        [ 73],\n",
       "        [ 73],\n",
       "        [ 73],\n",
       "        [ 72],\n",
       "        [ 71],\n",
       "        [ 70],\n",
       "        [ 71],\n",
       "        [ 71],\n",
       "        [ 72]],\n",
       "\n",
       "       [[ 81],\n",
       "        [ 81],\n",
       "        [ 80],\n",
       "        [ 79],\n",
       "        [ 79],\n",
       "        [ 78],\n",
       "        [ 79],\n",
       "        [ 77],\n",
       "        [ 78],\n",
       "        [ 77],\n",
       "        [ 77],\n",
       "        [ 77],\n",
       "        [ 76],\n",
       "        [ 76],\n",
       "        [ 74],\n",
       "        [ 75],\n",
       "        [ 72],\n",
       "        [ 73],\n",
       "        [ 75],\n",
       "        [ 75],\n",
       "        [ 74],\n",
       "        [ 73],\n",
       "        [ 72],\n",
       "        [ 71],\n",
       "        [ 72],\n",
       "        [ 71],\n",
       "        [ 70],\n",
       "        [ 70]],\n",
       "\n",
       "       [[ 81],\n",
       "        [ 81],\n",
       "        [ 80],\n",
       "        [ 79],\n",
       "        [ 78],\n",
       "        [ 77],\n",
       "        [ 79],\n",
       "        [ 77],\n",
       "        [ 78],\n",
       "        [ 77],\n",
       "        [ 76],\n",
       "        [ 76],\n",
       "        [ 75],\n",
       "        [ 74],\n",
       "        [ 75],\n",
       "        [ 67],\n",
       "        [ 69],\n",
       "        [ 74],\n",
       "        [ 73],\n",
       "        [ 74],\n",
       "        [ 73],\n",
       "        [ 73],\n",
       "        [ 72],\n",
       "        [ 72],\n",
       "        [ 73],\n",
       "        [ 73],\n",
       "        [ 71],\n",
       "        [ 70]],\n",
       "\n",
       "       [[ 81],\n",
       "        [ 79],\n",
       "        [ 79],\n",
       "        [ 78],\n",
       "        [ 77],\n",
       "        [ 77],\n",
       "        [ 78],\n",
       "        [ 77],\n",
       "        [ 77],\n",
       "        [ 76],\n",
       "        [ 76],\n",
       "        [ 76],\n",
       "        [ 76],\n",
       "        [ 76],\n",
       "        [ 98],\n",
       "        [ 97],\n",
       "        [ 89],\n",
       "        [ 70],\n",
       "        [ 72],\n",
       "        [ 71],\n",
       "        [ 72],\n",
       "        [ 72],\n",
       "        [ 72],\n",
       "        [ 72],\n",
       "        [ 71],\n",
       "        [ 73],\n",
       "        [ 72],\n",
       "        [ 71]],\n",
       "\n",
       "       [[ 80],\n",
       "        [ 79],\n",
       "        [ 78],\n",
       "        [ 76],\n",
       "        [ 77],\n",
       "        [ 76],\n",
       "        [ 78],\n",
       "        [ 76],\n",
       "        [ 77],\n",
       "        [ 76],\n",
       "        [ 76],\n",
       "        [ 76],\n",
       "        [ 76],\n",
       "        [ 98],\n",
       "        [ 77],\n",
       "        [ 71],\n",
       "        [ 72],\n",
       "        [ 71],\n",
       "        [ 70],\n",
       "        [ 72],\n",
       "        [ 71],\n",
       "        [ 70],\n",
       "        [ 71],\n",
       "        [ 70],\n",
       "        [ 70],\n",
       "        [ 72],\n",
       "        [ 72],\n",
       "        [ 72]],\n",
       "\n",
       "       [[ 80],\n",
       "        [ 80],\n",
       "        [ 77],\n",
       "        [ 76],\n",
       "        [ 77],\n",
       "        [ 76],\n",
       "        [ 77],\n",
       "        [ 75],\n",
       "        [ 76],\n",
       "        [ 76],\n",
       "        [ 75],\n",
       "        [ 76],\n",
       "        [ 97],\n",
       "        [ 76],\n",
       "        [ 72],\n",
       "        [ 70],\n",
       "        [ 71],\n",
       "        [ 69],\n",
       "        [ 67],\n",
       "        [ 69],\n",
       "        [ 69],\n",
       "        [ 69],\n",
       "        [ 69],\n",
       "        [ 69],\n",
       "        [ 70],\n",
       "        [ 71],\n",
       "        [ 71],\n",
       "        [ 71]],\n",
       "\n",
       "       [[ 80],\n",
       "        [ 79],\n",
       "        [ 78],\n",
       "        [ 77],\n",
       "        [ 77],\n",
       "        [ 77],\n",
       "        [ 78],\n",
       "        [ 76],\n",
       "        [ 75],\n",
       "        [ 77],\n",
       "        [ 75],\n",
       "        [ 89],\n",
       "        [ 88],\n",
       "        [ 72],\n",
       "        [ 72],\n",
       "        [ 71],\n",
       "        [ 69],\n",
       "        [ 68],\n",
       "        [ 67],\n",
       "        [ 67],\n",
       "        [ 68],\n",
       "        [ 69],\n",
       "        [ 69],\n",
       "        [ 70],\n",
       "        [ 69],\n",
       "        [ 69],\n",
       "        [ 70],\n",
       "        [ 70]],\n",
       "\n",
       "       [[ 79],\n",
       "        [ 79],\n",
       "        [ 77],\n",
       "        [ 77],\n",
       "        [ 77],\n",
       "        [ 78],\n",
       "        [ 77],\n",
       "        [ 77],\n",
       "        [ 76],\n",
       "        [ 77],\n",
       "        [ 74],\n",
       "        [ 99],\n",
       "        [ 74],\n",
       "        [ 71],\n",
       "        [ 70],\n",
       "        [ 69],\n",
       "        [ 68],\n",
       "        [ 67],\n",
       "        [ 65],\n",
       "        [ 66],\n",
       "        [ 66],\n",
       "        [ 67],\n",
       "        [ 67],\n",
       "        [ 67],\n",
       "        [ 66],\n",
       "        [ 67],\n",
       "        [ 67],\n",
       "        [ 69]],\n",
       "\n",
       "       [[ 78],\n",
       "        [ 77],\n",
       "        [ 76],\n",
       "        [ 76],\n",
       "        [ 76],\n",
       "        [ 78],\n",
       "        [ 76],\n",
       "        [ 76],\n",
       "        [ 77],\n",
       "        [ 73],\n",
       "        [ 82],\n",
       "        [ 88],\n",
       "        [ 73],\n",
       "        [ 71],\n",
       "        [ 71],\n",
       "        [ 67],\n",
       "        [ 67],\n",
       "        [ 66],\n",
       "        [ 65],\n",
       "        [ 65],\n",
       "        [ 64],\n",
       "        [ 65],\n",
       "        [ 65],\n",
       "        [ 65],\n",
       "        [ 65],\n",
       "        [ 66],\n",
       "        [ 67],\n",
       "        [ 68]],\n",
       "\n",
       "       [[ 78],\n",
       "        [ 77],\n",
       "        [ 76],\n",
       "        [ 76],\n",
       "        [ 77],\n",
       "        [ 77],\n",
       "        [ 77],\n",
       "        [ 76],\n",
       "        [ 75],\n",
       "        [ 76],\n",
       "        [ 91],\n",
       "        [ 77],\n",
       "        [ 73],\n",
       "        [ 74],\n",
       "        [ 74],\n",
       "        [ 72],\n",
       "        [ 66],\n",
       "        [ 66],\n",
       "        [ 63],\n",
       "        [ 63],\n",
       "        [ 63],\n",
       "        [ 63],\n",
       "        [ 63],\n",
       "        [ 64],\n",
       "        [ 64],\n",
       "        [ 64],\n",
       "        [ 66],\n",
       "        [ 67]],\n",
       "\n",
       "       [[ 79],\n",
       "        [ 78],\n",
       "        [ 77],\n",
       "        [ 78],\n",
       "        [ 77],\n",
       "        [ 76],\n",
       "        [ 77],\n",
       "        [ 76],\n",
       "        [ 76],\n",
       "        [ 73],\n",
       "        [ 96],\n",
       "        [ 73],\n",
       "        [ 74],\n",
       "        [ 87],\n",
       "        [ 97],\n",
       "        [ 93],\n",
       "        [ 65],\n",
       "        [ 65],\n",
       "        [ 62],\n",
       "        [ 62],\n",
       "        [ 61],\n",
       "        [ 61],\n",
       "        [ 62],\n",
       "        [ 62],\n",
       "        [ 62],\n",
       "        [ 62],\n",
       "        [ 64],\n",
       "        [ 65]],\n",
       "\n",
       "       [[ 79],\n",
       "        [ 78],\n",
       "        [ 77],\n",
       "        [ 76],\n",
       "        [ 76],\n",
       "        [ 75],\n",
       "        [ 75],\n",
       "        [ 74],\n",
       "        [ 74],\n",
       "        [ 74],\n",
       "        [ 94],\n",
       "        [ 77],\n",
       "        [ 83],\n",
       "        [ 71],\n",
       "        [ 67],\n",
       "        [ 82],\n",
       "        [ 67],\n",
       "        [ 62],\n",
       "        [ 62],\n",
       "        [ 61],\n",
       "        [ 61],\n",
       "        [ 61],\n",
       "        [ 61],\n",
       "        [ 61],\n",
       "        [ 60],\n",
       "        [ 62],\n",
       "        [ 63],\n",
       "        [ 63]],\n",
       "\n",
       "       [[ 79],\n",
       "        [ 78],\n",
       "        [ 78],\n",
       "        [ 77],\n",
       "        [ 75],\n",
       "        [ 76],\n",
       "        [ 76],\n",
       "        [ 74],\n",
       "        [ 73],\n",
       "        [ 71],\n",
       "        [100],\n",
       "        [ 75],\n",
       "        [ 71],\n",
       "        [ 69],\n",
       "        [ 70],\n",
       "        [ 83],\n",
       "        [ 67],\n",
       "        [ 64],\n",
       "        [ 59],\n",
       "        [ 62],\n",
       "        [ 60],\n",
       "        [ 59],\n",
       "        [ 59],\n",
       "        [ 60],\n",
       "        [ 59],\n",
       "        [ 60],\n",
       "        [ 62],\n",
       "        [ 62]],\n",
       "\n",
       "       [[ 78],\n",
       "        [ 78],\n",
       "        [ 77],\n",
       "        [ 79],\n",
       "        [ 76],\n",
       "        [ 75],\n",
       "        [ 75],\n",
       "        [ 74],\n",
       "        [ 76],\n",
       "        [ 73],\n",
       "        [ 95],\n",
       "        [ 75],\n",
       "        [ 70],\n",
       "        [ 71],\n",
       "        [ 69],\n",
       "        [ 87],\n",
       "        [ 63],\n",
       "        [ 65],\n",
       "        [ 61],\n",
       "        [ 61],\n",
       "        [ 59],\n",
       "        [ 58],\n",
       "        [ 58],\n",
       "        [ 59],\n",
       "        [ 59],\n",
       "        [ 60],\n",
       "        [ 61],\n",
       "        [ 62]],\n",
       "\n",
       "       [[ 78],\n",
       "        [ 78],\n",
       "        [ 76],\n",
       "        [ 76],\n",
       "        [ 76],\n",
       "        [ 74],\n",
       "        [ 73],\n",
       "        [ 73],\n",
       "        [ 74],\n",
       "        [ 72],\n",
       "        [ 79],\n",
       "        [ 99],\n",
       "        [ 71],\n",
       "        [ 72],\n",
       "        [ 88],\n",
       "        [ 77],\n",
       "        [ 64],\n",
       "        [ 63],\n",
       "        [ 60],\n",
       "        [ 59],\n",
       "        [ 58],\n",
       "        [ 57],\n",
       "        [ 57],\n",
       "        [ 58],\n",
       "        [ 58],\n",
       "        [ 59],\n",
       "        [ 60],\n",
       "        [ 61]],\n",
       "\n",
       "       [[ 78],\n",
       "        [ 76],\n",
       "        [ 77],\n",
       "        [ 75],\n",
       "        [ 75],\n",
       "        [ 75],\n",
       "        [ 75],\n",
       "        [ 72],\n",
       "        [ 72],\n",
       "        [ 71],\n",
       "        [ 70],\n",
       "        [ 78],\n",
       "        [ 91],\n",
       "        [ 89],\n",
       "        [ 74],\n",
       "        [ 64],\n",
       "        [ 63],\n",
       "        [ 63],\n",
       "        [ 59],\n",
       "        [ 60],\n",
       "        [ 57],\n",
       "        [ 57],\n",
       "        [ 57],\n",
       "        [ 57],\n",
       "        [ 57],\n",
       "        [ 58],\n",
       "        [ 59],\n",
       "        [ 59]],\n",
       "\n",
       "       [[ 78],\n",
       "        [ 77],\n",
       "        [ 77],\n",
       "        [ 77],\n",
       "        [ 76],\n",
       "        [ 76],\n",
       "        [ 75],\n",
       "        [ 73],\n",
       "        [ 72],\n",
       "        [ 71],\n",
       "        [ 71],\n",
       "        [ 71],\n",
       "        [ 69],\n",
       "        [ 68],\n",
       "        [ 67],\n",
       "        [ 65],\n",
       "        [ 64],\n",
       "        [ 62],\n",
       "        [ 61],\n",
       "        [ 61],\n",
       "        [ 59],\n",
       "        [ 58],\n",
       "        [ 57],\n",
       "        [ 56],\n",
       "        [ 56],\n",
       "        [ 58],\n",
       "        [ 59],\n",
       "        [ 60]],\n",
       "\n",
       "       [[ 79],\n",
       "        [ 78],\n",
       "        [ 77],\n",
       "        [ 77],\n",
       "        [ 76],\n",
       "        [ 75],\n",
       "        [ 74],\n",
       "        [ 73],\n",
       "        [ 70],\n",
       "        [ 70],\n",
       "        [ 70],\n",
       "        [ 70],\n",
       "        [ 68],\n",
       "        [ 68],\n",
       "        [ 65],\n",
       "        [ 65],\n",
       "        [ 63],\n",
       "        [ 63],\n",
       "        [ 61],\n",
       "        [ 61],\n",
       "        [ 60],\n",
       "        [ 58],\n",
       "        [ 57],\n",
       "        [ 57],\n",
       "        [ 58],\n",
       "        [ 58],\n",
       "        [ 58],\n",
       "        [ 59]],\n",
       "\n",
       "       [[ 78],\n",
       "        [ 77],\n",
       "        [ 77],\n",
       "        [ 76],\n",
       "        [ 75],\n",
       "        [ 74],\n",
       "        [ 73],\n",
       "        [ 73],\n",
       "        [ 71],\n",
       "        [ 70],\n",
       "        [ 69],\n",
       "        [ 68],\n",
       "        [ 68],\n",
       "        [ 67],\n",
       "        [ 65],\n",
       "        [ 63],\n",
       "        [ 63],\n",
       "        [ 63],\n",
       "        [ 62],\n",
       "        [ 61],\n",
       "        [ 60],\n",
       "        [ 59],\n",
       "        [ 58],\n",
       "        [ 57],\n",
       "        [ 58],\n",
       "        [ 57],\n",
       "        [ 57],\n",
       "        [ 57]],\n",
       "\n",
       "       [[ 77],\n",
       "        [ 77],\n",
       "        [ 76],\n",
       "        [ 76],\n",
       "        [ 76],\n",
       "        [ 75],\n",
       "        [ 74],\n",
       "        [ 74],\n",
       "        [ 72],\n",
       "        [ 70],\n",
       "        [ 69],\n",
       "        [ 67],\n",
       "        [ 68],\n",
       "        [ 66],\n",
       "        [ 65],\n",
       "        [ 63],\n",
       "        [ 63],\n",
       "        [ 62],\n",
       "        [ 62],\n",
       "        [ 61],\n",
       "        [ 60],\n",
       "        [ 60],\n",
       "        [ 59],\n",
       "        [ 58],\n",
       "        [ 58],\n",
       "        [ 57],\n",
       "        [ 57],\n",
       "        [ 57]],\n",
       "\n",
       "       [[ 78],\n",
       "        [ 77],\n",
       "        [ 76],\n",
       "        [ 77],\n",
       "        [ 75],\n",
       "        [ 74],\n",
       "        [ 74],\n",
       "        [ 73],\n",
       "        [ 73],\n",
       "        [ 71],\n",
       "        [ 70],\n",
       "        [ 68],\n",
       "        [ 68],\n",
       "        [ 67],\n",
       "        [ 64],\n",
       "        [ 64],\n",
       "        [ 63],\n",
       "        [ 62],\n",
       "        [ 61],\n",
       "        [ 62],\n",
       "        [ 60],\n",
       "        [ 58],\n",
       "        [ 58],\n",
       "        [ 59],\n",
       "        [ 58],\n",
       "        [ 56],\n",
       "        [ 56],\n",
       "        [ 56]],\n",
       "\n",
       "       [[ 78],\n",
       "        [ 76],\n",
       "        [ 76],\n",
       "        [ 76],\n",
       "        [ 75],\n",
       "        [ 74],\n",
       "        [ 73],\n",
       "        [ 71],\n",
       "        [ 70],\n",
       "        [ 69],\n",
       "        [ 69],\n",
       "        [ 68],\n",
       "        [ 66],\n",
       "        [ 65],\n",
       "        [ 64],\n",
       "        [ 64],\n",
       "        [ 62],\n",
       "        [ 63],\n",
       "        [ 61],\n",
       "        [ 59],\n",
       "        [ 59],\n",
       "        [ 58],\n",
       "        [ 58],\n",
       "        [ 58],\n",
       "        [ 56],\n",
       "        [ 55],\n",
       "        [ 54],\n",
       "        [ 55]],\n",
       "\n",
       "       [[ 78],\n",
       "        [ 77],\n",
       "        [ 77],\n",
       "        [ 77],\n",
       "        [ 75],\n",
       "        [ 74],\n",
       "        [ 73],\n",
       "        [ 71],\n",
       "        [ 71],\n",
       "        [ 69],\n",
       "        [ 69],\n",
       "        [ 68],\n",
       "        [ 66],\n",
       "        [ 65],\n",
       "        [ 64],\n",
       "        [ 64],\n",
       "        [ 63],\n",
       "        [ 62],\n",
       "        [ 61],\n",
       "        [ 60],\n",
       "        [ 59],\n",
       "        [ 58],\n",
       "        [ 58],\n",
       "        [ 58],\n",
       "        [ 56],\n",
       "        [ 55],\n",
       "        [ 55],\n",
       "        [ 55]],\n",
       "\n",
       "       [[ 78],\n",
       "        [ 77],\n",
       "        [ 77],\n",
       "        [ 77],\n",
       "        [ 75],\n",
       "        [ 74],\n",
       "        [ 73],\n",
       "        [ 71],\n",
       "        [ 71],\n",
       "        [ 70],\n",
       "        [ 69],\n",
       "        [ 68],\n",
       "        [ 67],\n",
       "        [ 65],\n",
       "        [ 64],\n",
       "        [ 63],\n",
       "        [ 63],\n",
       "        [ 62],\n",
       "        [ 61],\n",
       "        [ 60],\n",
       "        [ 59],\n",
       "        [ 58],\n",
       "        [ 59],\n",
       "        [ 57],\n",
       "        [ 56],\n",
       "        [ 55],\n",
       "        [ 55],\n",
       "        [ 55]]], dtype=uint8)"
      ]
     },
     "execution_count": 280,
     "metadata": {},
     "output_type": "execute_result"
    }
   ],
   "source": [
    "img_gray"
   ]
  },
  {
   "cell_type": "code",
   "execution_count": 281,
   "metadata": {},
   "outputs": [],
   "source": [
    "img_gray = img_gray/ 255"
   ]
  },
  {
   "cell_type": "code",
   "execution_count": 282,
   "metadata": {},
   "outputs": [
    {
     "data": {
      "text/plain": [
       "array([[[0.3254902 ],\n",
       "        [0.32941176],\n",
       "        [0.3254902 ],\n",
       "        [0.32156863],\n",
       "        [0.31764706],\n",
       "        [0.32156863],\n",
       "        [0.31372549],\n",
       "        [0.31764706],\n",
       "        [0.31764706],\n",
       "        [0.31764706],\n",
       "        [0.31372549],\n",
       "        [0.31372549],\n",
       "        [0.30588235],\n",
       "        [0.30588235],\n",
       "        [0.30980392],\n",
       "        [0.30980392],\n",
       "        [0.30588235],\n",
       "        [0.29803922],\n",
       "        [0.29803922],\n",
       "        [0.29803922],\n",
       "        [0.29803922],\n",
       "        [0.29411765],\n",
       "        [0.28627451],\n",
       "        [0.28235294],\n",
       "        [0.28627451],\n",
       "        [0.28627451],\n",
       "        [0.28627451],\n",
       "        [0.28627451]],\n",
       "\n",
       "       [[0.3254902 ],\n",
       "        [0.32941176],\n",
       "        [0.3254902 ],\n",
       "        [0.32156863],\n",
       "        [0.31764706],\n",
       "        [0.31764706],\n",
       "        [0.31372549],\n",
       "        [0.31372549],\n",
       "        [0.31372549],\n",
       "        [0.31372549],\n",
       "        [0.30980392],\n",
       "        [0.30980392],\n",
       "        [0.30980392],\n",
       "        [0.30980392],\n",
       "        [0.30980392],\n",
       "        [0.30980392],\n",
       "        [0.30588235],\n",
       "        [0.29411765],\n",
       "        [0.30196078],\n",
       "        [0.29411765],\n",
       "        [0.29411765],\n",
       "        [0.29019608],\n",
       "        [0.28627451],\n",
       "        [0.28235294],\n",
       "        [0.28627451],\n",
       "        [0.28627451],\n",
       "        [0.28627451],\n",
       "        [0.28627451]],\n",
       "\n",
       "       [[0.31764706],\n",
       "        [0.31764706],\n",
       "        [0.31372549],\n",
       "        [0.31372549],\n",
       "        [0.31372549],\n",
       "        [0.31372549],\n",
       "        [0.30980392],\n",
       "        [0.30980392],\n",
       "        [0.31372549],\n",
       "        [0.30980392],\n",
       "        [0.30588235],\n",
       "        [0.30588235],\n",
       "        [0.30588235],\n",
       "        [0.30196078],\n",
       "        [0.30196078],\n",
       "        [0.30588235],\n",
       "        [0.30196078],\n",
       "        [0.29411765],\n",
       "        [0.29411765],\n",
       "        [0.29411765],\n",
       "        [0.29019608],\n",
       "        [0.29019608],\n",
       "        [0.28235294],\n",
       "        [0.27843137],\n",
       "        [0.27843137],\n",
       "        [0.28235294],\n",
       "        [0.28235294],\n",
       "        [0.28235294]],\n",
       "\n",
       "       [[0.32156863],\n",
       "        [0.32156863],\n",
       "        [0.31764706],\n",
       "        [0.31764706],\n",
       "        [0.31372549],\n",
       "        [0.30980392],\n",
       "        [0.31372549],\n",
       "        [0.30980392],\n",
       "        [0.30980392],\n",
       "        [0.30588235],\n",
       "        [0.30588235],\n",
       "        [0.30588235],\n",
       "        [0.30196078],\n",
       "        [0.29803922],\n",
       "        [0.29803922],\n",
       "        [0.30196078],\n",
       "        [0.29803922],\n",
       "        [0.29019608],\n",
       "        [0.29019608],\n",
       "        [0.29019608],\n",
       "        [0.28627451],\n",
       "        [0.28627451],\n",
       "        [0.28235294],\n",
       "        [0.27843137],\n",
       "        [0.27843137],\n",
       "        [0.27843137],\n",
       "        [0.28235294],\n",
       "        [0.28235294]],\n",
       "\n",
       "       [[0.32156863],\n",
       "        [0.31764706],\n",
       "        [0.31764706],\n",
       "        [0.31764706],\n",
       "        [0.30980392],\n",
       "        [0.30980392],\n",
       "        [0.31372549],\n",
       "        [0.30980392],\n",
       "        [0.30980392],\n",
       "        [0.30196078],\n",
       "        [0.30196078],\n",
       "        [0.30196078],\n",
       "        [0.30196078],\n",
       "        [0.29803922],\n",
       "        [0.29803922],\n",
       "        [0.29803922],\n",
       "        [0.29411765],\n",
       "        [0.28627451],\n",
       "        [0.29019608],\n",
       "        [0.28627451],\n",
       "        [0.28627451],\n",
       "        [0.28627451],\n",
       "        [0.28235294],\n",
       "        [0.27843137],\n",
       "        [0.2745098 ],\n",
       "        [0.27843137],\n",
       "        [0.27843137],\n",
       "        [0.28235294]],\n",
       "\n",
       "       [[0.31764706],\n",
       "        [0.31764706],\n",
       "        [0.31372549],\n",
       "        [0.30980392],\n",
       "        [0.30980392],\n",
       "        [0.30588235],\n",
       "        [0.30980392],\n",
       "        [0.30196078],\n",
       "        [0.30588235],\n",
       "        [0.30196078],\n",
       "        [0.30196078],\n",
       "        [0.30196078],\n",
       "        [0.29803922],\n",
       "        [0.29803922],\n",
       "        [0.29019608],\n",
       "        [0.29411765],\n",
       "        [0.28235294],\n",
       "        [0.28627451],\n",
       "        [0.29411765],\n",
       "        [0.29411765],\n",
       "        [0.29019608],\n",
       "        [0.28627451],\n",
       "        [0.28235294],\n",
       "        [0.27843137],\n",
       "        [0.28235294],\n",
       "        [0.27843137],\n",
       "        [0.2745098 ],\n",
       "        [0.2745098 ]],\n",
       "\n",
       "       [[0.31764706],\n",
       "        [0.31764706],\n",
       "        [0.31372549],\n",
       "        [0.30980392],\n",
       "        [0.30588235],\n",
       "        [0.30196078],\n",
       "        [0.30980392],\n",
       "        [0.30196078],\n",
       "        [0.30588235],\n",
       "        [0.30196078],\n",
       "        [0.29803922],\n",
       "        [0.29803922],\n",
       "        [0.29411765],\n",
       "        [0.29019608],\n",
       "        [0.29411765],\n",
       "        [0.2627451 ],\n",
       "        [0.27058824],\n",
       "        [0.29019608],\n",
       "        [0.28627451],\n",
       "        [0.29019608],\n",
       "        [0.28627451],\n",
       "        [0.28627451],\n",
       "        [0.28235294],\n",
       "        [0.28235294],\n",
       "        [0.28627451],\n",
       "        [0.28627451],\n",
       "        [0.27843137],\n",
       "        [0.2745098 ]],\n",
       "\n",
       "       [[0.31764706],\n",
       "        [0.30980392],\n",
       "        [0.30980392],\n",
       "        [0.30588235],\n",
       "        [0.30196078],\n",
       "        [0.30196078],\n",
       "        [0.30588235],\n",
       "        [0.30196078],\n",
       "        [0.30196078],\n",
       "        [0.29803922],\n",
       "        [0.29803922],\n",
       "        [0.29803922],\n",
       "        [0.29803922],\n",
       "        [0.29803922],\n",
       "        [0.38431373],\n",
       "        [0.38039216],\n",
       "        [0.34901961],\n",
       "        [0.2745098 ],\n",
       "        [0.28235294],\n",
       "        [0.27843137],\n",
       "        [0.28235294],\n",
       "        [0.28235294],\n",
       "        [0.28235294],\n",
       "        [0.28235294],\n",
       "        [0.27843137],\n",
       "        [0.28627451],\n",
       "        [0.28235294],\n",
       "        [0.27843137]],\n",
       "\n",
       "       [[0.31372549],\n",
       "        [0.30980392],\n",
       "        [0.30588235],\n",
       "        [0.29803922],\n",
       "        [0.30196078],\n",
       "        [0.29803922],\n",
       "        [0.30588235],\n",
       "        [0.29803922],\n",
       "        [0.30196078],\n",
       "        [0.29803922],\n",
       "        [0.29803922],\n",
       "        [0.29803922],\n",
       "        [0.29803922],\n",
       "        [0.38431373],\n",
       "        [0.30196078],\n",
       "        [0.27843137],\n",
       "        [0.28235294],\n",
       "        [0.27843137],\n",
       "        [0.2745098 ],\n",
       "        [0.28235294],\n",
       "        [0.27843137],\n",
       "        [0.2745098 ],\n",
       "        [0.27843137],\n",
       "        [0.2745098 ],\n",
       "        [0.2745098 ],\n",
       "        [0.28235294],\n",
       "        [0.28235294],\n",
       "        [0.28235294]],\n",
       "\n",
       "       [[0.31372549],\n",
       "        [0.31372549],\n",
       "        [0.30196078],\n",
       "        [0.29803922],\n",
       "        [0.30196078],\n",
       "        [0.29803922],\n",
       "        [0.30196078],\n",
       "        [0.29411765],\n",
       "        [0.29803922],\n",
       "        [0.29803922],\n",
       "        [0.29411765],\n",
       "        [0.29803922],\n",
       "        [0.38039216],\n",
       "        [0.29803922],\n",
       "        [0.28235294],\n",
       "        [0.2745098 ],\n",
       "        [0.27843137],\n",
       "        [0.27058824],\n",
       "        [0.2627451 ],\n",
       "        [0.27058824],\n",
       "        [0.27058824],\n",
       "        [0.27058824],\n",
       "        [0.27058824],\n",
       "        [0.27058824],\n",
       "        [0.2745098 ],\n",
       "        [0.27843137],\n",
       "        [0.27843137],\n",
       "        [0.27843137]],\n",
       "\n",
       "       [[0.31372549],\n",
       "        [0.30980392],\n",
       "        [0.30588235],\n",
       "        [0.30196078],\n",
       "        [0.30196078],\n",
       "        [0.30196078],\n",
       "        [0.30588235],\n",
       "        [0.29803922],\n",
       "        [0.29411765],\n",
       "        [0.30196078],\n",
       "        [0.29411765],\n",
       "        [0.34901961],\n",
       "        [0.34509804],\n",
       "        [0.28235294],\n",
       "        [0.28235294],\n",
       "        [0.27843137],\n",
       "        [0.27058824],\n",
       "        [0.26666667],\n",
       "        [0.2627451 ],\n",
       "        [0.2627451 ],\n",
       "        [0.26666667],\n",
       "        [0.27058824],\n",
       "        [0.27058824],\n",
       "        [0.2745098 ],\n",
       "        [0.27058824],\n",
       "        [0.27058824],\n",
       "        [0.2745098 ],\n",
       "        [0.2745098 ]],\n",
       "\n",
       "       [[0.30980392],\n",
       "        [0.30980392],\n",
       "        [0.30196078],\n",
       "        [0.30196078],\n",
       "        [0.30196078],\n",
       "        [0.30588235],\n",
       "        [0.30196078],\n",
       "        [0.30196078],\n",
       "        [0.29803922],\n",
       "        [0.30196078],\n",
       "        [0.29019608],\n",
       "        [0.38823529],\n",
       "        [0.29019608],\n",
       "        [0.27843137],\n",
       "        [0.2745098 ],\n",
       "        [0.27058824],\n",
       "        [0.26666667],\n",
       "        [0.2627451 ],\n",
       "        [0.25490196],\n",
       "        [0.25882353],\n",
       "        [0.25882353],\n",
       "        [0.2627451 ],\n",
       "        [0.2627451 ],\n",
       "        [0.2627451 ],\n",
       "        [0.25882353],\n",
       "        [0.2627451 ],\n",
       "        [0.2627451 ],\n",
       "        [0.27058824]],\n",
       "\n",
       "       [[0.30588235],\n",
       "        [0.30196078],\n",
       "        [0.29803922],\n",
       "        [0.29803922],\n",
       "        [0.29803922],\n",
       "        [0.30588235],\n",
       "        [0.29803922],\n",
       "        [0.29803922],\n",
       "        [0.30196078],\n",
       "        [0.28627451],\n",
       "        [0.32156863],\n",
       "        [0.34509804],\n",
       "        [0.28627451],\n",
       "        [0.27843137],\n",
       "        [0.27843137],\n",
       "        [0.2627451 ],\n",
       "        [0.2627451 ],\n",
       "        [0.25882353],\n",
       "        [0.25490196],\n",
       "        [0.25490196],\n",
       "        [0.25098039],\n",
       "        [0.25490196],\n",
       "        [0.25490196],\n",
       "        [0.25490196],\n",
       "        [0.25490196],\n",
       "        [0.25882353],\n",
       "        [0.2627451 ],\n",
       "        [0.26666667]],\n",
       "\n",
       "       [[0.30588235],\n",
       "        [0.30196078],\n",
       "        [0.29803922],\n",
       "        [0.29803922],\n",
       "        [0.30196078],\n",
       "        [0.30196078],\n",
       "        [0.30196078],\n",
       "        [0.29803922],\n",
       "        [0.29411765],\n",
       "        [0.29803922],\n",
       "        [0.35686275],\n",
       "        [0.30196078],\n",
       "        [0.28627451],\n",
       "        [0.29019608],\n",
       "        [0.29019608],\n",
       "        [0.28235294],\n",
       "        [0.25882353],\n",
       "        [0.25882353],\n",
       "        [0.24705882],\n",
       "        [0.24705882],\n",
       "        [0.24705882],\n",
       "        [0.24705882],\n",
       "        [0.24705882],\n",
       "        [0.25098039],\n",
       "        [0.25098039],\n",
       "        [0.25098039],\n",
       "        [0.25882353],\n",
       "        [0.2627451 ]],\n",
       "\n",
       "       [[0.30980392],\n",
       "        [0.30588235],\n",
       "        [0.30196078],\n",
       "        [0.30588235],\n",
       "        [0.30196078],\n",
       "        [0.29803922],\n",
       "        [0.30196078],\n",
       "        [0.29803922],\n",
       "        [0.29803922],\n",
       "        [0.28627451],\n",
       "        [0.37647059],\n",
       "        [0.28627451],\n",
       "        [0.29019608],\n",
       "        [0.34117647],\n",
       "        [0.38039216],\n",
       "        [0.36470588],\n",
       "        [0.25490196],\n",
       "        [0.25490196],\n",
       "        [0.24313725],\n",
       "        [0.24313725],\n",
       "        [0.23921569],\n",
       "        [0.23921569],\n",
       "        [0.24313725],\n",
       "        [0.24313725],\n",
       "        [0.24313725],\n",
       "        [0.24313725],\n",
       "        [0.25098039],\n",
       "        [0.25490196]],\n",
       "\n",
       "       [[0.30980392],\n",
       "        [0.30588235],\n",
       "        [0.30196078],\n",
       "        [0.29803922],\n",
       "        [0.29803922],\n",
       "        [0.29411765],\n",
       "        [0.29411765],\n",
       "        [0.29019608],\n",
       "        [0.29019608],\n",
       "        [0.29019608],\n",
       "        [0.36862745],\n",
       "        [0.30196078],\n",
       "        [0.3254902 ],\n",
       "        [0.27843137],\n",
       "        [0.2627451 ],\n",
       "        [0.32156863],\n",
       "        [0.2627451 ],\n",
       "        [0.24313725],\n",
       "        [0.24313725],\n",
       "        [0.23921569],\n",
       "        [0.23921569],\n",
       "        [0.23921569],\n",
       "        [0.23921569],\n",
       "        [0.23921569],\n",
       "        [0.23529412],\n",
       "        [0.24313725],\n",
       "        [0.24705882],\n",
       "        [0.24705882]],\n",
       "\n",
       "       [[0.30980392],\n",
       "        [0.30588235],\n",
       "        [0.30588235],\n",
       "        [0.30196078],\n",
       "        [0.29411765],\n",
       "        [0.29803922],\n",
       "        [0.29803922],\n",
       "        [0.29019608],\n",
       "        [0.28627451],\n",
       "        [0.27843137],\n",
       "        [0.39215686],\n",
       "        [0.29411765],\n",
       "        [0.27843137],\n",
       "        [0.27058824],\n",
       "        [0.2745098 ],\n",
       "        [0.3254902 ],\n",
       "        [0.2627451 ],\n",
       "        [0.25098039],\n",
       "        [0.23137255],\n",
       "        [0.24313725],\n",
       "        [0.23529412],\n",
       "        [0.23137255],\n",
       "        [0.23137255],\n",
       "        [0.23529412],\n",
       "        [0.23137255],\n",
       "        [0.23529412],\n",
       "        [0.24313725],\n",
       "        [0.24313725]],\n",
       "\n",
       "       [[0.30588235],\n",
       "        [0.30588235],\n",
       "        [0.30196078],\n",
       "        [0.30980392],\n",
       "        [0.29803922],\n",
       "        [0.29411765],\n",
       "        [0.29411765],\n",
       "        [0.29019608],\n",
       "        [0.29803922],\n",
       "        [0.28627451],\n",
       "        [0.37254902],\n",
       "        [0.29411765],\n",
       "        [0.2745098 ],\n",
       "        [0.27843137],\n",
       "        [0.27058824],\n",
       "        [0.34117647],\n",
       "        [0.24705882],\n",
       "        [0.25490196],\n",
       "        [0.23921569],\n",
       "        [0.23921569],\n",
       "        [0.23137255],\n",
       "        [0.22745098],\n",
       "        [0.22745098],\n",
       "        [0.23137255],\n",
       "        [0.23137255],\n",
       "        [0.23529412],\n",
       "        [0.23921569],\n",
       "        [0.24313725]],\n",
       "\n",
       "       [[0.30588235],\n",
       "        [0.30588235],\n",
       "        [0.29803922],\n",
       "        [0.29803922],\n",
       "        [0.29803922],\n",
       "        [0.29019608],\n",
       "        [0.28627451],\n",
       "        [0.28627451],\n",
       "        [0.29019608],\n",
       "        [0.28235294],\n",
       "        [0.30980392],\n",
       "        [0.38823529],\n",
       "        [0.27843137],\n",
       "        [0.28235294],\n",
       "        [0.34509804],\n",
       "        [0.30196078],\n",
       "        [0.25098039],\n",
       "        [0.24705882],\n",
       "        [0.23529412],\n",
       "        [0.23137255],\n",
       "        [0.22745098],\n",
       "        [0.22352941],\n",
       "        [0.22352941],\n",
       "        [0.22745098],\n",
       "        [0.22745098],\n",
       "        [0.23137255],\n",
       "        [0.23529412],\n",
       "        [0.23921569]],\n",
       "\n",
       "       [[0.30588235],\n",
       "        [0.29803922],\n",
       "        [0.30196078],\n",
       "        [0.29411765],\n",
       "        [0.29411765],\n",
       "        [0.29411765],\n",
       "        [0.29411765],\n",
       "        [0.28235294],\n",
       "        [0.28235294],\n",
       "        [0.27843137],\n",
       "        [0.2745098 ],\n",
       "        [0.30588235],\n",
       "        [0.35686275],\n",
       "        [0.34901961],\n",
       "        [0.29019608],\n",
       "        [0.25098039],\n",
       "        [0.24705882],\n",
       "        [0.24705882],\n",
       "        [0.23137255],\n",
       "        [0.23529412],\n",
       "        [0.22352941],\n",
       "        [0.22352941],\n",
       "        [0.22352941],\n",
       "        [0.22352941],\n",
       "        [0.22352941],\n",
       "        [0.22745098],\n",
       "        [0.23137255],\n",
       "        [0.23137255]],\n",
       "\n",
       "       [[0.30588235],\n",
       "        [0.30196078],\n",
       "        [0.30196078],\n",
       "        [0.30196078],\n",
       "        [0.29803922],\n",
       "        [0.29803922],\n",
       "        [0.29411765],\n",
       "        [0.28627451],\n",
       "        [0.28235294],\n",
       "        [0.27843137],\n",
       "        [0.27843137],\n",
       "        [0.27843137],\n",
       "        [0.27058824],\n",
       "        [0.26666667],\n",
       "        [0.2627451 ],\n",
       "        [0.25490196],\n",
       "        [0.25098039],\n",
       "        [0.24313725],\n",
       "        [0.23921569],\n",
       "        [0.23921569],\n",
       "        [0.23137255],\n",
       "        [0.22745098],\n",
       "        [0.22352941],\n",
       "        [0.21960784],\n",
       "        [0.21960784],\n",
       "        [0.22745098],\n",
       "        [0.23137255],\n",
       "        [0.23529412]],\n",
       "\n",
       "       [[0.30980392],\n",
       "        [0.30588235],\n",
       "        [0.30196078],\n",
       "        [0.30196078],\n",
       "        [0.29803922],\n",
       "        [0.29411765],\n",
       "        [0.29019608],\n",
       "        [0.28627451],\n",
       "        [0.2745098 ],\n",
       "        [0.2745098 ],\n",
       "        [0.2745098 ],\n",
       "        [0.2745098 ],\n",
       "        [0.26666667],\n",
       "        [0.26666667],\n",
       "        [0.25490196],\n",
       "        [0.25490196],\n",
       "        [0.24705882],\n",
       "        [0.24705882],\n",
       "        [0.23921569],\n",
       "        [0.23921569],\n",
       "        [0.23529412],\n",
       "        [0.22745098],\n",
       "        [0.22352941],\n",
       "        [0.22352941],\n",
       "        [0.22745098],\n",
       "        [0.22745098],\n",
       "        [0.22745098],\n",
       "        [0.23137255]],\n",
       "\n",
       "       [[0.30588235],\n",
       "        [0.30196078],\n",
       "        [0.30196078],\n",
       "        [0.29803922],\n",
       "        [0.29411765],\n",
       "        [0.29019608],\n",
       "        [0.28627451],\n",
       "        [0.28627451],\n",
       "        [0.27843137],\n",
       "        [0.2745098 ],\n",
       "        [0.27058824],\n",
       "        [0.26666667],\n",
       "        [0.26666667],\n",
       "        [0.2627451 ],\n",
       "        [0.25490196],\n",
       "        [0.24705882],\n",
       "        [0.24705882],\n",
       "        [0.24705882],\n",
       "        [0.24313725],\n",
       "        [0.23921569],\n",
       "        [0.23529412],\n",
       "        [0.23137255],\n",
       "        [0.22745098],\n",
       "        [0.22352941],\n",
       "        [0.22745098],\n",
       "        [0.22352941],\n",
       "        [0.22352941],\n",
       "        [0.22352941]],\n",
       "\n",
       "       [[0.30196078],\n",
       "        [0.30196078],\n",
       "        [0.29803922],\n",
       "        [0.29803922],\n",
       "        [0.29803922],\n",
       "        [0.29411765],\n",
       "        [0.29019608],\n",
       "        [0.29019608],\n",
       "        [0.28235294],\n",
       "        [0.2745098 ],\n",
       "        [0.27058824],\n",
       "        [0.2627451 ],\n",
       "        [0.26666667],\n",
       "        [0.25882353],\n",
       "        [0.25490196],\n",
       "        [0.24705882],\n",
       "        [0.24705882],\n",
       "        [0.24313725],\n",
       "        [0.24313725],\n",
       "        [0.23921569],\n",
       "        [0.23529412],\n",
       "        [0.23529412],\n",
       "        [0.23137255],\n",
       "        [0.22745098],\n",
       "        [0.22745098],\n",
       "        [0.22352941],\n",
       "        [0.22352941],\n",
       "        [0.22352941]],\n",
       "\n",
       "       [[0.30588235],\n",
       "        [0.30196078],\n",
       "        [0.29803922],\n",
       "        [0.30196078],\n",
       "        [0.29411765],\n",
       "        [0.29019608],\n",
       "        [0.29019608],\n",
       "        [0.28627451],\n",
       "        [0.28627451],\n",
       "        [0.27843137],\n",
       "        [0.2745098 ],\n",
       "        [0.26666667],\n",
       "        [0.26666667],\n",
       "        [0.2627451 ],\n",
       "        [0.25098039],\n",
       "        [0.25098039],\n",
       "        [0.24705882],\n",
       "        [0.24313725],\n",
       "        [0.23921569],\n",
       "        [0.24313725],\n",
       "        [0.23529412],\n",
       "        [0.22745098],\n",
       "        [0.22745098],\n",
       "        [0.23137255],\n",
       "        [0.22745098],\n",
       "        [0.21960784],\n",
       "        [0.21960784],\n",
       "        [0.21960784]],\n",
       "\n",
       "       [[0.30588235],\n",
       "        [0.29803922],\n",
       "        [0.29803922],\n",
       "        [0.29803922],\n",
       "        [0.29411765],\n",
       "        [0.29019608],\n",
       "        [0.28627451],\n",
       "        [0.27843137],\n",
       "        [0.2745098 ],\n",
       "        [0.27058824],\n",
       "        [0.27058824],\n",
       "        [0.26666667],\n",
       "        [0.25882353],\n",
       "        [0.25490196],\n",
       "        [0.25098039],\n",
       "        [0.25098039],\n",
       "        [0.24313725],\n",
       "        [0.24705882],\n",
       "        [0.23921569],\n",
       "        [0.23137255],\n",
       "        [0.23137255],\n",
       "        [0.22745098],\n",
       "        [0.22745098],\n",
       "        [0.22745098],\n",
       "        [0.21960784],\n",
       "        [0.21568627],\n",
       "        [0.21176471],\n",
       "        [0.21568627]],\n",
       "\n",
       "       [[0.30588235],\n",
       "        [0.30196078],\n",
       "        [0.30196078],\n",
       "        [0.30196078],\n",
       "        [0.29411765],\n",
       "        [0.29019608],\n",
       "        [0.28627451],\n",
       "        [0.27843137],\n",
       "        [0.27843137],\n",
       "        [0.27058824],\n",
       "        [0.27058824],\n",
       "        [0.26666667],\n",
       "        [0.25882353],\n",
       "        [0.25490196],\n",
       "        [0.25098039],\n",
       "        [0.25098039],\n",
       "        [0.24705882],\n",
       "        [0.24313725],\n",
       "        [0.23921569],\n",
       "        [0.23529412],\n",
       "        [0.23137255],\n",
       "        [0.22745098],\n",
       "        [0.22745098],\n",
       "        [0.22745098],\n",
       "        [0.21960784],\n",
       "        [0.21568627],\n",
       "        [0.21568627],\n",
       "        [0.21568627]],\n",
       "\n",
       "       [[0.30588235],\n",
       "        [0.30196078],\n",
       "        [0.30196078],\n",
       "        [0.30196078],\n",
       "        [0.29411765],\n",
       "        [0.29019608],\n",
       "        [0.28627451],\n",
       "        [0.27843137],\n",
       "        [0.27843137],\n",
       "        [0.2745098 ],\n",
       "        [0.27058824],\n",
       "        [0.26666667],\n",
       "        [0.2627451 ],\n",
       "        [0.25490196],\n",
       "        [0.25098039],\n",
       "        [0.24705882],\n",
       "        [0.24705882],\n",
       "        [0.24313725],\n",
       "        [0.23921569],\n",
       "        [0.23529412],\n",
       "        [0.23137255],\n",
       "        [0.22745098],\n",
       "        [0.23137255],\n",
       "        [0.22352941],\n",
       "        [0.21960784],\n",
       "        [0.21568627],\n",
       "        [0.21568627],\n",
       "        [0.21568627]]])"
      ]
     },
     "execution_count": 282,
     "metadata": {},
     "output_type": "execute_result"
    }
   ],
   "source": [
    "img_gray"
   ]
  },
  {
   "cell_type": "code",
   "execution_count": null,
   "metadata": {},
   "outputs": [],
   "source": []
  },
  {
   "cell_type": "code",
   "execution_count": 283,
   "metadata": {},
   "outputs": [
    {
     "data": {
      "text/plain": [
       "<matplotlib.image.AxesImage at 0x161dffa13c8>"
      ]
     },
     "execution_count": 283,
     "metadata": {},
     "output_type": "execute_result"
    },
    {
     "data": {
      "image/png": "[encoded data removed]",
      "text/plain": [
       "<Figure size 432x288 with 1 Axes>"
      ]
     },
     "metadata": {
      "needs_background": "light"
     },
     "output_type": "display_data"
    }
   ],
   "source": [
    "plt.imshow(img_gray.reshape(28, 28))"
   ]
  },
  {
   "cell_type": "code",
   "execution_count": 284,
   "metadata": {},
   "outputs": [
    {
     "data": {
      "text/plain": [
       "array([1], dtype=int64)"
      ]
     },
     "execution_count": 284,
     "metadata": {},
     "output_type": "execute_result"
    }
   ],
   "source": [
    "model.predict_classes(img_gray.reshape(1, 28, 28, 1))"
   ]
  },
  {
   "cell_type": "code",
   "execution_count": null,
   "metadata": {},
   "outputs": [],
   "source": []
  },
  {
   "cell_type": "code",
   "execution_count": 163,
   "metadata": {},
   "outputs": [
    {
     "data": {
      "text/plain": [
       "<matplotlib.image.AxesImage at 0x2da1c8711c8>"
      ]
     },
     "execution_count": 163,
     "metadata": {},
     "output_type": "execute_result"
    },
    {
     "data": {
      "image/png": "[encoded data removed]",
      "text/plain": [
       "<Figure size 432x288 with 1 Axes>"
      ]
     },
     "metadata": {
      "needs_background": "light"
     },
     "output_type": "display_data"
    }
   ],
   "source": [
    "plt.imshow(x_test[0].reshape(28, 28))"
   ]
  },
  {
   "cell_type": "code",
   "execution_count": null,
   "metadata": {},
   "outputs": [],
   "source": []
  },
  {
   "cell_type": "code",
   "execution_count": null,
   "metadata": {},
   "outputs": [],
   "source": []
  },
  {
   "cell_type": "code",
   "execution_count": 52,
   "metadata": {},
   "outputs": [],
   "source": [
    "from PIL import Image"
   ]
  },
  {
   "cell_type": "code",
   "execution_count": 78,
   "metadata": {},
   "outputs": [],
   "source": [
    "img = Image.open('D:\\\\personal\\\\Workplace\\\\GitRepos\\\\Machine Learning\\\\MNIST-handwritten\\\\test\\\\7.jpg').convert(\"L\")\n"
   ]
  },
  {
   "cell_type": "code",
   "execution_count": 79,
   "metadata": {},
   "outputs": [
    {
     "data": {
      "text/plain": [
       "<matplotlib.image.AxesImage at 0x161da0c2e88>"
      ]
     },
     "execution_count": 79,
     "metadata": {},
     "output_type": "execute_result"
    },
    {
     "data": {
      "image/png": "[encoded data removed]",
      "text/plain": [
       "<Figure size 432x288 with 1 Axes>"
      ]
     },
     "metadata": {
      "needs_background": "light"
     },
     "output_type": "display_data"
    }
   ],
   "source": [
    "plt.imshow(img)"
   ]
  },
  {
   "cell_type": "code",
   "execution_count": 80,
   "metadata": {},
   "outputs": [],
   "source": [
    "img = np.resize(img, (28, 28, 1))"
   ]
  },
  {
   "cell_type": "code",
   "execution_count": 81,
   "metadata": {},
   "outputs": [],
   "source": [
    "im2arr = np.array(img)"
   ]
  },
  {
   "cell_type": "code",
   "execution_count": 82,
   "metadata": {},
   "outputs": [],
   "source": [
    "im2arr = im2arr.reshape(1, 28, 28, 1)"
   ]
  },
  {
   "cell_type": "code",
   "execution_count": 83,
   "metadata": {},
   "outputs": [
    {
     "data": {
      "text/plain": [
       "array([8], dtype=int64)"
      ]
     },
     "execution_count": 83,
     "metadata": {},
     "output_type": "execute_result"
    }
   ],
   "source": [
    "model.predict_classes(im2arr.astype('float32'))"
   ]
  },
  {
   "cell_type": "code",
   "execution_count": 125,
   "metadata": {},
   "outputs": [],
   "source": [
    "from tensorflow.keras.utils import normalize"
   ]
  },
  {
   "cell_type": "code",
   "execution_count": 143,
   "metadata": {},
   "outputs": [],
   "source": [
    "def predict_img_method_1(image):\n",
    "    img_array = cv.bitwise_not(image)\n",
    "    new_array = cv.resize(img_array, (28,28))\n",
    "    \n",
    "    user_test = normalize(new_array, axis = 1)\n",
    "#     user_test = user_test.reshape(1, 28, 28, 1)\n",
    "    predicted = model.predict(user_test.reshape(1, 28, 28, 1))\n",
    "    a = predicted[0][0]\n",
    "    for i in range(0,10):\n",
    "      b = predicted[0][i]\n",
    "      print(\"Probability Distribution for\",i,b)\n",
    "    \n",
    "    print(\"The Predicted Value is\",np.argmax(predicted[0]))"
   ]
  },
  {
   "cell_type": "code",
   "execution_count": null,
   "metadata": {},
   "outputs": [],
   "source": []
  },
  {
   "cell_type": "code",
   "execution_count": null,
   "metadata": {},
   "outputs": [],
   "source": []
  },
  {
   "cell_type": "code",
   "execution_count": 144,
   "metadata": {},
   "outputs": [],
   "source": [
    "image = cv.imread('D:\\\\personal\\\\Workplace\\\\GitRepos\\\\Machine Learning\\\\MNIST-handwritten\\\\test\\\\8.jpg', \n",
    "                 cv.IMREAD_GRAYSCALE)"
   ]
  },
  {
   "cell_type": "code",
   "execution_count": 145,
   "metadata": {},
   "outputs": [
    {
     "data": {
      "text/plain": [
       "array([[173, 172, 173, ..., 187, 187, 187],\n",
       "       [172, 172, 173, ..., 187, 187, 187],\n",
       "       [172, 173, 173, ..., 187, 187, 187],\n",
       "       ...,\n",
       "       [185, 186, 187, ..., 204, 204, 204],\n",
       "       [186, 187, 187, ..., 203, 203, 203],\n",
       "       [187, 186, 185, ..., 205, 205, 204]], dtype=uint8)"
      ]
     },
     "execution_count": 145,
     "metadata": {},
     "output_type": "execute_result"
    }
   ],
   "source": [
    "image"
   ]
  },
  {
   "cell_type": "code",
   "execution_count": 146,
   "metadata": {},
   "outputs": [
    {
     "name": "stdout",
     "output_type": "stream",
     "text": [
      "Probability Distribution for 0 0.087303884\n",
      "Probability Distribution for 1 0.1620768\n",
      "Probability Distribution for 2 0.09607713\n",
      "Probability Distribution for 3 0.08630102\n",
      "Probability Distribution for 4 0.09189489\n",
      "Probability Distribution for 5 0.10828498\n",
      "Probability Distribution for 6 0.09256742\n",
      "Probability Distribution for 7 0.12611762\n",
      "Probability Distribution for 8 0.06330311\n",
      "Probability Distribution for 9 0.08607307\n",
      "The Predicted Value is 1\n"
     ]
    }
   ],
   "source": [
    "predict_value(image)"
   ]
  },
  {
   "cell_type": "code",
   "execution_count": null,
   "metadata": {},
   "outputs": [],
   "source": []
  },
  {
   "cell_type": "code",
   "execution_count": 291,
   "metadata": {},
   "outputs": [],
   "source": [
    "def preprocess(gray):\n",
    "    while np.sum(gray[0]) == 0:\n",
    "        gray = gray[1:]\n",
    "\n",
    "    while np.sum(gray[:,0]) == 0:\n",
    "        gray = np.delete(gray,0,1)\n",
    "\n",
    "    while np.sum(gray[-1]) == 0:\n",
    "        gray = gray[:-1]\n",
    "    \n",
    "    while np.sum(gray[:,-1]) == 0:\n",
    "        gray = np.delete(gray,-1,1)\n",
    "\n",
    "    rows,cols = gray.shape()\n",
    "    \n",
    "    if rows > cols:\n",
    "        factor = 20.0/rows\n",
    "        rows = 20\n",
    "        cols = int(round(cols*factor))\n",
    "        gray = cv2.resize(gray, (cols,rows))\n",
    "    \n",
    "    else:\n",
    "        factor = 20.0/cols\n",
    "        cols = 20\n",
    "        rows = int(round(rows*factor))\n",
    "        gray = cv2.resize(gray, (cols, rows))\n",
    "        \n",
    "    olsPadding = (int(math.ceil((28-cols)/2.0)),int(math.floor((28-cols)/2.0)))\n",
    "    rowsPadding = (int(math.ceil((28-rows)/2.0)),int(math.floor((28-rows)/2.0)))\n",
    "    gray = np.lib.pad(gray,(rowsPadding,colsPadding),'constant')\n",
    "    \n",
    "    return gray"
   ]
  },
  {
   "cell_type": "code",
   "execution_count": null,
   "metadata": {},
   "outputs": [],
   "source": []
  },
  {
   "cell_type": "code",
   "execution_count": 292,
   "metadata": {},
   "outputs": [],
   "source": [
    "def predict_value_method_2(image):\n",
    "    plt.imshow(image)\n",
    "    img_gray = cv.resize(255-image, (28, 28))\n",
    "    (thresh, img_gray) = cv.threshold(img_gray, 128, 255, cv.THRESH_BINARY | cv.THRESH_OTSU)\n",
    "#     plt.imshow(img_gray)\n",
    "    img_gray = img_gray.reshape(28, 28, 1)\n",
    "    img_gray = img_gray/ 255\n",
    "#     return img_gray\n",
    "    \n",
    "    img_gray = preprocess(img_gray)\n",
    "    predicted = model.predict(img_gray.reshape(1, 28, 28, 1))\n",
    "    a = predicted[0][0]\n",
    "#     for i in range(0,10):\n",
    "#       b = predicted[0][i]\n",
    "#       print(\"Probability Distribution for\",i,b)\n",
    "    \n",
    "    print(\"The Predicted Value is\",np.argmax(predicted[0]))"
   ]
  },
  {
   "cell_type": "code",
   "execution_count": null,
   "metadata": {},
   "outputs": [],
   "source": []
  },
  {
   "cell_type": "code",
   "execution_count": 168,
   "metadata": {},
   "outputs": [],
   "source": [
    "image8 = cv.imread('D:\\\\personal\\\\Workplace\\\\GitRepos\\\\Machine Learning\\\\MNIST-handwritten\\\\test\\\\8.jpg', \n",
    "                 cv.IMREAD_GRAYSCALE)"
   ]
  },
  {
   "cell_type": "code",
   "execution_count": 169,
   "metadata": {},
   "outputs": [
    {
     "data": {
      "text/plain": [
       "<matplotlib.image.AxesImage at 0x161dc2676c8>"
      ]
     },
     "execution_count": 169,
     "metadata": {},
     "output_type": "execute_result"
    },
    {
     "data": {
      "image/png": "[encoded data removed]",
      "text/plain": [
       "<Figure size 432x288 with 1 Axes>"
      ]
     },
     "metadata": {
      "needs_background": "light"
     },
     "output_type": "display_data"
    }
   ],
   "source": [
    "plt.imshow(image8)"
   ]
  },
  {
   "cell_type": "code",
   "execution_count": 170,
   "metadata": {},
   "outputs": [
    {
     "data": {
      "image/png": "[encoded data removed]",
      "text/plain": [
       "<Figure size 432x288 with 1 Axes>"
      ]
     },
     "metadata": {
      "needs_background": "light"
     },
     "output_type": "display_data"
    }
   ],
   "source": [
    "predict_value_method_2(image8)"
   ]
  },
  {
   "cell_type": "code",
   "execution_count": 183,
   "metadata": {},
   "outputs": [
    {
     "data": {
      "text/plain": [
       "<matplotlib.image.AxesImage at 0x161dc60ddc8>"
      ]
     },
     "execution_count": 183,
     "metadata": {},
     "output_type": "execute_result"
    },
    {
     "data": {
      "image/png": "[encoded data removed]",
      "text/plain": [
       "<Figure size 432x288 with 1 Axes>"
      ]
     },
     "metadata": {
      "needs_background": "light"
     },
     "output_type": "display_data"
    }
   ],
   "source": [
    "image7 = cv.imread('D:\\\\personal\\\\Workplace\\\\GitRepos\\\\Machine Learning\\\\MNIST-handwritten\\\\test\\\\7.jpg', \n",
    "                 cv.IMREAD_GRAYSCALE)\n",
    "plt.imshow(image7)"
   ]
  },
  {
   "cell_type": "code",
   "execution_count": 184,
   "metadata": {},
   "outputs": [
    {
     "name": "stdout",
     "output_type": "stream",
     "text": [
      "Probability Distribution for 0 1.0203689e-09\n",
      "Probability Distribution for 1 3.5408942e-05\n",
      "Probability Distribution for 2 1.9803718e-05\n",
      "Probability Distribution for 3 0.012223725\n",
      "Probability Distribution for 4 1.4836998e-16\n",
      "Probability Distribution for 5 9.7522054e-14\n",
      "Probability Distribution for 6 2.8197394e-15\n",
      "Probability Distribution for 7 0.98772067\n",
      "Probability Distribution for 8 7.6072844e-08\n",
      "Probability Distribution for 9 1.8126956e-07\n",
      "The Predicted Value is 7\n"
     ]
    },
    {
     "data": {
      "image/png": "[encoded data removed]",
      "text/plain": [
       "<Figure size 432x288 with 1 Axes>"
      ]
     },
     "metadata": {
      "needs_background": "light"
     },
     "output_type": "display_data"
    }
   ],
   "source": [
    "predict_value_method_2(image7)"
   ]
  },
  {
   "cell_type": "code",
   "execution_count": 176,
   "metadata": {},
   "outputs": [
    {
     "data": {
      "text/plain": [
       "(28, 28, 1)"
      ]
     },
     "execution_count": 176,
     "metadata": {},
     "output_type": "execute_result"
    }
   ],
   "source": [
    "img.shape"
   ]
  },
  {
   "cell_type": "code",
   "execution_count": 185,
   "metadata": {},
   "outputs": [
    {
     "data": {
      "text/plain": [
       "<matplotlib.image.AxesImage at 0x161dc71ffc8>"
      ]
     },
     "execution_count": 185,
     "metadata": {},
     "output_type": "execute_result"
    },
    {
     "data": {
      "image/png": "[encoded data removed]",
      "text/plain": [
       "<Figure size 432x288 with 1 Axes>"
      ]
     },
     "metadata": {
      "needs_background": "light"
     },
     "output_type": "display_data"
    }
   ],
   "source": [
    "image0 = cv.imread('D:\\\\personal\\\\Workplace\\\\GitRepos\\\\Machine Learning\\\\MNIST-handwritten\\\\test\\\\0.jpg', \n",
    "                 cv.IMREAD_GRAYSCALE)\n",
    "plt.imshow(image0)"
   ]
  },
  {
   "cell_type": "code",
   "execution_count": 186,
   "metadata": {},
   "outputs": [
    {
     "name": "stdout",
     "output_type": "stream",
     "text": [
      "Probability Distribution for 0 0.96337104\n",
      "Probability Distribution for 1 9.482285e-10\n",
      "Probability Distribution for 2 0.00013058496\n",
      "Probability Distribution for 3 3.1839681e-06\n",
      "Probability Distribution for 4 2.2539613e-08\n",
      "Probability Distribution for 5 7.3905284e-07\n",
      "Probability Distribution for 6 4.5956654e-06\n",
      "Probability Distribution for 7 8.1449125e-06\n",
      "Probability Distribution for 8 0.0003362203\n",
      "Probability Distribution for 9 0.036145505\n",
      "The Predicted Value is 0\n"
     ]
    },
    {
     "data": {
      "image/png": "[encoded data removed]",
      "text/plain": [
       "<Figure size 432x288 with 1 Axes>"
      ]
     },
     "metadata": {
      "needs_background": "light"
     },
     "output_type": "display_data"
    }
   ],
   "source": [
    "predict_value_method_2(image0)"
   ]
  },
  {
   "cell_type": "code",
   "execution_count": 231,
   "metadata": {},
   "outputs": [
    {
     "data": {
      "text/plain": [
       "<matplotlib.image.AxesImage at 0x161dfb9a4c8>"
      ]
     },
     "execution_count": 231,
     "metadata": {},
     "output_type": "execute_result"
    },
    {
     "data": {
      "image/png": "[encoded data removed]",
      "text/plain": [
       "<Figure size 432x288 with 1 Axes>"
      ]
     },
     "metadata": {
      "needs_background": "light"
     },
     "output_type": "display_data"
    }
   ],
   "source": [
    "image6 = cv.imread('D:\\\\personal\\\\Workplace\\\\GitRepos\\\\Machine Learning\\\\MNIST-handwritten\\\\test\\\\6_3.jpg', \n",
    "                 cv.IMREAD_GRAYSCALE)\n",
    "plt.imshow(image6)"
   ]
  },
  {
   "cell_type": "code",
   "execution_count": null,
   "metadata": {},
   "outputs": [],
   "source": []
  },
  {
   "cell_type": "code",
   "execution_count": null,
   "metadata": {},
   "outputs": [],
   "source": []
  },
  {
   "cell_type": "code",
   "execution_count": 232,
   "metadata": {},
   "outputs": [
    {
     "name": "stdout",
     "output_type": "stream",
     "text": [
      "The Predicted Value is 6\n"
     ]
    },
    {
     "data": {
      "image/png": "[encoded data removed]",
      "text/plain": [
       "<Figure size 432x288 with 1 Axes>"
      ]
     },
     "metadata": {
      "needs_background": "light"
     },
     "output_type": "display_data"
    }
   ],
   "source": [
    "predict_value_method_2(image6)"
   ]
  },
  {
   "cell_type": "code",
   "execution_count": null,
   "metadata": {},
   "outputs": [],
   "source": []
  },
  {
   "cell_type": "code",
   "execution_count": 289,
   "metadata": {},
   "outputs": [],
   "source": [
    "def run_pred():\n",
    "    folder = 'D:\\\\personal\\\\Workplace\\\\GitRepos\\\\Machine Learning\\\\MNIST-handwritten\\\\test'\n",
    "    for filename in os.listdir(folder):\n",
    "        file = os.path.join(folder,filename)\n",
    "        print(file)\n",
    "        img = cv.imread(file,cv.IMREAD_GRAYSCALE)\n",
    "#         plt.imshow(img);\n",
    "        predict_value_method_2(img)"
   ]
  },
  {
   "cell_type": "code",
   "execution_count": null,
   "metadata": {},
   "outputs": [],
   "source": []
  },
  {
   "cell_type": "code",
   "execution_count": 226,
   "metadata": {},
   "outputs": [],
   "source": [
    "import os"
   ]
  },
  {
   "cell_type": "code",
   "execution_count": 233,
   "metadata": {},
   "outputs": [
    {
     "name": "stdout",
     "output_type": "stream",
     "text": [
      "D:\\personal\\Workplace\\GitRepos\\Machine Learning\\MNIST-handwritten\\test\\0.jpg\n",
      "The Predicted Value is 0\n",
      "D:\\personal\\Workplace\\GitRepos\\Machine Learning\\MNIST-handwritten\\test\\2.jpg\n",
      "The Predicted Value is 2\n",
      "D:\\personal\\Workplace\\GitRepos\\Machine Learning\\MNIST-handwritten\\test\\2_blur.jpg\n",
      "The Predicted Value is 6\n",
      "D:\\personal\\Workplace\\GitRepos\\Machine Learning\\MNIST-handwritten\\test\\3.jpg\n",
      "The Predicted Value is 3\n",
      "D:\\personal\\Workplace\\GitRepos\\Machine Learning\\MNIST-handwritten\\test\\3_2.jpg\n",
      "The Predicted Value is 3\n",
      "D:\\personal\\Workplace\\GitRepos\\Machine Learning\\MNIST-handwritten\\test\\4.jpg\n",
      "The Predicted Value is 4\n",
      "D:\\personal\\Workplace\\GitRepos\\Machine Learning\\MNIST-handwritten\\test\\4_2.jpg\n",
      "The Predicted Value is 5\n",
      "D:\\personal\\Workplace\\GitRepos\\Machine Learning\\MNIST-handwritten\\test\\5.jpg\n",
      "The Predicted Value is 5\n",
      "D:\\personal\\Workplace\\GitRepos\\Machine Learning\\MNIST-handwritten\\test\\6.jpg\n",
      "The Predicted Value is 5\n",
      "D:\\personal\\Workplace\\GitRepos\\Machine Learning\\MNIST-handwritten\\test\\6_2.jpg\n",
      "The Predicted Value is 5\n",
      "D:\\personal\\Workplace\\GitRepos\\Machine Learning\\MNIST-handwritten\\test\\6_3.jpg\n",
      "The Predicted Value is 6\n",
      "D:\\personal\\Workplace\\GitRepos\\Machine Learning\\MNIST-handwritten\\test\\7.jpg\n",
      "The Predicted Value is 7\n",
      "D:\\personal\\Workplace\\GitRepos\\Machine Learning\\MNIST-handwritten\\test\\8.jpg\n",
      "The Predicted Value is 5\n"
     ]
    },
    {
     "data": {
      "image/png": "[encoded data removed]",
      "text/plain": [
       "<Figure size 432x288 with 1 Axes>"
      ]
     },
     "metadata": {
      "needs_background": "light"
     },
     "output_type": "display_data"
    }
   ],
   "source": [
    "run_pred()"
   ]
  },
  {
   "cell_type": "code",
   "execution_count": null,
   "metadata": {},
   "outputs": [],
   "source": []
  },
  {
   "cell_type": "code",
   "execution_count": 293,
   "metadata": {},
   "outputs": [
    {
     "name": "stdout",
     "output_type": "stream",
     "text": [
      "D:\\personal\\Workplace\\GitRepos\\Machine Learning\\MNIST-handwritten\\test\\0.jpg\n"
     ]
    },
    {
     "ename": "TypeError",
     "evalue": "'tuple' object is not callable",
     "output_type": "error",
     "traceback": [
      "\u001b[1;31m---------------------------------------------------------------------------\u001b[0m",
      "\u001b[1;31mTypeError\u001b[0m                                 Traceback (most recent call last)",
      "\u001b[1;32m<ipython-input-293-f547f3bcdca7>\u001b[0m in \u001b[0;36m<module>\u001b[1;34m\u001b[0m\n\u001b[1;32m----> 1\u001b[1;33m \u001b[0mrun_pred\u001b[0m\u001b[1;33m(\u001b[0m\u001b[1;33m)\u001b[0m\u001b[1;33m\u001b[0m\u001b[1;33m\u001b[0m\u001b[0m\n\u001b[0m",
      "\u001b[1;32m<ipython-input-289-01270fb00a24>\u001b[0m in \u001b[0;36mrun_pred\u001b[1;34m()\u001b[0m\n\u001b[0;32m      6\u001b[0m         \u001b[0mimg\u001b[0m \u001b[1;33m=\u001b[0m \u001b[0mcv\u001b[0m\u001b[1;33m.\u001b[0m\u001b[0mimread\u001b[0m\u001b[1;33m(\u001b[0m\u001b[0mfile\u001b[0m\u001b[1;33m,\u001b[0m\u001b[0mcv\u001b[0m\u001b[1;33m.\u001b[0m\u001b[0mIMREAD_GRAYSCALE\u001b[0m\u001b[1;33m)\u001b[0m\u001b[1;33m\u001b[0m\u001b[1;33m\u001b[0m\u001b[0m\n\u001b[0;32m      7\u001b[0m \u001b[1;31m#         plt.imshow(img);\u001b[0m\u001b[1;33m\u001b[0m\u001b[1;33m\u001b[0m\u001b[1;33m\u001b[0m\u001b[0m\n\u001b[1;32m----> 8\u001b[1;33m         \u001b[0mpredict_value_method_2\u001b[0m\u001b[1;33m(\u001b[0m\u001b[0mimg\u001b[0m\u001b[1;33m)\u001b[0m\u001b[1;33m\u001b[0m\u001b[1;33m\u001b[0m\u001b[0m\n\u001b[0m",
      "\u001b[1;32m<ipython-input-292-a3e5b88637a3>\u001b[0m in \u001b[0;36mpredict_value_method_2\u001b[1;34m(image)\u001b[0m\n\u001b[0;32m      8\u001b[0m \u001b[1;31m#     return img_gray\u001b[0m\u001b[1;33m\u001b[0m\u001b[1;33m\u001b[0m\u001b[1;33m\u001b[0m\u001b[0m\n\u001b[0;32m      9\u001b[0m \u001b[1;33m\u001b[0m\u001b[0m\n\u001b[1;32m---> 10\u001b[1;33m     \u001b[0mimg_gray\u001b[0m \u001b[1;33m=\u001b[0m \u001b[0mpreprocess\u001b[0m\u001b[1;33m(\u001b[0m\u001b[0mimg_gray\u001b[0m\u001b[1;33m)\u001b[0m\u001b[1;33m\u001b[0m\u001b[1;33m\u001b[0m\u001b[0m\n\u001b[0m\u001b[0;32m     11\u001b[0m     \u001b[0mpredicted\u001b[0m \u001b[1;33m=\u001b[0m \u001b[0mmodel\u001b[0m\u001b[1;33m.\u001b[0m\u001b[0mpredict\u001b[0m\u001b[1;33m(\u001b[0m\u001b[0mimg_gray\u001b[0m\u001b[1;33m.\u001b[0m\u001b[0mreshape\u001b[0m\u001b[1;33m(\u001b[0m\u001b[1;36m1\u001b[0m\u001b[1;33m,\u001b[0m \u001b[1;36m28\u001b[0m\u001b[1;33m,\u001b[0m \u001b[1;36m28\u001b[0m\u001b[1;33m,\u001b[0m \u001b[1;36m1\u001b[0m\u001b[1;33m)\u001b[0m\u001b[1;33m)\u001b[0m\u001b[1;33m\u001b[0m\u001b[1;33m\u001b[0m\u001b[0m\n\u001b[0;32m     12\u001b[0m     \u001b[0ma\u001b[0m \u001b[1;33m=\u001b[0m \u001b[0mpredicted\u001b[0m\u001b[1;33m[\u001b[0m\u001b[1;36m0\u001b[0m\u001b[1;33m]\u001b[0m\u001b[1;33m[\u001b[0m\u001b[1;36m0\u001b[0m\u001b[1;33m]\u001b[0m\u001b[1;33m\u001b[0m\u001b[1;33m\u001b[0m\u001b[0m\n",
      "\u001b[1;32m<ipython-input-291-2300ada8a18b>\u001b[0m in \u001b[0;36mpreprocess\u001b[1;34m(gray)\u001b[0m\n\u001b[0;32m     12\u001b[0m         \u001b[0mgray\u001b[0m \u001b[1;33m=\u001b[0m \u001b[0mnp\u001b[0m\u001b[1;33m.\u001b[0m\u001b[0mdelete\u001b[0m\u001b[1;33m(\u001b[0m\u001b[0mgray\u001b[0m\u001b[1;33m,\u001b[0m\u001b[1;33m-\u001b[0m\u001b[1;36m1\u001b[0m\u001b[1;33m,\u001b[0m\u001b[1;36m1\u001b[0m\u001b[1;33m)\u001b[0m\u001b[1;33m\u001b[0m\u001b[1;33m\u001b[0m\u001b[0m\n\u001b[0;32m     13\u001b[0m \u001b[1;33m\u001b[0m\u001b[0m\n\u001b[1;32m---> 14\u001b[1;33m     \u001b[0mrows\u001b[0m\u001b[1;33m,\u001b[0m\u001b[0mcols\u001b[0m \u001b[1;33m=\u001b[0m \u001b[0mgray\u001b[0m\u001b[1;33m.\u001b[0m\u001b[0mshape\u001b[0m\u001b[1;33m(\u001b[0m\u001b[1;33m)\u001b[0m\u001b[1;33m\u001b[0m\u001b[1;33m\u001b[0m\u001b[0m\n\u001b[0m\u001b[0;32m     15\u001b[0m \u001b[1;33m\u001b[0m\u001b[0m\n\u001b[0;32m     16\u001b[0m     \u001b[1;32mif\u001b[0m \u001b[0mrows\u001b[0m \u001b[1;33m>\u001b[0m \u001b[0mcols\u001b[0m\u001b[1;33m:\u001b[0m\u001b[1;33m\u001b[0m\u001b[1;33m\u001b[0m\u001b[0m\n",
      "\u001b[1;31mTypeError\u001b[0m: 'tuple' object is not callable"
     ]
    },
    {
     "data": {
      "image/png": "[encoded data removed]",
      "text/plain": [
       "<Figure size 432x288 with 1 Axes>"
      ]
     },
     "metadata": {
      "needs_background": "light"
     },
     "output_type": "display_data"
    }
   ],
   "source": [
    "run_pred()"
   ]
  },
  {
   "cell_type": "code",
   "execution_count": null,
   "metadata": {},
   "outputs": [],
   "source": []
  },
  {
   "cell_type": "code",
   "execution_count": null,
   "metadata": {},
   "outputs": [],
   "source": []
  },
  {
   "cell_type": "code",
   "execution_count": null,
   "metadata": {},
   "outputs": [],
   "source": []
  },
  {
   "cell_type": "code",
   "execution_count": null,
   "metadata": {},
   "outputs": [],
   "source": []
  },
  {
   "cell_type": "code",
   "execution_count": null,
   "metadata": {},
   "outputs": [],
   "source": []
  },
  {
   "cell_type": "code",
   "execution_count": null,
   "metadata": {},
   "outputs": [],
   "source": []
  },
  {
   "cell_type": "code",
   "execution_count": null,
   "metadata": {},
   "outputs": [],
   "source": []
  },
  {
   "cell_type": "code",
   "execution_count": null,
   "metadata": {},
   "outputs": [],
   "source": []
  },
  {
   "cell_type": "code",
   "execution_count": null,
   "metadata": {},
   "outputs": [],
   "source": []
  },
  {
   "cell_type": "code",
   "execution_count": null,
   "metadata": {},
   "outputs": [],
   "source": []
  },
  {
   "cell_type": "code",
   "execution_count": null,
   "metadata": {},
   "outputs": [],
   "source": []
  },
  {
   "cell_type": "code",
   "execution_count": null,
   "metadata": {},
   "outputs": [],
   "source": []
  },
  {
   "cell_type": "code",
   "execution_count": null,
   "metadata": {},
   "outputs": [],
   "source": []
  },
  {
   "cell_type": "code",
   "execution_count": null,
   "metadata": {},
   "outputs": [],
   "source": []
  },
  {
   "cell_type": "code",
   "execution_count": null,
   "metadata": {},
   "outputs": [],
   "source": []
  },
  {
   "cell_type": "code",
   "execution_count": null,
   "metadata": {},
   "outputs": [],
   "source": []
  },
  {
   "cell_type": "code",
   "execution_count": null,
   "metadata": {},
   "outputs": [],
   "source": []
  },
  {
   "cell_type": "code",
   "execution_count": null,
   "metadata": {},
   "outputs": [],
   "source": []
  },
  {
   "cell_type": "code",
   "execution_count": null,
   "metadata": {},
   "outputs": [],
   "source": []
  }
 ],
 "metadata": {
  "kernelspec": {
   "display_name": "Python 3",
   "language": "python",
   "name": "python3"
  },
  "language_info": {
   "codemirror_mode": {
    "name": "ipython",
    "version": 3
   },
   "file_extension": ".py",
   "mimetype": "text/x-python",
   "name": "python",
   "nbconvert_exporter": "python",
   "pygments_lexer": "ipython3",
   "version": "3.7.7"
  }
 },
 "nbformat": 4,
 "nbformat_minor": 4
}
