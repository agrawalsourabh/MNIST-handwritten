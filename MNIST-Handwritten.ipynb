{
 "cells": [
  {
   "cell_type": "code",
   "execution_count": 2,
   "metadata": {},
   "outputs": [],
   "source": [
    "import pandas as pd\n",
    "import numpy as np\n",
    "\n",
    "import matplotlib.pyplot as plt\n",
    "import seaborn as sns"
   ]
  },
  {
   "cell_type": "code",
   "execution_count": 3,
   "metadata": {},
   "outputs": [],
   "source": [
    "from tensorflow.keras.datasets import mnist"
   ]
  },
  {
   "cell_type": "code",
   "execution_count": 4,
   "metadata": {},
   "outputs": [
    {
     "name": "stdout",
     "output_type": "stream",
     "text": [
      "Downloading data from https://storage.googleapis.com/tensorflow/tf-keras-datasets/mnist.npz\n",
      "11493376/11490434 [==============================] - 8s 1us/step\n"
     ]
    }
   ],
   "source": [
    "(x_train, y_train), (x_test, y_test) = mnist.load_data()"
   ]
  },
  {
   "cell_type": "markdown",
   "metadata": {},
   "source": [
    "## Visualising the data"
   ]
  },
  {
   "cell_type": "code",
   "execution_count": 5,
   "metadata": {},
   "outputs": [
    {
     "data": {
      "text/plain": [
       "(60000, 28, 28)"
      ]
     },
     "execution_count": 5,
     "metadata": {},
     "output_type": "execute_result"
    }
   ],
   "source": [
    "x_train.shape"
   ]
  },
  {
   "cell_type": "code",
   "execution_count": 6,
   "metadata": {},
   "outputs": [
    {
     "data": {
      "text/plain": [
       "(10000, 28, 28)"
      ]
     },
     "execution_count": 6,
     "metadata": {},
     "output_type": "execute_result"
    }
   ],
   "source": [
    "x_test.shape"
   ]
  },
  {
   "cell_type": "code",
   "execution_count": 7,
   "metadata": {},
   "outputs": [],
   "source": [
    "single_image = x_train[0]"
   ]
  },
  {
   "cell_type": "code",
   "execution_count": 8,
   "metadata": {},
   "outputs": [
    {
     "data": {
      "text/plain": [
       "array([[  0,   0,   0,   0,   0,   0,   0,   0,   0,   0,   0,   0,   0,\n",
       "          0,   0,   0,   0,   0,   0,   0,   0,   0,   0,   0,   0,   0,\n",
       "          0,   0],\n",
       "       [  0,   0,   0,   0,   0,   0,   0,   0,   0,   0,   0,   0,   0,\n",
       "          0,   0,   0,   0,   0,   0,   0,   0,   0,   0,   0,   0,   0,\n",
       "          0,   0],\n",
       "       [  0,   0,   0,   0,   0,   0,   0,   0,   0,   0,   0,   0,   0,\n",
       "          0,   0,   0,   0,   0,   0,   0,   0,   0,   0,   0,   0,   0,\n",
       "          0,   0],\n",
       "       [  0,   0,   0,   0,   0,   0,   0,   0,   0,   0,   0,   0,   0,\n",
       "          0,   0,   0,   0,   0,   0,   0,   0,   0,   0,   0,   0,   0,\n",
       "          0,   0],\n",
       "       [  0,   0,   0,   0,   0,   0,   0,   0,   0,   0,   0,   0,   0,\n",
       "          0,   0,   0,   0,   0,   0,   0,   0,   0,   0,   0,   0,   0,\n",
       "          0,   0],\n",
       "       [  0,   0,   0,   0,   0,   0,   0,   0,   0,   0,   0,   0,   3,\n",
       "         18,  18,  18, 126, 136, 175,  26, 166, 255, 247, 127,   0,   0,\n",
       "          0,   0],\n",
       "       [  0,   0,   0,   0,   0,   0,   0,   0,  30,  36,  94, 154, 170,\n",
       "        253, 253, 253, 253, 253, 225, 172, 253, 242, 195,  64,   0,   0,\n",
       "          0,   0],\n",
       "       [  0,   0,   0,   0,   0,   0,   0,  49, 238, 253, 253, 253, 253,\n",
       "        253, 253, 253, 253, 251,  93,  82,  82,  56,  39,   0,   0,   0,\n",
       "          0,   0],\n",
       "       [  0,   0,   0,   0,   0,   0,   0,  18, 219, 253, 253, 253, 253,\n",
       "        253, 198, 182, 247, 241,   0,   0,   0,   0,   0,   0,   0,   0,\n",
       "          0,   0],\n",
       "       [  0,   0,   0,   0,   0,   0,   0,   0,  80, 156, 107, 253, 253,\n",
       "        205,  11,   0,  43, 154,   0,   0,   0,   0,   0,   0,   0,   0,\n",
       "          0,   0],\n",
       "       [  0,   0,   0,   0,   0,   0,   0,   0,   0,  14,   1, 154, 253,\n",
       "         90,   0,   0,   0,   0,   0,   0,   0,   0,   0,   0,   0,   0,\n",
       "          0,   0],\n",
       "       [  0,   0,   0,   0,   0,   0,   0,   0,   0,   0,   0, 139, 253,\n",
       "        190,   2,   0,   0,   0,   0,   0,   0,   0,   0,   0,   0,   0,\n",
       "          0,   0],\n",
       "       [  0,   0,   0,   0,   0,   0,   0,   0,   0,   0,   0,  11, 190,\n",
       "        253,  70,   0,   0,   0,   0,   0,   0,   0,   0,   0,   0,   0,\n",
       "          0,   0],\n",
       "       [  0,   0,   0,   0,   0,   0,   0,   0,   0,   0,   0,   0,  35,\n",
       "        241, 225, 160, 108,   1,   0,   0,   0,   0,   0,   0,   0,   0,\n",
       "          0,   0],\n",
       "       [  0,   0,   0,   0,   0,   0,   0,   0,   0,   0,   0,   0,   0,\n",
       "         81, 240, 253, 253, 119,  25,   0,   0,   0,   0,   0,   0,   0,\n",
       "          0,   0],\n",
       "       [  0,   0,   0,   0,   0,   0,   0,   0,   0,   0,   0,   0,   0,\n",
       "          0,  45, 186, 253, 253, 150,  27,   0,   0,   0,   0,   0,   0,\n",
       "          0,   0],\n",
       "       [  0,   0,   0,   0,   0,   0,   0,   0,   0,   0,   0,   0,   0,\n",
       "          0,   0,  16,  93, 252, 253, 187,   0,   0,   0,   0,   0,   0,\n",
       "          0,   0],\n",
       "       [  0,   0,   0,   0,   0,   0,   0,   0,   0,   0,   0,   0,   0,\n",
       "          0,   0,   0,   0, 249, 253, 249,  64,   0,   0,   0,   0,   0,\n",
       "          0,   0],\n",
       "       [  0,   0,   0,   0,   0,   0,   0,   0,   0,   0,   0,   0,   0,\n",
       "          0,  46, 130, 183, 253, 253, 207,   2,   0,   0,   0,   0,   0,\n",
       "          0,   0],\n",
       "       [  0,   0,   0,   0,   0,   0,   0,   0,   0,   0,   0,   0,  39,\n",
       "        148, 229, 253, 253, 253, 250, 182,   0,   0,   0,   0,   0,   0,\n",
       "          0,   0],\n",
       "       [  0,   0,   0,   0,   0,   0,   0,   0,   0,   0,  24, 114, 221,\n",
       "        253, 253, 253, 253, 201,  78,   0,   0,   0,   0,   0,   0,   0,\n",
       "          0,   0],\n",
       "       [  0,   0,   0,   0,   0,   0,   0,   0,  23,  66, 213, 253, 253,\n",
       "        253, 253, 198,  81,   2,   0,   0,   0,   0,   0,   0,   0,   0,\n",
       "          0,   0],\n",
       "       [  0,   0,   0,   0,   0,   0,  18, 171, 219, 253, 253, 253, 253,\n",
       "        195,  80,   9,   0,   0,   0,   0,   0,   0,   0,   0,   0,   0,\n",
       "          0,   0],\n",
       "       [  0,   0,   0,   0,  55, 172, 226, 253, 253, 253, 253, 244, 133,\n",
       "         11,   0,   0,   0,   0,   0,   0,   0,   0,   0,   0,   0,   0,\n",
       "          0,   0],\n",
       "       [  0,   0,   0,   0, 136, 253, 253, 253, 212, 135, 132,  16,   0,\n",
       "          0,   0,   0,   0,   0,   0,   0,   0,   0,   0,   0,   0,   0,\n",
       "          0,   0],\n",
       "       [  0,   0,   0,   0,   0,   0,   0,   0,   0,   0,   0,   0,   0,\n",
       "          0,   0,   0,   0,   0,   0,   0,   0,   0,   0,   0,   0,   0,\n",
       "          0,   0],\n",
       "       [  0,   0,   0,   0,   0,   0,   0,   0,   0,   0,   0,   0,   0,\n",
       "          0,   0,   0,   0,   0,   0,   0,   0,   0,   0,   0,   0,   0,\n",
       "          0,   0],\n",
       "       [  0,   0,   0,   0,   0,   0,   0,   0,   0,   0,   0,   0,   0,\n",
       "          0,   0,   0,   0,   0,   0,   0,   0,   0,   0,   0,   0,   0,\n",
       "          0,   0]], dtype=uint8)"
      ]
     },
     "execution_count": 8,
     "metadata": {},
     "output_type": "execute_result"
    }
   ],
   "source": [
    "single_image"
   ]
  },
  {
   "cell_type": "code",
   "execution_count": 10,
   "metadata": {},
   "outputs": [
    {
     "data": {
      "text/plain": [
       "(28, 28)"
      ]
     },
     "execution_count": 10,
     "metadata": {},
     "output_type": "execute_result"
    }
   ],
   "source": [
    "single_image.shape"
   ]
  },
  {
   "cell_type": "code",
   "execution_count": 13,
   "metadata": {},
   "outputs": [
    {
     "data": {
      "text/plain": [
       "<matplotlib.image.AxesImage at 0x2da7d7cac08>"
      ]
     },
     "execution_count": 13,
     "metadata": {},
     "output_type": "execute_result"
    },
    {
     "data": {
      "image/png": "[encoded data removed]",
      "text/plain": [
       "<Figure size 432x288 with 1 Axes>"
      ]
     },
     "metadata": {
      "needs_background": "light"
     },
     "output_type": "display_data"
    }
   ],
   "source": [
    "plt.imshow(single_image)"
   ]
  },
  {
   "cell_type": "code",
   "execution_count": 14,
   "metadata": {},
   "outputs": [
    {
     "data": {
      "text/plain": [
       "5"
      ]
     },
     "execution_count": 14,
     "metadata": {},
     "output_type": "execute_result"
    }
   ],
   "source": [
    "y_train[0]"
   ]
  },
  {
   "cell_type": "code",
   "execution_count": 15,
   "metadata": {},
   "outputs": [
    {
     "data": {
      "text/plain": [
       "array([5, 0, 4, ..., 5, 6, 8], dtype=uint8)"
      ]
     },
     "execution_count": 15,
     "metadata": {},
     "output_type": "execute_result"
    }
   ],
   "source": [
    "y_train"
   ]
  },
  {
   "cell_type": "markdown",
   "metadata": {},
   "source": [
    "### these are categorical values, translate them to 'one-hot-encoding' so our cnn could understand. "
   ]
  },
  {
   "cell_type": "code",
   "execution_count": 20,
   "metadata": {},
   "outputs": [],
   "source": [
    "from tensorflow.keras.utils import to_categorical"
   ]
  },
  {
   "cell_type": "code",
   "execution_count": 21,
   "metadata": {},
   "outputs": [
    {
     "data": {
      "text/plain": [
       "(60000,)"
      ]
     },
     "execution_count": 21,
     "metadata": {},
     "output_type": "execute_result"
    }
   ],
   "source": [
    "y_train.shape"
   ]
  },
  {
   "cell_type": "code",
   "execution_count": 25,
   "metadata": {},
   "outputs": [],
   "source": [
    "y_train = to_categorical(y_train)"
   ]
  },
  {
   "cell_type": "code",
   "execution_count": 27,
   "metadata": {},
   "outputs": [
    {
     "data": {
      "text/plain": [
       "(60000, 10)"
      ]
     },
     "execution_count": 27,
     "metadata": {},
     "output_type": "execute_result"
    }
   ],
   "source": [
    "y_train.shape"
   ]
  },
  {
   "cell_type": "code",
   "execution_count": 28,
   "metadata": {},
   "outputs": [
    {
     "data": {
      "text/plain": [
       "array([0., 0., 0., 0., 0., 1., 0., 0., 0., 0.], dtype=float32)"
      ]
     },
     "execution_count": 28,
     "metadata": {},
     "output_type": "execute_result"
    }
   ],
   "source": [
    "y_train[0]"
   ]
  },
  {
   "cell_type": "code",
   "execution_count": 29,
   "metadata": {},
   "outputs": [
    {
     "data": {
      "text/plain": [
       "(10000,)"
      ]
     },
     "execution_count": 29,
     "metadata": {},
     "output_type": "execute_result"
    }
   ],
   "source": [
    "y_test.shape"
   ]
  },
  {
   "cell_type": "code",
   "execution_count": 30,
   "metadata": {},
   "outputs": [],
   "source": [
    "y_test = to_categorical(y_test, num_classes=10)"
   ]
  },
  {
   "cell_type": "code",
   "execution_count": 31,
   "metadata": {},
   "outputs": [
    {
     "data": {
      "text/plain": [
       "(10000, 10)"
      ]
     },
     "execution_count": 31,
     "metadata": {},
     "output_type": "execute_result"
    }
   ],
   "source": [
    "y_test.shape"
   ]
  },
  {
   "cell_type": "code",
   "execution_count": 32,
   "metadata": {},
   "outputs": [
    {
     "data": {
      "text/plain": [
       "array([0., 0., 0., 0., 0., 0., 0., 1., 0., 0.], dtype=float32)"
      ]
     },
     "execution_count": 32,
     "metadata": {},
     "output_type": "execute_result"
    }
   ],
   "source": [
    "y_test[0]"
   ]
  },
  {
   "cell_type": "markdown",
   "metadata": {},
   "source": [
    "### Normalise the x-data"
   ]
  },
  {
   "cell_type": "code",
   "execution_count": 33,
   "metadata": {},
   "outputs": [
    {
     "data": {
      "text/plain": [
       "(60000, 28, 28)"
      ]
     },
     "execution_count": 33,
     "metadata": {},
     "output_type": "execute_result"
    }
   ],
   "source": [
    "x_train.shape"
   ]
  },
  {
   "cell_type": "code",
   "execution_count": 35,
   "metadata": {},
   "outputs": [
    {
     "data": {
      "text/plain": [
       "255"
      ]
     },
     "execution_count": 35,
     "metadata": {},
     "output_type": "execute_result"
    }
   ],
   "source": [
    "x_train.max()"
   ]
  },
  {
   "cell_type": "code",
   "execution_count": 36,
   "metadata": {},
   "outputs": [
    {
     "data": {
      "text/plain": [
       "0"
      ]
     },
     "execution_count": 36,
     "metadata": {},
     "output_type": "execute_result"
    }
   ],
   "source": [
    "x_train.min()"
   ]
  },
  {
   "cell_type": "code",
   "execution_count": 37,
   "metadata": {},
   "outputs": [],
   "source": [
    "x_train = x_train/255\n",
    "x_test = x_test/255"
   ]
  },
  {
   "cell_type": "code",
   "execution_count": 40,
   "metadata": {},
   "outputs": [
    {
     "data": {
      "text/plain": [
       "0.0"
      ]
     },
     "execution_count": 40,
     "metadata": {},
     "output_type": "execute_result"
    }
   ],
   "source": [
    "x_train.max()\n",
    "x_train.min()"
   ]
  },
  {
   "cell_type": "code",
   "execution_count": 39,
   "metadata": {},
   "outputs": [
    {
     "data": {
      "text/plain": [
       "0.0"
      ]
     },
     "execution_count": 39,
     "metadata": {},
     "output_type": "execute_result"
    }
   ],
   "source": [
    "x_test.min()"
   ]
  },
  {
   "cell_type": "code",
   "execution_count": 41,
   "metadata": {},
   "outputs": [],
   "source": [
    "scaled_single_image = x_train[0]"
   ]
  },
  {
   "cell_type": "code",
   "execution_count": 42,
   "metadata": {},
   "outputs": [
    {
     "data": {
      "text/plain": [
       "<matplotlib.image.AxesImage at 0x2da7dfef288>"
      ]
     },
     "execution_count": 42,
     "metadata": {},
     "output_type": "execute_result"
    },
    {
     "data": {
      "image/png": "[encoded data removed]",
      "text/plain": [
       "<Figure size 432x288 with 1 Axes>"
      ]
     },
     "metadata": {
      "needs_background": "light"
     },
     "output_type": "display_data"
    }
   ],
   "source": [
    "plt.imshow(scaled_single_image)"
   ]
  },
  {
   "cell_type": "code",
   "execution_count": 43,
   "metadata": {},
   "outputs": [
    {
     "data": {
      "text/plain": [
       "(28, 28)"
      ]
     },
     "execution_count": 43,
     "metadata": {},
     "output_type": "execute_result"
    }
   ],
   "source": [
    "scaled_single_image.shape"
   ]
  },
  {
   "cell_type": "markdown",
   "metadata": {},
   "source": [
    "### Reshape the data - add one more dimension to show 1RGB channel"
   ]
  },
  {
   "cell_type": "code",
   "execution_count": 45,
   "metadata": {},
   "outputs": [
    {
     "data": {
      "text/plain": [
       "(60000, 28, 28)"
      ]
     },
     "execution_count": 45,
     "metadata": {},
     "output_type": "execute_result"
    }
   ],
   "source": [
    "x_train.shape"
   ]
  },
  {
   "cell_type": "code",
   "execution_count": 46,
   "metadata": {},
   "outputs": [],
   "source": [
    "x_train = x_train.reshape(60000, 28, 28, 1)"
   ]
  },
  {
   "cell_type": "code",
   "execution_count": 47,
   "metadata": {},
   "outputs": [
    {
     "data": {
      "text/plain": [
       "(60000, 28, 28, 1)"
      ]
     },
     "execution_count": 47,
     "metadata": {},
     "output_type": "execute_result"
    }
   ],
   "source": [
    "x_train.shape"
   ]
  },
  {
   "cell_type": "code",
   "execution_count": 48,
   "metadata": {},
   "outputs": [
    {
     "data": {
      "text/plain": [
       "(10000, 28, 28)"
      ]
     },
     "execution_count": 48,
     "metadata": {},
     "output_type": "execute_result"
    }
   ],
   "source": [
    "x_test.shape"
   ]
  },
  {
   "cell_type": "code",
   "execution_count": 49,
   "metadata": {},
   "outputs": [],
   "source": [
    "x_test = x_test.reshape(10000, 28, 28, 1)"
   ]
  },
  {
   "cell_type": "code",
   "execution_count": 50,
   "metadata": {},
   "outputs": [
    {
     "data": {
      "text/plain": [
       "(10000, 28, 28, 1)"
      ]
     },
     "execution_count": 50,
     "metadata": {},
     "output_type": "execute_result"
    }
   ],
   "source": [
    "x_test.shape"
   ]
  },
  {
   "cell_type": "markdown",
   "metadata": {},
   "source": [
    "## Training the model"
   ]
  },
  {
   "cell_type": "code",
   "execution_count": 52,
   "metadata": {},
   "outputs": [],
   "source": [
    "from tensorflow.keras.models import Sequential\n",
    "from tensorflow.keras.layers import Dense, Conv2D, MaxPool2D, Flatten"
   ]
  },
  {
   "cell_type": "code",
   "execution_count": 53,
   "metadata": {},
   "outputs": [],
   "source": [
    "model = Sequential()\n",
    "\n",
    "# CONVOLUTIONAL LAYER\n",
    "model.add(Conv2D(filters=32, kernel_size=(4,4),input_shape=(28, 28, 1), activation='relu',))\n",
    "# POOLING LAYER\n",
    "model.add(MaxPool2D(pool_size=(2, 2)))\n",
    "\n",
    "# FLATTEN IMAGES FROM 28 by 28 to 764 BEFORE FINAL LAYER\n",
    "model.add(Flatten())\n",
    "\n",
    "# 128 NEURONS IN DENSE HIDDEN LAYER (YOU CAN CHANGE THIS NUMBER OF NEURONS)\n",
    "model.add(Dense(128, activation='relu'))\n",
    "\n",
    "# LAST LAYER IS THE CLASSIFIER, THUS 10 POSSIBLE CLASSES\n",
    "model.add(Dense(10, activation='softmax'))\n",
    "\n",
    "# https://keras.io/metrics/\n",
    "model.compile(loss='categorical_crossentropy',\n",
    "              optimizer='adam',\n",
    "              metrics=['accuracy']) # we can add in additional metrics https://keras.io/metrics/"
   ]
  },
  {
   "cell_type": "code",
   "execution_count": 54,
   "metadata": {},
   "outputs": [
    {
     "name": "stdout",
     "output_type": "stream",
     "text": [
      "Model: \"sequential\"\n",
      "_________________________________________________________________\n",
      "Layer (type)                 Output Shape              Param #   \n",
      "=================================================================\n",
      "conv2d (Conv2D)              (None, 25, 25, 32)        544       \n",
      "_________________________________________________________________\n",
      "max_pooling2d (MaxPooling2D) (None, 12, 12, 32)        0         \n",
      "_________________________________________________________________\n",
      "flatten (Flatten)            (None, 4608)              0         \n",
      "_________________________________________________________________\n",
      "dense (Dense)                (None, 128)               589952    \n",
      "_________________________________________________________________\n",
      "dense_1 (Dense)              (None, 10)                1290      \n",
      "=================================================================\n",
      "Total params: 591,786\n",
      "Trainable params: 591,786\n",
      "Non-trainable params: 0\n",
      "_________________________________________________________________\n"
     ]
    }
   ],
   "source": [
    "model.summary()"
   ]
  },
  {
   "cell_type": "code",
   "execution_count": 55,
   "metadata": {},
   "outputs": [],
   "source": [
    "from tensorflow.keras.callbacks import EarlyStopping"
   ]
  },
  {
   "cell_type": "code",
   "execution_count": 56,
   "metadata": {},
   "outputs": [],
   "source": [
    "early_stopping = EarlyStopping(monitor='val_loss',patience=3 )"
   ]
  },
  {
   "cell_type": "markdown",
   "metadata": {},
   "source": [
    "## Training"
   ]
  },
  {
   "cell_type": "code",
   "execution_count": 57,
   "metadata": {
    "scrolled": true
   },
   "outputs": [
    {
     "name": "stdout",
     "output_type": "stream",
     "text": [
      "Train on 60000 samples, validate on 10000 samples\n",
      "Epoch 1/10\n",
      "60000/60000 [==============================] - 26s 427us/sample - loss: 0.1398 - accuracy: 0.9574 - val_loss: 0.0511 - val_accuracy: 0.9840\n",
      "Epoch 2/10\n",
      "60000/60000 [==============================] - 25s 415us/sample - loss: 0.0477 - accuracy: 0.9853 - val_loss: 0.0469 - val_accuracy: 0.9849\n",
      "Epoch 3/10\n",
      "60000/60000 [==============================] - 26s 431us/sample - loss: 0.0311 - accuracy: 0.9904 - val_loss: 0.0424 - val_accuracy: 0.9860\n",
      "Epoch 4/10\n",
      "60000/60000 [==============================] - 27s 454us/sample - loss: 0.0209 - accuracy: 0.9934 - val_loss: 0.0393 - val_accuracy: 0.9877\n",
      "Epoch 5/10\n",
      "60000/60000 [==============================] - 27s 448us/sample - loss: 0.0142 - accuracy: 0.9953 - val_loss: 0.0378 - val_accuracy: 0.9885\n",
      "Epoch 6/10\n",
      "60000/60000 [==============================] - 26s 433us/sample - loss: 0.0115 - accuracy: 0.9961 - val_loss: 0.0394 - val_accuracy: 0.9883\n",
      "Epoch 7/10\n",
      "60000/60000 [==============================] - 27s 443us/sample - loss: 0.0092 - accuracy: 0.9969 - val_loss: 0.0382 - val_accuracy: 0.9892\n",
      "Epoch 8/10\n",
      "60000/60000 [==============================] - 26s 430us/sample - loss: 0.0060 - accuracy: 0.9980 - val_loss: 0.0515 - val_accuracy: 0.9876\n"
     ]
    },
    {
     "data": {
      "text/plain": [
       "<tensorflow.python.keras.callbacks.History at 0x2da7dfdf748>"
      ]
     },
     "execution_count": 57,
     "metadata": {},
     "output_type": "execute_result"
    }
   ],
   "source": [
    "model.fit(x=x_train, y=y_train, epochs=10, validation_data=(x_test, y_test), callbacks=[early_stopping])"
   ]
  },
  {
   "cell_type": "markdown",
   "metadata": {},
   "source": [
    "### Evaluation"
   ]
  },
  {
   "cell_type": "code",
   "execution_count": 58,
   "metadata": {},
   "outputs": [
    {
     "data": {
      "text/plain": [
       "['loss', 'accuracy']"
      ]
     },
     "execution_count": 58,
     "metadata": {},
     "output_type": "execute_result"
    }
   ],
   "source": [
    "model.metrics_names"
   ]
  },
  {
   "cell_type": "code",
   "execution_count": 59,
   "metadata": {},
   "outputs": [],
   "source": [
    "losses = pd.DataFrame(model.history.history)"
   ]
  },
  {
   "cell_type": "code",
   "execution_count": 61,
   "metadata": {},
   "outputs": [
    {
     "data": {
      "text/plain": [
       "<matplotlib.axes._subplots.AxesSubplot at 0x2da7e03d388>"
      ]
     },
     "execution_count": 61,
     "metadata": {},
     "output_type": "execute_result"
    },
    {
     "data": {
      "image/png": "[encoded data removed]",
      "text/plain": [
       "<Figure size 432x288 with 1 Axes>"
      ]
     },
     "metadata": {
      "needs_background": "light"
     },
     "output_type": "display_data"
    }
   ],
   "source": [
    "losses[['accuracy','val_accuracy']].plot()"
   ]
  },
  {
   "cell_type": "code",
   "execution_count": 62,
   "metadata": {},
   "outputs": [
    {
     "data": {
      "text/plain": [
       "<matplotlib.axes._subplots.AxesSubplot at 0x2da1a56ecc8>"
      ]
     },
     "execution_count": 62,
     "metadata": {},
     "output_type": "execute_result"
    },
    {
     "data": {
      "image/png": "[encoded data removed]",
      "text/plain": [
       "<Figure size 432x288 with 1 Axes>"
      ]
     },
     "metadata": {
      "needs_background": "light"
     },
     "output_type": "display_data"
    }
   ],
   "source": [
    "losses[['loss','val_loss']].plot()"
   ]
  },
  {
   "cell_type": "code",
   "execution_count": 65,
   "metadata": {},
   "outputs": [],
   "source": [
    "import cv2 as cv"
   ]
  },
  {
   "cell_type": "code",
   "execution_count": 164,
   "metadata": {},
   "outputs": [],
   "source": [
    "image = cv.imread('D:\\\\personal\\\\Workplace\\\\GitRepos\\\\Machine Learning\\\\MNIST-handwritten\\\\test\\\\7.jpg', \n",
    "                 cv.IMREAD_GRAYSCALE)"
   ]
  },
  {
   "cell_type": "code",
   "execution_count": null,
   "metadata": {},
   "outputs": [],
   "source": []
  },
  {
   "cell_type": "code",
   "execution_count": 165,
   "metadata": {},
   "outputs": [
    {
     "data": {
      "text/plain": [
       "<matplotlib.image.AxesImage at 0x2da1c02e708>"
      ]
     },
     "execution_count": 165,
     "metadata": {},
     "output_type": "execute_result"
    },
    {
     "data": {
      "image/png": "[encoded data removed]",
      "text/plain": [
       "<Figure size 432x288 with 1 Axes>"
      ]
     },
     "metadata": {
      "needs_background": "light"
     },
     "output_type": "display_data"
    }
   ],
   "source": [
    "plt.imshow(image)"
   ]
  },
  {
   "cell_type": "code",
   "execution_count": 166,
   "metadata": {},
   "outputs": [
    {
     "data": {
      "text/plain": [
       "(38, 39)"
      ]
     },
     "execution_count": 166,
     "metadata": {},
     "output_type": "execute_result"
    }
   ],
   "source": [
    "image.shape"
   ]
  },
  {
   "cell_type": "code",
   "execution_count": 145,
   "metadata": {},
   "outputs": [],
   "source": [
    "img_gray = cv.cvtColor(image, cv.COLOR_BGR2GRAY)"
   ]
  },
  {
   "cell_type": "code",
   "execution_count": 146,
   "metadata": {},
   "outputs": [
    {
     "data": {
      "text/plain": [
       "(38, 39)"
      ]
     },
     "execution_count": 146,
     "metadata": {},
     "output_type": "execute_result"
    }
   ],
   "source": [
    "img_gray.shape"
   ]
  },
  {
   "cell_type": "code",
   "execution_count": 168,
   "metadata": {},
   "outputs": [
    {
     "data": {
      "text/plain": [
       "<matplotlib.image.AxesImage at 0x2da1c8ed748>"
      ]
     },
     "execution_count": 168,
     "metadata": {},
     "output_type": "execute_result"
    },
    {
     "data": {
      "image/png": "[encoded data removed]",
      "text/plain": [
       "<Figure size 432x288 with 1 Axes>"
      ]
     },
     "metadata": {
      "needs_background": "light"
     },
     "output_type": "display_data"
    }
   ],
   "source": [
    "plt.imshow(img_gray.reshape(28, 28))"
   ]
  },
  {
   "cell_type": "code",
   "execution_count": 169,
   "metadata": {},
   "outputs": [
    {
     "data": {
      "text/plain": [
       "784"
      ]
     },
     "execution_count": 169,
     "metadata": {},
     "output_type": "execute_result"
    }
   ],
   "source": [
    "img_gray.size"
   ]
  },
  {
   "cell_type": "code",
   "execution_count": 170,
   "metadata": {},
   "outputs": [],
   "source": [
    "img_gray = cv.resize(img_gray, (28, 28))"
   ]
  },
  {
   "cell_type": "code",
   "execution_count": 171,
   "metadata": {},
   "outputs": [
    {
     "data": {
      "text/plain": [
       "<matplotlib.image.AxesImage at 0x2da1c94bf88>"
      ]
     },
     "execution_count": 171,
     "metadata": {},
     "output_type": "execute_result"
    },
    {
     "data": {
      "image/png": "[encoded data removed]",
      "text/plain": [
       "<Figure size 432x288 with 1 Axes>"
      ]
     },
     "metadata": {
      "needs_background": "light"
     },
     "output_type": "display_data"
    }
   ],
   "source": [
    "plt.imshow(img_gray)"
   ]
  },
  {
   "cell_type": "code",
   "execution_count": 172,
   "metadata": {},
   "outputs": [],
   "source": [
    "img_gray = img_gray.reshape(28, 28, 1)"
   ]
  },
  {
   "cell_type": "code",
   "execution_count": 173,
   "metadata": {},
   "outputs": [
    {
     "data": {
      "text/plain": [
       "(28, 28, 1)"
      ]
     },
     "execution_count": 173,
     "metadata": {},
     "output_type": "execute_result"
    }
   ],
   "source": [
    "img_gray.shape"
   ]
  },
  {
   "cell_type": "code",
   "execution_count": null,
   "metadata": {},
   "outputs": [],
   "source": []
  },
  {
   "cell_type": "code",
   "execution_count": null,
   "metadata": {},
   "outputs": [],
   "source": []
  },
  {
   "cell_type": "code",
   "execution_count": 174,
   "metadata": {},
   "outputs": [
    {
     "data": {
      "text/plain": [
       "array([[[0.61960784],\n",
       "        [0.70196078],\n",
       "        [0.69803922],\n",
       "        [0.70196078],\n",
       "        [0.71372549],\n",
       "        [0.71764706],\n",
       "        [0.71372549],\n",
       "        [0.71372549],\n",
       "        [0.71764706],\n",
       "        [0.72156863],\n",
       "        [0.7254902 ],\n",
       "        [0.73333333],\n",
       "        [0.7372549 ],\n",
       "        [0.7254902 ],\n",
       "        [0.72941176],\n",
       "        [0.73333333],\n",
       "        [0.7372549 ],\n",
       "        [0.7372549 ],\n",
       "        [0.74509804],\n",
       "        [0.74509804],\n",
       "        [0.74901961],\n",
       "        [0.74117647],\n",
       "        [0.74901961],\n",
       "        [0.74901961],\n",
       "        [0.75294118],\n",
       "        [0.74901961],\n",
       "        [0.64705882],\n",
       "        [0.45098039]],\n",
       "\n",
       "       [[0.61176471],\n",
       "        [0.70196078],\n",
       "        [0.70196078],\n",
       "        [0.70588235],\n",
       "        [0.70980392],\n",
       "        [0.70980392],\n",
       "        [0.70980392],\n",
       "        [0.71764706],\n",
       "        [0.72156863],\n",
       "        [0.72156863],\n",
       "        [0.7254902 ],\n",
       "        [0.72941176],\n",
       "        [0.72941176],\n",
       "        [0.7372549 ],\n",
       "        [0.74117647],\n",
       "        [0.74117647],\n",
       "        [0.74117647],\n",
       "        [0.74509804],\n",
       "        [0.74509804],\n",
       "        [0.74117647],\n",
       "        [0.74509804],\n",
       "        [0.74901961],\n",
       "        [0.75294118],\n",
       "        [0.76078431],\n",
       "        [0.75686275],\n",
       "        [0.75686275],\n",
       "        [0.6627451 ],\n",
       "        [0.4627451 ]],\n",
       "\n",
       "       [[0.61568627],\n",
       "        [0.70196078],\n",
       "        [0.69803922],\n",
       "        [0.70196078],\n",
       "        [0.70980392],\n",
       "        [0.71372549],\n",
       "        [0.70980392],\n",
       "        [0.71764706],\n",
       "        [0.72156863],\n",
       "        [0.72941176],\n",
       "        [0.73333333],\n",
       "        [0.7372549 ],\n",
       "        [0.7372549 ],\n",
       "        [0.74117647],\n",
       "        [0.74117647],\n",
       "        [0.74509804],\n",
       "        [0.74509804],\n",
       "        [0.74901961],\n",
       "        [0.74901961],\n",
       "        [0.74117647],\n",
       "        [0.74117647],\n",
       "        [0.75294118],\n",
       "        [0.76078431],\n",
       "        [0.76470588],\n",
       "        [0.76078431],\n",
       "        [0.76862745],\n",
       "        [0.68627451],\n",
       "        [0.45490196]],\n",
       "\n",
       "       [[0.61568627],\n",
       "        [0.70588235],\n",
       "        [0.70196078],\n",
       "        [0.70588235],\n",
       "        [0.70980392],\n",
       "        [0.71372549],\n",
       "        [0.71372549],\n",
       "        [0.70980392],\n",
       "        [0.71764706],\n",
       "        [0.72941176],\n",
       "        [0.7254902 ],\n",
       "        [0.72941176],\n",
       "        [0.73333333],\n",
       "        [0.73333333],\n",
       "        [0.74509804],\n",
       "        [0.75294118],\n",
       "        [0.75294118],\n",
       "        [0.75294118],\n",
       "        [0.74901961],\n",
       "        [0.74509804],\n",
       "        [0.72941176],\n",
       "        [0.74509804],\n",
       "        [0.75686275],\n",
       "        [0.77254902],\n",
       "        [0.77254902],\n",
       "        [0.77254902],\n",
       "        [0.69803922],\n",
       "        [0.45490196]],\n",
       "\n",
       "       [[0.60392157],\n",
       "        [0.70588235],\n",
       "        [0.70980392],\n",
       "        [0.72156863],\n",
       "        [0.71372549],\n",
       "        [0.70980392],\n",
       "        [0.71764706],\n",
       "        [0.71372549],\n",
       "        [0.72156863],\n",
       "        [0.7254902 ],\n",
       "        [0.7254902 ],\n",
       "        [0.72941176],\n",
       "        [0.73333333],\n",
       "        [0.7372549 ],\n",
       "        [0.74901961],\n",
       "        [0.75294118],\n",
       "        [0.74901961],\n",
       "        [0.74901961],\n",
       "        [0.74509804],\n",
       "        [0.74509804],\n",
       "        [0.7254902 ],\n",
       "        [0.74901961],\n",
       "        [0.74901961],\n",
       "        [0.76470588],\n",
       "        [0.77254902],\n",
       "        [0.76078431],\n",
       "        [0.70588235],\n",
       "        [0.45882353]],\n",
       "\n",
       "       [[0.57647059],\n",
       "        [0.69019608],\n",
       "        [0.69803922],\n",
       "        [0.71372549],\n",
       "        [0.70588235],\n",
       "        [0.70196078],\n",
       "        [0.70196078],\n",
       "        [0.71764706],\n",
       "        [0.72156863],\n",
       "        [0.72156863],\n",
       "        [0.72941176],\n",
       "        [0.72941176],\n",
       "        [0.7254902 ],\n",
       "        [0.7372549 ],\n",
       "        [0.74901961],\n",
       "        [0.75294118],\n",
       "        [0.75294118],\n",
       "        [0.75686275],\n",
       "        [0.74901961],\n",
       "        [0.75294118],\n",
       "        [0.73333333],\n",
       "        [0.76078431],\n",
       "        [0.75686275],\n",
       "        [0.76470588],\n",
       "        [0.78039216],\n",
       "        [0.76470588],\n",
       "        [0.71764706],\n",
       "        [0.47058824]],\n",
       "\n",
       "       [[0.59607843],\n",
       "        [0.69411765],\n",
       "        [0.71372549],\n",
       "        [0.69411765],\n",
       "        [0.71372549],\n",
       "        [0.71372549],\n",
       "        [0.70196078],\n",
       "        [0.70980392],\n",
       "        [0.71764706],\n",
       "        [0.72156863],\n",
       "        [0.72941176],\n",
       "        [0.7254902 ],\n",
       "        [0.74117647],\n",
       "        [0.74117647],\n",
       "        [0.74901961],\n",
       "        [0.75294118],\n",
       "        [0.74509804],\n",
       "        [0.74117647],\n",
       "        [0.74509804],\n",
       "        [0.74901961],\n",
       "        [0.76078431],\n",
       "        [0.76470588],\n",
       "        [0.76862745],\n",
       "        [0.76078431],\n",
       "        [0.78039216],\n",
       "        [0.77647059],\n",
       "        [0.7254902 ],\n",
       "        [0.49019608]],\n",
       "\n",
       "       [[0.59607843],\n",
       "        [0.69803922],\n",
       "        [0.70980392],\n",
       "        [0.70588235],\n",
       "        [0.71372549],\n",
       "        [0.7254902 ],\n",
       "        [0.71372549],\n",
       "        [0.71372549],\n",
       "        [0.71764706],\n",
       "        [0.72941176],\n",
       "        [0.73333333],\n",
       "        [0.7372549 ],\n",
       "        [0.74901961],\n",
       "        [0.74901961],\n",
       "        [0.7372549 ],\n",
       "        [0.77254902],\n",
       "        [0.76078431],\n",
       "        [0.76470588],\n",
       "        [0.74509804],\n",
       "        [0.76078431],\n",
       "        [0.75686275],\n",
       "        [0.76862745],\n",
       "        [0.77254902],\n",
       "        [0.77254902],\n",
       "        [0.78431373],\n",
       "        [0.77647059],\n",
       "        [0.7372549 ],\n",
       "        [0.50980392]],\n",
       "\n",
       "       [[0.59215686],\n",
       "        [0.69803922],\n",
       "        [0.70196078],\n",
       "        [0.70980392],\n",
       "        [0.70588235],\n",
       "        [0.7254902 ],\n",
       "        [0.7254902 ],\n",
       "        [0.73333333],\n",
       "        [0.74117647],\n",
       "        [0.7254902 ],\n",
       "        [0.71764706],\n",
       "        [0.74117647],\n",
       "        [0.75686275],\n",
       "        [0.74117647],\n",
       "        [0.75294118],\n",
       "        [0.78039216],\n",
       "        [0.74117647],\n",
       "        [0.71764706],\n",
       "        [0.75686275],\n",
       "        [0.76078431],\n",
       "        [0.75294118],\n",
       "        [0.76862745],\n",
       "        [0.78039216],\n",
       "        [0.78823529],\n",
       "        [0.78823529],\n",
       "        [0.78431373],\n",
       "        [0.76078431],\n",
       "        [0.53333333]],\n",
       "\n",
       "       [[0.58823529],\n",
       "        [0.69411765],\n",
       "        [0.69803922],\n",
       "        [0.71372549],\n",
       "        [0.70980392],\n",
       "        [0.7254902 ],\n",
       "        [0.7372549 ],\n",
       "        [0.74117647],\n",
       "        [0.7372549 ],\n",
       "        [0.74901961],\n",
       "        [0.6745098 ],\n",
       "        [0.56862745],\n",
       "        [0.56078431],\n",
       "        [0.54901961],\n",
       "        [0.55686275],\n",
       "        [0.52156863],\n",
       "        [0.5254902 ],\n",
       "        [0.50196078],\n",
       "        [0.7254902 ],\n",
       "        [0.77647059],\n",
       "        [0.79215686],\n",
       "        [0.78823529],\n",
       "        [0.78431373],\n",
       "        [0.78823529],\n",
       "        [0.79215686],\n",
       "        [0.78823529],\n",
       "        [0.77647059],\n",
       "        [0.55294118]],\n",
       "\n",
       "       [[0.6       ],\n",
       "        [0.70588235],\n",
       "        [0.70980392],\n",
       "        [0.72941176],\n",
       "        [0.72941176],\n",
       "        [0.73333333],\n",
       "        [0.7254902 ],\n",
       "        [0.7372549 ],\n",
       "        [0.7372549 ],\n",
       "        [0.74117647],\n",
       "        [0.68235294],\n",
       "        [0.62352941],\n",
       "        [0.64313725],\n",
       "        [0.6627451 ],\n",
       "        [0.69019608],\n",
       "        [0.69019608],\n",
       "        [0.57254902],\n",
       "        [0.5372549 ],\n",
       "        [0.76078431],\n",
       "        [0.78431373],\n",
       "        [0.78039216],\n",
       "        [0.78039216],\n",
       "        [0.79607843],\n",
       "        [0.8       ],\n",
       "        [0.8       ],\n",
       "        [0.79215686],\n",
       "        [0.78039216],\n",
       "        [0.56078431]],\n",
       "\n",
       "       [[0.60784314],\n",
       "        [0.70588235],\n",
       "        [0.71764706],\n",
       "        [0.72941176],\n",
       "        [0.72941176],\n",
       "        [0.72941176],\n",
       "        [0.74117647],\n",
       "        [0.7372549 ],\n",
       "        [0.74117647],\n",
       "        [0.74901961],\n",
       "        [0.74901961],\n",
       "        [0.75686275],\n",
       "        [0.74901961],\n",
       "        [0.76078431],\n",
       "        [0.76078431],\n",
       "        [0.74509804],\n",
       "        [0.54901961],\n",
       "        [0.6627451 ],\n",
       "        [0.78039216],\n",
       "        [0.77647059],\n",
       "        [0.78039216],\n",
       "        [0.79215686],\n",
       "        [0.8       ],\n",
       "        [0.79215686],\n",
       "        [0.8       ],\n",
       "        [0.79607843],\n",
       "        [0.78431373],\n",
       "        [0.58039216]],\n",
       "\n",
       "       [[0.62352941],\n",
       "        [0.70196078],\n",
       "        [0.72156863],\n",
       "        [0.7254902 ],\n",
       "        [0.73333333],\n",
       "        [0.74117647],\n",
       "        [0.74509804],\n",
       "        [0.74509804],\n",
       "        [0.74901961],\n",
       "        [0.74901961],\n",
       "        [0.74901961],\n",
       "        [0.75294118],\n",
       "        [0.76078431],\n",
       "        [0.76078431],\n",
       "        [0.77647059],\n",
       "        [0.67843137],\n",
       "        [0.52941176],\n",
       "        [0.74901961],\n",
       "        [0.77647059],\n",
       "        [0.78039216],\n",
       "        [0.78823529],\n",
       "        [0.79215686],\n",
       "        [0.79607843],\n",
       "        [0.79607843],\n",
       "        [0.8       ],\n",
       "        [0.79215686],\n",
       "        [0.79215686],\n",
       "        [0.61568627]],\n",
       "\n",
       "       [[0.62745098],\n",
       "        [0.70196078],\n",
       "        [0.7254902 ],\n",
       "        [0.72941176],\n",
       "        [0.7372549 ],\n",
       "        [0.74117647],\n",
       "        [0.74117647],\n",
       "        [0.74117647],\n",
       "        [0.74901961],\n",
       "        [0.74901961],\n",
       "        [0.74901961],\n",
       "        [0.75686275],\n",
       "        [0.76078431],\n",
       "        [0.76470588],\n",
       "        [0.76862745],\n",
       "        [0.55294118],\n",
       "        [0.58823529],\n",
       "        [0.78039216],\n",
       "        [0.78823529],\n",
       "        [0.79215686],\n",
       "        [0.8       ],\n",
       "        [0.8       ],\n",
       "        [0.8       ],\n",
       "        [0.79607843],\n",
       "        [0.80392157],\n",
       "        [0.8       ],\n",
       "        [0.79607843],\n",
       "        [0.63529412]],\n",
       "\n",
       "       [[0.63921569],\n",
       "        [0.69803922],\n",
       "        [0.7254902 ],\n",
       "        [0.73333333],\n",
       "        [0.7372549 ],\n",
       "        [0.74509804],\n",
       "        [0.74509804],\n",
       "        [0.74509804],\n",
       "        [0.75686275],\n",
       "        [0.74901961],\n",
       "        [0.75294118],\n",
       "        [0.76470588],\n",
       "        [0.77647059],\n",
       "        [0.76470588],\n",
       "        [0.70196078],\n",
       "        [0.47843137],\n",
       "        [0.69803922],\n",
       "        [0.77647059],\n",
       "        [0.78823529],\n",
       "        [0.8       ],\n",
       "        [0.80784314],\n",
       "        [0.80392157],\n",
       "        [0.8       ],\n",
       "        [0.8       ],\n",
       "        [0.80784314],\n",
       "        [0.8       ],\n",
       "        [0.8       ],\n",
       "        [0.65882353]],\n",
       "\n",
       "       [[0.64705882],\n",
       "        [0.69803922],\n",
       "        [0.7254902 ],\n",
       "        [0.7372549 ],\n",
       "        [0.74117647],\n",
       "        [0.74509804],\n",
       "        [0.74509804],\n",
       "        [0.75294118],\n",
       "        [0.75686275],\n",
       "        [0.74901961],\n",
       "        [0.74901961],\n",
       "        [0.76470588],\n",
       "        [0.76078431],\n",
       "        [0.76470588],\n",
       "        [0.59215686],\n",
       "        [0.54901961],\n",
       "        [0.77254902],\n",
       "        [0.78431373],\n",
       "        [0.78823529],\n",
       "        [0.8       ],\n",
       "        [0.80392157],\n",
       "        [0.8       ],\n",
       "        [0.8       ],\n",
       "        [0.80392157],\n",
       "        [0.80784314],\n",
       "        [0.79607843],\n",
       "        [0.79607843],\n",
       "        [0.67843137]],\n",
       "\n",
       "       [[0.65098039],\n",
       "        [0.69019608],\n",
       "        [0.7254902 ],\n",
       "        [0.7372549 ],\n",
       "        [0.74117647],\n",
       "        [0.74509804],\n",
       "        [0.74509804],\n",
       "        [0.74901961],\n",
       "        [0.75294118],\n",
       "        [0.75294118],\n",
       "        [0.75686275],\n",
       "        [0.76078431],\n",
       "        [0.74901961],\n",
       "        [0.7254902 ],\n",
       "        [0.5372549 ],\n",
       "        [0.68235294],\n",
       "        [0.78431373],\n",
       "        [0.78039216],\n",
       "        [0.78431373],\n",
       "        [0.78823529],\n",
       "        [0.79215686],\n",
       "        [0.79607843],\n",
       "        [0.80392157],\n",
       "        [0.8       ],\n",
       "        [0.80392157],\n",
       "        [0.79215686],\n",
       "        [0.8       ],\n",
       "        [0.70588235]],\n",
       "\n",
       "       [[0.6627451 ],\n",
       "        [0.69803922],\n",
       "        [0.73333333],\n",
       "        [0.74509804],\n",
       "        [0.74509804],\n",
       "        [0.75686275],\n",
       "        [0.75686275],\n",
       "        [0.75294118],\n",
       "        [0.75294118],\n",
       "        [0.76078431],\n",
       "        [0.76078431],\n",
       "        [0.76078431],\n",
       "        [0.77254902],\n",
       "        [0.66666667],\n",
       "        [0.56078431],\n",
       "        [0.77647059],\n",
       "        [0.79215686],\n",
       "        [0.78431373],\n",
       "        [0.78823529],\n",
       "        [0.79607843],\n",
       "        [0.8       ],\n",
       "        [0.8       ],\n",
       "        [0.8       ],\n",
       "        [0.80392157],\n",
       "        [0.81176471],\n",
       "        [0.80392157],\n",
       "        [0.81176471],\n",
       "        [0.72941176]],\n",
       "\n",
       "       [[0.6745098 ],\n",
       "        [0.69411765],\n",
       "        [0.73333333],\n",
       "        [0.74509804],\n",
       "        [0.7372549 ],\n",
       "        [0.75686275],\n",
       "        [0.75686275],\n",
       "        [0.75686275],\n",
       "        [0.75686275],\n",
       "        [0.75686275],\n",
       "        [0.75686275],\n",
       "        [0.76470588],\n",
       "        [0.76862745],\n",
       "        [0.55294118],\n",
       "        [0.63529412],\n",
       "        [0.8       ],\n",
       "        [0.78431373],\n",
       "        [0.78823529],\n",
       "        [0.79215686],\n",
       "        [0.8       ],\n",
       "        [0.8       ],\n",
       "        [0.79607843],\n",
       "        [0.80392157],\n",
       "        [0.8       ],\n",
       "        [0.81176471],\n",
       "        [0.80784314],\n",
       "        [0.81568627],\n",
       "        [0.74117647]],\n",
       "\n",
       "       [[0.67843137],\n",
       "        [0.69411765],\n",
       "        [0.73333333],\n",
       "        [0.74901961],\n",
       "        [0.7372549 ],\n",
       "        [0.74901961],\n",
       "        [0.74901961],\n",
       "        [0.75686275],\n",
       "        [0.76078431],\n",
       "        [0.76078431],\n",
       "        [0.76078431],\n",
       "        [0.76862745],\n",
       "        [0.69803922],\n",
       "        [0.51764706],\n",
       "        [0.72941176],\n",
       "        [0.76470588],\n",
       "        [0.78431373],\n",
       "        [0.78431373],\n",
       "        [0.78823529],\n",
       "        [0.8       ],\n",
       "        [0.80784314],\n",
       "        [0.80392157],\n",
       "        [0.81176471],\n",
       "        [0.80784314],\n",
       "        [0.81568627],\n",
       "        [0.81176471],\n",
       "        [0.81568627],\n",
       "        [0.75294118]],\n",
       "\n",
       "       [[0.67843137],\n",
       "        [0.68627451],\n",
       "        [0.73333333],\n",
       "        [0.74117647],\n",
       "        [0.74509804],\n",
       "        [0.75294118],\n",
       "        [0.74901961],\n",
       "        [0.74901961],\n",
       "        [0.75294118],\n",
       "        [0.75686275],\n",
       "        [0.76078431],\n",
       "        [0.76470588],\n",
       "        [0.65098039],\n",
       "        [0.63921569],\n",
       "        [0.76862745],\n",
       "        [0.77647059],\n",
       "        [0.77647059],\n",
       "        [0.78823529],\n",
       "        [0.78823529],\n",
       "        [0.79215686],\n",
       "        [0.79215686],\n",
       "        [0.79215686],\n",
       "        [0.8       ],\n",
       "        [0.80392157],\n",
       "        [0.80784314],\n",
       "        [0.8       ],\n",
       "        [0.80392157],\n",
       "        [0.76078431]],\n",
       "\n",
       "       [[0.68627451],\n",
       "        [0.68235294],\n",
       "        [0.72941176],\n",
       "        [0.7372549 ],\n",
       "        [0.74509804],\n",
       "        [0.75686275],\n",
       "        [0.75294118],\n",
       "        [0.74901961],\n",
       "        [0.74901961],\n",
       "        [0.75686275],\n",
       "        [0.75686275],\n",
       "        [0.76078431],\n",
       "        [0.75686275],\n",
       "        [0.76862745],\n",
       "        [0.76862745],\n",
       "        [0.78431373],\n",
       "        [0.77254902],\n",
       "        [0.78039216],\n",
       "        [0.78431373],\n",
       "        [0.79215686],\n",
       "        [0.79215686],\n",
       "        [0.78823529],\n",
       "        [0.79215686],\n",
       "        [0.79607843],\n",
       "        [0.8       ],\n",
       "        [0.79607843],\n",
       "        [0.79607843],\n",
       "        [0.77647059]],\n",
       "\n",
       "       [[0.68627451],\n",
       "        [0.6745098 ],\n",
       "        [0.7254902 ],\n",
       "        [0.73333333],\n",
       "        [0.74509804],\n",
       "        [0.74901961],\n",
       "        [0.74901961],\n",
       "        [0.74509804],\n",
       "        [0.75686275],\n",
       "        [0.76470588],\n",
       "        [0.76078431],\n",
       "        [0.77254902],\n",
       "        [0.78823529],\n",
       "        [0.78823529],\n",
       "        [0.77254902],\n",
       "        [0.76862745],\n",
       "        [0.78431373],\n",
       "        [0.78431373],\n",
       "        [0.78431373],\n",
       "        [0.79607843],\n",
       "        [0.80392157],\n",
       "        [0.8       ],\n",
       "        [0.8       ],\n",
       "        [0.80392157],\n",
       "        [0.81176471],\n",
       "        [0.8       ],\n",
       "        [0.8       ],\n",
       "        [0.78823529]],\n",
       "\n",
       "       [[0.69019608],\n",
       "        [0.66666667],\n",
       "        [0.73333333],\n",
       "        [0.74117647],\n",
       "        [0.74117647],\n",
       "        [0.75294118],\n",
       "        [0.75294118],\n",
       "        [0.75294118],\n",
       "        [0.75686275],\n",
       "        [0.76862745],\n",
       "        [0.77647059],\n",
       "        [0.77254902],\n",
       "        [0.77647059],\n",
       "        [0.77254902],\n",
       "        [0.76862745],\n",
       "        [0.78039216],\n",
       "        [0.77254902],\n",
       "        [0.78431373],\n",
       "        [0.78431373],\n",
       "        [0.78823529],\n",
       "        [0.78823529],\n",
       "        [0.79215686],\n",
       "        [0.79607843],\n",
       "        [0.80392157],\n",
       "        [0.80784314],\n",
       "        [0.80392157],\n",
       "        [0.80392157],\n",
       "        [0.80392157]],\n",
       "\n",
       "       [[0.70196078],\n",
       "        [0.6745098 ],\n",
       "        [0.72941176],\n",
       "        [0.7372549 ],\n",
       "        [0.74509804],\n",
       "        [0.75294118],\n",
       "        [0.75294118],\n",
       "        [0.75294118],\n",
       "        [0.75686275],\n",
       "        [0.76078431],\n",
       "        [0.77254902],\n",
       "        [0.76862745],\n",
       "        [0.76862745],\n",
       "        [0.77254902],\n",
       "        [0.76862745],\n",
       "        [0.76862745],\n",
       "        [0.77647059],\n",
       "        [0.77647059],\n",
       "        [0.77647059],\n",
       "        [0.78431373],\n",
       "        [0.78823529],\n",
       "        [0.8       ],\n",
       "        [0.80392157],\n",
       "        [0.79215686],\n",
       "        [0.8       ],\n",
       "        [0.8       ],\n",
       "        [0.79215686],\n",
       "        [0.79607843]],\n",
       "\n",
       "       [[0.70196078],\n",
       "        [0.67058824],\n",
       "        [0.73333333],\n",
       "        [0.73333333],\n",
       "        [0.74509804],\n",
       "        [0.74117647],\n",
       "        [0.75294118],\n",
       "        [0.76078431],\n",
       "        [0.75686275],\n",
       "        [0.75294118],\n",
       "        [0.75294118],\n",
       "        [0.76078431],\n",
       "        [0.75686275],\n",
       "        [0.75294118],\n",
       "        [0.75686275],\n",
       "        [0.75686275],\n",
       "        [0.74901961],\n",
       "        [0.74509804],\n",
       "        [0.7254902 ],\n",
       "        [0.70980392],\n",
       "        [0.69803922],\n",
       "        [0.69019608],\n",
       "        [0.6745098 ],\n",
       "        [0.64313725],\n",
       "        [0.61568627],\n",
       "        [0.59607843],\n",
       "        [0.57647059],\n",
       "        [0.54509804]],\n",
       "\n",
       "       [[0.67843137],\n",
       "        [0.63921569],\n",
       "        [0.70980392],\n",
       "        [0.69019608],\n",
       "        [0.68235294],\n",
       "        [0.6745098 ],\n",
       "        [0.66666667],\n",
       "        [0.65882353],\n",
       "        [0.63529412],\n",
       "        [0.62745098],\n",
       "        [0.60392157],\n",
       "        [0.59215686],\n",
       "        [0.56470588],\n",
       "        [0.55686275],\n",
       "        [0.54117647],\n",
       "        [0.52156863],\n",
       "        [0.51372549],\n",
       "        [0.49411765],\n",
       "        [0.49019608],\n",
       "        [0.49803922],\n",
       "        [0.49803922],\n",
       "        [0.50196078],\n",
       "        [0.50588235],\n",
       "        [0.50588235],\n",
       "        [0.53333333],\n",
       "        [0.55294118],\n",
       "        [0.56470588],\n",
       "        [0.57254902]],\n",
       "\n",
       "       [[0.51372549],\n",
       "        [0.47843137],\n",
       "        [0.49411765],\n",
       "        [0.47058824],\n",
       "        [0.47843137],\n",
       "        [0.45882353],\n",
       "        [0.44705882],\n",
       "        [0.44313725],\n",
       "        [0.45098039],\n",
       "        [0.47058824],\n",
       "        [0.4627451 ],\n",
       "        [0.49019608],\n",
       "        [0.50196078],\n",
       "        [0.54117647],\n",
       "        [0.57254902],\n",
       "        [0.59607843],\n",
       "        [0.63529412],\n",
       "        [0.65098039],\n",
       "        [0.6745098 ],\n",
       "        [0.69803922],\n",
       "        [0.70196078],\n",
       "        [0.7254902 ],\n",
       "        [0.75294118],\n",
       "        [0.76078431],\n",
       "        [0.75686275],\n",
       "        [0.76078431],\n",
       "        [0.79215686],\n",
       "        [0.77647059]]])"
      ]
     },
     "execution_count": 174,
     "metadata": {},
     "output_type": "execute_result"
    }
   ],
   "source": [
    "img_gray"
   ]
  },
  {
   "cell_type": "code",
   "execution_count": 154,
   "metadata": {},
   "outputs": [],
   "source": [
    "img_gray = img_gray/ 255"
   ]
  },
  {
   "cell_type": "code",
   "execution_count": 176,
   "metadata": {},
   "outputs": [
    {
     "data": {
      "text/plain": [
       "0.8156862745098039"
      ]
     },
     "execution_count": 176,
     "metadata": {},
     "output_type": "execute_result"
    }
   ],
   "source": [
    "img_gray.max()"
   ]
  },
  {
   "cell_type": "code",
   "execution_count": 177,
   "metadata": {},
   "outputs": [
    {
     "data": {
      "text/plain": [
       "<matplotlib.image.AxesImage at 0x2da1c9a9248>"
      ]
     },
     "execution_count": 177,
     "metadata": {},
     "output_type": "execute_result"
    },
    {
     "data": {
      "image/png": "[encoded data removed]",
      "text/plain": [
       "<Figure size 432x288 with 1 Axes>"
      ]
     },
     "metadata": {
      "needs_background": "light"
     },
     "output_type": "display_data"
    }
   ],
   "source": [
    "plt.imshow(img_gray.reshape(28, 28))"
   ]
  },
  {
   "cell_type": "code",
   "execution_count": 178,
   "metadata": {},
   "outputs": [
    {
     "data": {
      "text/plain": [
       "(28, 28, 1)"
      ]
     },
     "execution_count": 178,
     "metadata": {},
     "output_type": "execute_result"
    }
   ],
   "source": [
    "img_gray.shape"
   ]
  },
  {
   "cell_type": "code",
   "execution_count": 180,
   "metadata": {},
   "outputs": [
    {
     "data": {
      "text/plain": [
       "array([1], dtype=int64)"
      ]
     },
     "execution_count": 180,
     "metadata": {},
     "output_type": "execute_result"
    }
   ],
   "source": [
    "model.predict_classes(img_gray.reshape(1, 28, 28, 1))"
   ]
  },
  {
   "cell_type": "code",
   "execution_count": null,
   "metadata": {},
   "outputs": [],
   "source": []
  },
  {
   "cell_type": "code",
   "execution_count": 163,
   "metadata": {},
   "outputs": [
    {
     "data": {
      "text/plain": [
       "<matplotlib.image.AxesImage at 0x2da1c8711c8>"
      ]
     },
     "execution_count": 163,
     "metadata": {},
     "output_type": "execute_result"
    },
    {
     "data": {
      "image/png": "[encoded data removed]",
      "text/plain": [
       "<Figure size 432x288 with 1 Axes>"
      ]
     },
     "metadata": {
      "needs_background": "light"
     },
     "output_type": "display_data"
    }
   ],
   "source": [
    "plt.imshow(x_test[0].reshape(28, 28))"
   ]
  },
  {
   "cell_type": "code",
   "execution_count": null,
   "metadata": {},
   "outputs": [],
   "source": []
  },
  {
   "cell_type": "code",
   "execution_count": null,
   "metadata": {},
   "outputs": [],
   "source": []
  },
  {
   "cell_type": "code",
   "execution_count": null,
   "metadata": {},
   "outputs": [],
   "source": []
  },
  {
   "cell_type": "code",
   "execution_count": null,
   "metadata": {},
   "outputs": [],
   "source": []
  },
  {
   "cell_type": "code",
   "execution_count": null,
   "metadata": {},
   "outputs": [],
   "source": []
  },
  {
   "cell_type": "code",
   "execution_count": null,
   "metadata": {},
   "outputs": [],
   "source": []
  },
  {
   "cell_type": "code",
   "execution_count": null,
   "metadata": {},
   "outputs": [],
   "source": []
  },
  {
   "cell_type": "code",
   "execution_count": null,
   "metadata": {},
   "outputs": [],
   "source": []
  },
  {
   "cell_type": "code",
   "execution_count": null,
   "metadata": {},
   "outputs": [],
   "source": []
  },
  {
   "cell_type": "code",
   "execution_count": null,
   "metadata": {},
   "outputs": [],
   "source": []
  },
  {
   "cell_type": "code",
   "execution_count": null,
   "metadata": {},
   "outputs": [],
   "source": []
  },
  {
   "cell_type": "code",
   "execution_count": null,
   "metadata": {},
   "outputs": [],
   "source": []
  },
  {
   "cell_type": "code",
   "execution_count": null,
   "metadata": {},
   "outputs": [],
   "source": []
  },
  {
   "cell_type": "code",
   "execution_count": null,
   "metadata": {},
   "outputs": [],
   "source": []
  },
  {
   "cell_type": "code",
   "execution_count": null,
   "metadata": {},
   "outputs": [],
   "source": []
  }
 ],
 "metadata": {
  "kernelspec": {
   "display_name": "Python 3",
   "language": "python",
   "name": "python3"
  },
  "language_info": {
   "codemirror_mode": {
    "name": "ipython",
    "version": 3
   },
   "file_extension": ".py",
   "mimetype": "text/x-python",
   "name": "python",
   "nbconvert_exporter": "python",
   "pygments_lexer": "ipython3",
   "version": "3.7.7"
  }
 },
 "nbformat": 4,
 "nbformat_minor": 4
}
